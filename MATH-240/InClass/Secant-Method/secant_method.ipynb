{
 "cells": [
  {
   "cell_type": "markdown",
   "metadata": {},
   "source": [
    "# Secant Method in Code\n",
    "\n",
    "Below is the secant method written in python. Because we are working with approximations, we pass a maximum number of iterations. If we make it within a specified tolerance of a zero, then we will return the answer before doing all the iterations. "
   ]
  },
  {
   "cell_type": "code",
   "execution_count": null,
   "metadata": {},
   "outputs": [],
   "source": [
    "def secant_method(f, x0, x1, max_iter = 100, tol = 1e-6):\n",
    "    \"\"\"\n",
    "    Secant method for finding a root of the equation f(x) = 0.\n",
    "\n",
    "    Parameters:\n",
    "    f        : Function for which we want to find the root.\n",
    "    x0, x1   : Initial guesses for the root.\n",
    "    tol      : Tolerance for stopping criterion.\n",
    "    max_iter : Maximum number of iterations.\n",
    "\n",
    "    Returns:\n",
    "    Approximate root of the function.\n",
    "    \"\"\"\n",
    "    for i in range(max_iter):\n",
    "        # Calculate the value of the function at the guesses\n",
    "        f_x0 = f(x0)\n",
    "        f_x1 = f(x1)\n",
    "        \n",
    "        # Secant method formula to find the next approximation\n",
    "        x2 = x1 - f_x1 * (x1 - x0) / (f_x1 - f_x0)\n",
    "        \n",
    "        # Check for convergence\n",
    "        if abs(x2 - x1) < tol:\n",
    "            print(f\"Converged after {i+1} iterations.\")\n",
    "            return x2\n",
    "        \n",
    "        # Update guesses for the next iteration\n",
    "        x0, x1 = x1, x2\n",
    "    \n",
    "    print(\"Warning: Maximum iterations reached without convergence.\")\n",
    "    return x2"
   ]
  },
  {
   "cell_type": "markdown",
   "metadata": {},
   "source": [
    "Here is the example from the reading"
   ]
  },
  {
   "cell_type": "code",
   "execution_count": 3,
   "metadata": {},
   "outputs": [
    {
     "name": "stdout",
     "output_type": "stream",
     "text": [
      "Converged after 5 iterations.\n",
      "Approximate root: 0.20163967572128236\n"
     ]
    }
   ],
   "source": [
    "# Example from text\n",
    "# f(x) = x^2 - 4\n",
    "def f(x):\n",
    "    return x**3 - 5*x + 1 \n",
    "\n",
    "# Initial guesses\n",
    "x0 = 0.0\n",
    "x1 = 1.0\n",
    "\n",
    "# Call secant_method to find the root\n",
    "root = secant_method(f, x0, x1, 5)\n",
    "print(f\"Approximate root: {root}\")"
   ]
  }
 ],
 "metadata": {
  "kernelspec": {
   "display_name": "Python 3",
   "language": "python",
   "name": "python3"
  },
  "language_info": {
   "codemirror_mode": {
    "name": "ipython",
    "version": 3
   },
   "file_extension": ".py",
   "mimetype": "text/x-python",
   "name": "python",
   "nbconvert_exporter": "python",
   "pygments_lexer": "ipython3",
   "version": "3.11.8"
  }
 },
 "nbformat": 4,
 "nbformat_minor": 2
}
