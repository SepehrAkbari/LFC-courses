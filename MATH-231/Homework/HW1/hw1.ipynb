{
 "cells": [
  {
   "cell_type": "markdown",
   "metadata": {},
   "source": [
    "## Homework 1\n",
    "\n",
    "### Problem 1"
   ]
  },
  {
   "cell_type": "code",
   "execution_count": 8,
   "metadata": {},
   "outputs": [
    {
     "name": "stdout",
     "output_type": "stream",
     "text": [
      "(a + b) + c = 1.0\n",
      "a + (b + c) = 1.0\n",
      "Are the results equal? True\n"
     ]
    }
   ],
   "source": [
    "a = 1.0\n",
    "b = 1E8\n",
    "c = -1E8\n",
    "\n",
    "x1 = (a + b) + c\n",
    "x2 = a + (b + c)\n",
    "\n",
    "print(\"(a + b) + c =\", x1)\n",
    "print(\"a + (b + c) =\", x2)\n",
    "print(\"Are the results equal?\", x1 == x2)"
   ]
  },
  {
   "cell_type": "markdown",
   "metadata": {},
   "source": [
    "This is showing that $(a+b)+c = a+(b+c)$, but this is because our example is not significant enough."
   ]
  },
  {
   "cell_type": "code",
   "execution_count": 9,
   "metadata": {},
   "outputs": [
    {
     "name": "stdout",
     "output_type": "stream",
     "text": [
      "(a + b) + c = 0.0\n",
      "a + (b + c) = 1.0\n",
      "Are the results equal? False\n"
     ]
    }
   ],
   "source": [
    "a = 1.0\n",
    "b = 1E100\n",
    "c = -1E100\n",
    "\n",
    "x1 = (a + b) + c\n",
    "x2 = a + (b + c)\n",
    "\n",
    "print(\"(a + b) + c =\", x1)\n",
    "print(\"a + (b + c) =\", x2)\n",
    "print(\"Are the results equal?\", x1 == x2)"
   ]
  },
  {
   "cell_type": "markdown",
   "metadata": {},
   "source": [
    "Here, $(a+b)+c \\ne a+(b+c)$ is shown. Which means floating point numbers in computers are not associative."
   ]
  },
  {
   "cell_type": "markdown",
   "metadata": {},
   "source": [
    "### Problem 2\n",
    "\n",
    "under $\\circ$, We need to find $x$ such that $\\text{max}(2,x) = 1$:\n",
    "\n",
    "- $\\text{max}(2,x) \\ge 2$ because $2 > 1$ so the answer is either $2$ or $3$.\n",
    "- So $\\text{max}(2,x) \\ne 1$, therefore 2 does not have an inverse\n",
    "\n",
    "under *, we need to find $x$ such that $\\text{min}(2,x) = 3$:\n",
    "\n",
    "- $\\text{min}(2,x) \\le 2$ because $2 < 3$ so the answer is either $2$ or $1$.\n",
    "- So $\\text{min}(2,x) \\ne 3$, therefore 2 does not have an inverse."
   ]
  },
  {
   "cell_type": "markdown",
   "metadata": {},
   "source": [
    "### Problem 3\n",
    "\n",
    "1. Commutativity:\n",
    "\n",
    "$a+b = b+a$, so: $(a+b) \\mod 3 = (b+a) \\mod 3$. \n",
    "\n",
    "So its commutative.\n",
    "\n",
    "2. Associativity:\n",
    "\n",
    "$((a + b) \\mod 3 + c) \\mod 3 = (a + (b + c) \\mod 3) \\mod 3$, which can be simplified to $(a + b + c) \\mod 3$.\n",
    "\n",
    "So its associative.\n",
    "\n",
    "3. Identity:\n",
    "\n",
    "$0$ is the identity element because $a + 0 = a$. And $(a+0) \\mod 3 = a$.\n",
    "\n",
    "So it has an identity element.\n",
    "\n",
    "4. Inverses:\n",
    "\n",
    "Inverse of the function implies $a + b = 3k$ for some integer $k$, or equivalently $b = (3 - a) \\mod 3$. So for ${1,2,3}$:\n",
    "- For $a = 0$, $b = (3 - 0) \\mod 3 = 0$.\n",
    "- For $a = 1$, $b = (3 - 1) \\mod 3 = 2$.\n",
    "- For $a = 2$, $b = (3 - 2) \\mod 3 = 1$.\n",
    "\n",
    "So it has inverses.\n"
   ]
  }
 ],
 "metadata": {
  "kernelspec": {
   "display_name": "Python 3",
   "language": "python",
   "name": "python3"
  },
  "language_info": {
   "codemirror_mode": {
    "name": "ipython",
    "version": 3
   },
   "file_extension": ".py",
   "mimetype": "text/x-python",
   "name": "python",
   "nbconvert_exporter": "python",
   "pygments_lexer": "ipython3",
   "version": "3.10.7"
  }
 },
 "nbformat": 4,
 "nbformat_minor": 2
}
