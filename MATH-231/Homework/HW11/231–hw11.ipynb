{
 "cells": [
  {
   "cell_type": "markdown",
   "metadata": {},
   "source": [
    "# Homework 11"
   ]
  },
  {
   "cell_type": "code",
   "execution_count": 1,
   "metadata": {},
   "outputs": [],
   "source": [
    "import numpy as np\n",
    "import matplotlib.pyplot as plt\n",
    "from matplotlib.patches import Rectangle\n",
    "from PIL import Image\n",
    "import numpy as np\n",
    "import simpleaudio as sa"
   ]
  },
  {
   "cell_type": "markdown",
   "metadata": {},
   "source": [
    "## Question 1"
   ]
  },
  {
   "cell_type": "markdown",
   "metadata": {},
   "source": [
    "### **First:** Picking RGB vectors in $\\mathbb{R}^3$\n",
    "\n",
    "let, our vectors be pure red, pure green, and pure blue (in that order).\n",
    "\n",
    "$$\n",
    "V_1 = (1, 0, 0) \\\\\n",
    "V_2 = (0, 1, 0) \\\\\n",
    "V_3 = (0, 0, 1)\n",
    "$$\n",
    "\n",
    "### **Second:** Proving they span $\\mathbb{R}^3$\n",
    "\n",
    "Firstly, we know these vectors combined will form black, so that maybe a proof that they span $\\mathbb{R}^3$.\n",
    "\n",
    "But let's prove it mathematically!\n",
    "\n",
    "Let $w = (a, b, c) \\in \\mathbb{R}^3$. We can write $w$ as:\n",
    "\n",
    "$$\n",
    "w = (a, 0, 0) + (0, b, 0) + (0, 0, c) = a \\cdot (1, 0, 0) + b \\cdot (0, 1, 0) + c \\cdot (0, 0, 1)\n",
    "$$\n",
    "\n",
    "So, $w$ is a linear combination of $V_1, V_2, V_3$. Therefore, they span $\\mathbb{R}^3$.\n",
    "\n",
    "### **Third:** Converting RGB to CMYK"
   ]
  },
  {
   "cell_type": "code",
   "execution_count": 2,
   "metadata": {},
   "outputs": [
    {
     "name": "stdout",
     "output_type": "stream",
     "text": [
      "CMYK vectors:\n",
      "[[0. 1. 1. 0.]\n",
      " [0. 0. 0. 0.]\n",
      " [1. 0. 0. 0.]]\n"
     ]
    }
   ],
   "source": [
    "#  ------- Conversion Functions  ------- \n",
    "def rgb_to_cmyk(r, g, b):\n",
    "    k = 1 - max(r, g, b)\n",
    "    if k == 1:\n",
    "        return (0, 0, 0, 1)  # Pure black case\n",
    "    c = (1 - r - k) / (1 - k)\n",
    "    m = (1 - g - k) / (1 - k)\n",
    "    y = (1 - b - k) / (1 - k)\n",
    "    return (c, m, y, k)\n",
    "\n",
    "#  ------- Define vectors sets  ------- \n",
    "RGB_basis = np.array([ \n",
    "    [1, 0, 0],  # V1\n",
    "    [1, 1, 1],  # V2\n",
    "    [0, 1, 1]   # V3\n",
    "])\n",
    "\n",
    "#  ------- Display Vectors in CMYK  -------\n",
    "CMYK_basis = np.array([rgb_to_cmyk(*color) for color in RGB_basis])\n",
    "print(\"CMYK vectors:\")\n",
    "print(CMYK_basis)"
   ]
  },
  {
   "cell_type": "markdown",
   "metadata": {},
   "source": [
    "So our vectors converted to CMYK will be:\n",
    "\n",
    "$$\n",
    "\\tilde{V_1} = (0, 1, 1, 0) \\\\\n",
    "\\tilde{V_2} = (0,0,0,0) \\\\\n",
    "\\tilde{V_3} = (1, 0, 0, 0)\n",
    "$$\n",
    "\n",
    "### **Fourth:** Proving they don't span $\\mathbb{R}^4$\n",
    "\n",
    "Consider CMYK's pure black vector: $x = (0, 0, 0, 1) \\in \\mathbb{R}^4$. Suppose $\\tilde{V_1}, \\tilde{V_2}, \\tilde{V_3}$ span $\\mathbb{R}^4$. Then, $x$ can be written as:\n",
    "\n",
    "$$\n",
    "x = a \\cdot (0,1,1,0) + b \\cdot (0,0,0,0) + c \\cdot (1,0,0,0) \\\\ \n",
    "= (0,a,a,0) + (0,0,0,0) + (c,0,0,0) = (c,a,a,0)\n",
    "$$\n",
    "\n",
    "So for $ (0,0,0,1)= a\\tilde{V_1}+b\\tilde{V_2}+c\\tilde{V_3} = (c,a,a,0)$, it mush be that $a0 + b0 + c0 = 1$, which is **not true**. \n",
    "\n",
    "Therefore, $\\tilde{V_1}, \\tilde{V_2}, \\tilde{V_3}$ don't span $\\mathbb{R}^4$."
   ]
  },
  {
   "cell_type": "markdown",
   "metadata": {},
   "source": [
    "## Question 2"
   ]
  },
  {
   "cell_type": "code",
   "execution_count": 3,
   "metadata": {},
   "outputs": [],
   "source": [
    "# Define parameters\n",
    "SAMPLE_RATE = 44100  # Sampling frequency (Hz)\n",
    "DURATION = 0.35  # Duration of each note or chord (seconds)\n",
    "\n",
    "# Function to generate a sine wave for a given frequency\n",
    "def generate_tone(frequency, duration=DURATION, sample_rate=SAMPLE_RATE):\n",
    "    t = np.linspace(0, duration, int(sample_rate * duration), False)\n",
    "    wave = np.sin(2 * np.pi * frequency * t)\n",
    "    wave *= 32767 / np.max(np.abs(wave))  # Normalize to 16-bit range\n",
    "    return wave.astype(np.int16)\n",
    "\n",
    "# Function to generate a chord by summing multiple sine waves\n",
    "def generate_chord(frequencies, duration=DURATION, sample_rate=SAMPLE_RATE):\n",
    "    t = np.linspace(0, duration, int(sample_rate * duration), False)\n",
    "    wave = sum(np.sin(2 * np.pi * freq * t) for freq in frequencies)\n",
    "    wave *= 32767 / np.max(np.abs(wave))  # Normalize to 16-bit range\n",
    "    return wave.astype(np.int16)\n",
    "\n",
    "# Function to play a sound buffer\n",
    "def play_sound(wave):\n",
    "    play_obj = sa.play_buffer(wave, num_channels=1, bytes_per_sample=2, sample_rate=SAMPLE_RATE)\n",
    "    play_obj.wait_done()\n",
    "\n",
    "# Frequencies for the B Minor scale (in Hz)\n",
    "B_MINOR_SCALE = {\n",
    "    \"B\": 493.88,\n",
    "    \"C#\": 554.37,\n",
    "    \"D\": 587.33,\n",
    "    \"E\": 659.25,\n",
    "    \"F#\": 739.99,\n",
    "    \"G\": 783.99,\n",
    "    \"A\": 880.00,\n",
    "    \"B_high\": 987.77\n",
    "}"
   ]
  },
  {
   "cell_type": "markdown",
   "metadata": {},
   "source": [
    "Before we begin, let's define the vectors clearly (from the table). \n",
    "\n",
    "For $(B, C\\#, D, E, F\\#, G, A) \\in \\mathbb{R}^7$:\n",
    "\n",
    "$$\n",
    "\\text{Bm} = (1,0,1,0,1,0,0) \\\\\n",
    "\\text{Cdim5} = (0,1,0,1,0,1,0) \\\\\n",
    "\\text{A6} = (0,0,1,0,1,0,1) \\\\\n",
    "\\text{Gmaj7} = (0,0,1,0,1,1,1)\n",
    "$$\n",
    "\n",
    "### **Part A**\n",
    "\n",
    "Let $V = \\mathbb{R}^7$. Suppose our 4 chord vectors are independent. Then for $a, b, c, d \\in \\mathbb{R}$:\n",
    "\n",
    "$$\n",
    "a \\cdot \\text{Bm} + b \\cdot \\text{Cdim5} + c \\cdot \\text{A6} + d \\cdot \\text{Gmaj7} = 0 \\\\\n",
    "\\implies a = b = c = d = 0\n",
    "$$\n",
    "\n",
    "Lets see if this is true:\n",
    "\n",
    "$$\n",
    "(a,0,a,0,a,0,0) + (0,b,0,b,0,b,0) + (0,0,c,0,c,0,c) + (0,0,d,0,d,d,d) \\\\ = (a, b, a+c+d, b, a+c+d, b+d, c+d)\n",
    "$$\n",
    "\n",
    "So,\n",
    "\n",
    "$$\n",
    "(a, b, a+c+d, b, a+c+d, b+d, c+d) = (0,0,0,0,0,0,0) \\\\\n",
    "\\implies a = b = a+c+d = b+d=  c+d = 0 \\\\\n",
    "\\implies a = b = c = d = 0\n",
    "$$\n",
    "\n",
    "Therefore, the 4 chord vectors are linearly independent.\n",
    "\n",
    "### **Part B**\n",
    "\n",
    "1. Proving the chords don't span $\\mathbb{R}^7$.\n",
    "\n",
    "For the chord vectors to span $\\mathbb{R}^7$, we need at least 7 linearly independent vectors, since $\\mathbb{R}^7$ has seven dimentions. (this is exactly the same as the previous question).\n",
    "\n",
    "For example in the four vectors we have, the note E, has never been included independently. So for $(0,0,0,1,0,0,0) \\in \\mathbb{R}^7$, it can't be written as a linear combination of the four vectors. Because only Cdim5 includes E, which also includes G and C#.\n",
    "\n",
    "Therefore, the four vectors don't span $\\mathbb{R}^7$. \n",
    "\n",
    "2. Adding chords to span $\\mathbb{R}^7$.\n",
    "\n",
    "So we know that we need to add at least 3 more linearly independent vectors to span $\\mathbb{R}^7$. I think the best way to do this is to add vectors that only include one note, which is not independently included in the other (like E as I mentioned above).\n",
    "\n",
    "So, we can add the following vectors:\n",
    "\n",
    "$$\n",
    "C_1 = (0,0,0,1,0,0,0) \\\\\n",
    "C_2 = (0,0,0,0,1,0,0) \\\\\n",
    "C_3 = (0,0,1,0,0,0,0)\n",
    "$$\n",
    "\n",
    "3. Modifying the code\n",
    "\n",
    "Maybe I'm not understanding the question correctly, but I think the chords defined in the code don't match the ones in the table. So I will redefine those, and add the new vectors."
   ]
  },
  {
   "cell_type": "code",
   "execution_count": 4,
   "metadata": {},
   "outputs": [
    {
     "name": "stdout",
     "output_type": "stream",
     "text": [
      "Playing B Minor Scale...\n",
      "Playing B (493.88 Hz)\n",
      "Playing C# (554.37 Hz)\n",
      "Playing D (587.33 Hz)\n",
      "Playing E (659.25 Hz)\n",
      "Playing F# (739.99 Hz)\n",
      "Playing G (783.99 Hz)\n",
      "Playing A (880.0 Hz)\n",
      "Playing B_high (987.77 Hz)\n",
      "\n",
      "Playing Chords...\n",
      "Playing Bm (B, D, F#)\n",
      "Playing Cdim5 (C#, E, G)\n",
      "Playing A6 (A, D, F#)\n",
      "Playing Gmaj7 (G, A, D, F#)\n",
      "Playing C1 (G)\n",
      "Playing C2 (D)\n",
      "Playing C3 (F#)\n",
      "Done!\n"
     ]
    }
   ],
   "source": [
    "# Define some chords using the B Minor scale\n",
    "CHORDS = {\n",
    "    # table's chords\n",
    "    \"Bm\": [\"B\", \"D\", \"F#\"],\n",
    "    \"Cdim5\": [\"C#\", \"E\", \"G\"],\n",
    "    \"A6\": [\"A\", \"D\", \"F#\"],\n",
    "    \"Gmaj7\": [\"G\", \"A\", \"D\", \"F#\"],\n",
    "    # my chors\n",
    "    \"C1\": [\"G\"],\n",
    "    \"C2\": [\"D\"],\n",
    "    \"C3\": [\"F#\"]\n",
    "}\n",
    "\n",
    "# Play individual notes\n",
    "print(\"Playing B Minor Scale...\")\n",
    "for note, freq in B_MINOR_SCALE.items():\n",
    "    print(f\"Playing {note} ({freq} Hz)\")\n",
    "    wave = generate_tone(freq)\n",
    "    play_sound(wave)\n",
    "\n",
    "# Play chords\n",
    "print(\"\\nPlaying Chords...\")\n",
    "for chord, notes in CHORDS.items():\n",
    "    freqs = [B_MINOR_SCALE[note] for note in notes]  # Get frequencies\n",
    "    print(f\"Playing {chord} ({', '.join(notes)})\")\n",
    "    wave = generate_chord(freqs)\n",
    "    play_sound(wave)\n",
    "\n",
    "print(\"Done!\")"
   ]
  },
  {
   "cell_type": "markdown",
   "metadata": {},
   "source": [
    "I'm not sure how to know if the new vectors are correct, or not... Because they should not necessarily sound the exact same. \n",
    "\n",
    "I checked if they are linear independent on paper, and they are. I showed that:\n",
    "\n",
    "$$\n",
    "a \\cdot \\text{Bm} + b \\cdot \\text{Cdim5} + c \\cdot \\text{A6} + d \\cdot \\text{Gmaj7} + e \\cdot C_1 + f \\cdot C_2 + g \\cdot C_3 = 0 \\\\\n",
    "\\implies a = b = c = d = e = f = g = 0\n",
    "$$\n",
    "\n",
    "So I think they do span $\\mathbb{R}^7$.\n",
    "\n",
    "### **Part C**\n",
    "\n",
    "In the context of chord vectors, I think linear dependence means that at least one chord in the set can be expressed as a combination of the others. This implies redundancy in the set, as the dependent chord does not add new information or unique harmonic content. For example, if we had a chord that could be formed by mixing Bm and A6, it would be linearly dependent on them, meaning that it doesn't make a new unique sound."
   ]
  }
 ],
 "metadata": {
  "kernelspec": {
   "display_name": "Python 3",
   "language": "python",
   "name": "python3"
  },
  "language_info": {
   "codemirror_mode": {
    "name": "ipython",
    "version": 3
   },
   "file_extension": ".py",
   "mimetype": "text/x-python",
   "name": "python",
   "nbconvert_exporter": "python",
   "pygments_lexer": "ipython3",
   "version": "3.10.7"
  }
 },
 "nbformat": 4,
 "nbformat_minor": 2
}
