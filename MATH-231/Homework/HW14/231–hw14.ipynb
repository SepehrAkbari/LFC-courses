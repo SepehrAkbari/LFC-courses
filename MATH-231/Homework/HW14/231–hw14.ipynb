{
 "cells": [
  {
   "cell_type": "markdown",
   "metadata": {},
   "source": [
    "# **Enhancing Character Expressions through Color Manipulation**\n",
    "\n",
    "## Setup"
   ]
  },
  {
   "cell_type": "code",
   "execution_count": 1,
   "metadata": {},
   "outputs": [],
   "source": [
    "import matplotlib.pyplot as plt\n",
    "import numpy as np\n",
    "import matplotlib.image as mpimg"
   ]
  },
  {
   "cell_type": "markdown",
   "metadata": {},
   "source": [
    "## Defining Basis\n",
    "\n",
    "Defining a 3x3 matrix called `basis`.\n",
    "\n",
    " - Each row (or intended column) represents a basis vector in RGB space.\n",
    "\n",
    " - One of these basis vectors (“Mood Color”) is meant to capture a specific color characteristic (the emotion of the character).\n",
    " \n",
    " - The other two represent additional components (collectively the subspace W).\n",
    "\n",
    "*Note: Every pixel (a point in RGB space) is assumed to be a linear combination of these basis vectors.*"
   ]
  },
  {
   "cell_type": "code",
   "execution_count": null,
   "metadata": {},
   "outputs": [],
   "source": [
    "# Define the basis vectors as columns of a matrix\n",
    "basis = np.array([\n",
    "    [.55, .93, .93],  # Mood Color -- separated out (space U)\n",
    "    [.6, 0, .6],  # other basis 1 (space W)\n",
    "    [0, .2, .6]   # other basis 2 (space W)\n",
    "])"
   ]
  }
 ],
 "metadata": {
  "kernelspec": {
   "display_name": "Python 3",
   "language": "python",
   "name": "python3"
  },
  "language_info": {
   "codemirror_mode": {
    "name": "ipython",
    "version": 3
   },
   "file_extension": ".py",
   "mimetype": "text/x-python",
   "name": "python",
   "nbconvert_exporter": "python",
   "pygments_lexer": "ipython3",
   "version": "3.10.7"
  }
 },
 "nbformat": 4,
 "nbformat_minor": 2
}
