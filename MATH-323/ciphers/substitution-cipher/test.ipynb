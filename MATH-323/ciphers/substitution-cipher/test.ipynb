{
 "cells": [
  {
   "cell_type": "code",
   "execution_count": 4,
   "id": "2f3d83dc",
   "metadata": {},
   "outputs": [
    {
     "name": "stdout",
     "output_type": "stream",
     "text": [
      "['WBJGWRBGRCBRKHWRJKCKRZZDRCDZRWBJLGVTNTPTJKCIRLBERHJKCCEIPRMRHPCBRJCARKVWBUKVTKBCCBRRMRHYBRNIRSCHRILKWBDCRKHPWKJKVRROTGKCDDCJWKR']\n"
     ]
    }
   ],
   "source": [
    "from substitution import *\n",
    "from itertools import product\n",
    "\n",
    "min_len = 3\n",
    "max_len = 6\n",
    "charset = \"ABCDEFGHIJKLMNOPQRSTUVWXYZ\"\n",
    "\n",
    "ciphered = \"WBJGW RBGRC BRKHW RJKCK RZZDR CDZRW BJLGV TNTPT JKCIR LBERH JKCCE IPRMR HPCBR JCARK VWBUK VTKBC CBRRM RHYBR NIRSC HRILK WBDCR KHPWK JKVRR OTGKC DDCJW KR\"\n",
    "\n",
    "try:\n",
    "    with open('words.txt', 'r') as file:\n",
    "        words = set(word.strip().upper() for word in file)\n",
    "        words.update({\"A\", \"I\", \"THE\", \"AND\"})\n",
    "except FileNotFoundError:\n",
    "    print(\"Error: File not found.\")\n",
    "    exit()\n",
    "\n",
    "ciphertext_clean = ciphered.replace(\" \", \"\").upper()\n",
    "\n",
    "for length in range(1):\n",
    "    for password_guess_tuple in product(charset, repeat=length):\n",
    "        password_guess = \"\".join(password_guess_tuple)\n",
    "        key = generatePasswordKey(password_guess)\n",
    "        dec_text = decrypt(ciphertext_clean, key)\n",
    "\n",
    "        dec_words = dec_text.split()\n",
    "        print(f\"{dec_words}\")"
   ]
  }
 ],
 "metadata": {
  "kernelspec": {
   "display_name": "Python 3",
   "language": "python",
   "name": "python3"
  },
  "language_info": {
   "codemirror_mode": {
    "name": "ipython",
    "version": 3
   },
   "file_extension": ".py",
   "mimetype": "text/x-python",
   "name": "python",
   "nbconvert_exporter": "python",
   "pygments_lexer": "ipython3",
   "version": "3.11.13"
  }
 },
 "nbformat": 4,
 "nbformat_minor": 5
}
