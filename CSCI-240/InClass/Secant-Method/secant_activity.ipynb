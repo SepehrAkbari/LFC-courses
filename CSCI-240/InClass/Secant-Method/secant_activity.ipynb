{
 "cells": [
  {
   "cell_type": "markdown",
   "metadata": {},
   "source": [
    "## Secant Activity \n",
    "\n",
    "To estimate the values through root-finding with the Secant Method, I'll use the code below (from class)."
   ]
  },
  {
   "cell_type": "code",
   "execution_count": 2,
   "metadata": {},
   "outputs": [],
   "source": [
    "def secant_method(f, x0, x1, max_iter = 100, tol = 1e-6):\n",
    "    \"\"\"\n",
    "    Secant method for finding a root of the equation f(x) = 0.\n",
    "\n",
    "    Parameters:\n",
    "    f        : Function for which we want to find the root.\n",
    "    x0, x1   : Initial guesses for the root.\n",
    "    tol      : Tolerance for stopping criterion.\n",
    "    max_iter : Maximum number of iterations.\n",
    "\n",
    "    Returns:\n",
    "    Approximate root of the function.\n",
    "    \"\"\"\n",
    "    for i in range(max_iter):\n",
    "        # Calculate the value of the function at the guesses\n",
    "        f_x0 = f(x0)\n",
    "        f_x1 = f(x1)\n",
    "        \n",
    "        # Secant method formula to find the next approximation\n",
    "        x2 = x1 - f_x1 * (x1 - x0) / (f_x1 - f_x0)\n",
    "        \n",
    "        # Check for convergence\n",
    "        if abs(x2 - x1) < tol:\n",
    "            print(f\"Converged after {i+1} iterations.\")\n",
    "            return x2\n",
    "        \n",
    "        # Update guesses for the next iteration\n",
    "        x0, x1 = x1, x2\n",
    "    \n",
    "    print(\"Warning: Maximum iterations reached without convergence.\")\n",
    "    return x2"
   ]
  },
  {
   "cell_type": "markdown",
   "metadata": {},
   "source": [
    "### Problem 1\n",
    "\n",
    "Find the root of $f(x) = x^2 − 2$, to estimate $\\sqrt{2}$ starting with $x_0 = 1$ and $x_1 = 2$. Do a maximum number of 10 iterations."
   ]
  },
  {
   "cell_type": "code",
   "execution_count": 6,
   "metadata": {},
   "outputs": [
    {
     "name": "stdout",
     "output_type": "stream",
     "text": [
      "Converged after 6 iterations.\n",
      "Approximate root: 1.4142135623730954\n"
     ]
    }
   ],
   "source": [
    "def f(x):\n",
    "    return x**2 - 2 \n",
    "\n",
    "# Initial guesses\n",
    "x0 = 1.0\n",
    "x1 = 2.0\n",
    "\n",
    "# Max number of iterations\n",
    "max_iter = 10\n",
    "\n",
    "# Call secant_method to find the root\n",
    "root = secant_method(f, x0, x1, max_iter)\n",
    "print(f\"Approximate root: {root}\")"
   ]
  },
  {
   "cell_type": "markdown",
   "metadata": {},
   "source": [
    "So using the Secant method, $\\sqrt{2} \\approx 1.4142$. We can trust this estimation, as the method converged after 6 iterations, indicating that the estimation is very close to the actual value at this point. If the method did not converge, or converged on 10, it would be a worse estimation."
   ]
  },
  {
   "cell_type": "markdown",
   "metadata": {},
   "source": [
    "### Problem 2\n",
    "\n",
    "Find the root of $f(x) = e^x − 2$, to estimate $\\ln{(2)}$ starting with $x_0 = 0$ and $x_1 = 3$. Do a maximum number of 10 iterations."
   ]
  },
  {
   "cell_type": "code",
   "execution_count": null,
   "metadata": {},
   "outputs": [
    {
     "name": "stdout",
     "output_type": "stream",
     "text": [
      "Converged after 8 iterations.\n",
      "Approximate root: 0.6931471805596721\n"
     ]
    }
   ],
   "source": [
    "import math\n",
    "\n",
    "def f(x):\n",
    "    return math.exp(x) - 2\n",
    "\n",
    "# Initial guesses\n",
    "x0 = 0.0\n",
    "x1 = 3.0\n",
    "\n",
    "# Max number of iterations\n",
    "max_iter = 10\n",
    "\n",
    "# Call secant_method to find the root\n",
    "root = secant_method(f, x0, x1, max_iter)\n",
    "print(f\"Approximate root: {root}\")"
   ]
  },
  {
   "cell_type": "markdown",
   "metadata": {},
   "source": [
    "So using the Secant method, $\\ln{(2)} \\approx 0.6931$. We can trust this result, for the same reasons discussed above."
   ]
  }
 ],
 "metadata": {
  "kernelspec": {
   "display_name": "Python 3",
   "language": "python",
   "name": "python3"
  },
  "language_info": {
   "codemirror_mode": {
    "name": "ipython",
    "version": 3
   },
   "file_extension": ".py",
   "mimetype": "text/x-python",
   "name": "python",
   "nbconvert_exporter": "python",
   "pygments_lexer": "ipython3",
   "version": "3.10.7"
  }
 },
 "nbformat": 4,
 "nbformat_minor": 2
}
