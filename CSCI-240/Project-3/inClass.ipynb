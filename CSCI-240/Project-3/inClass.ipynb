{
 "cells": [
  {
   "cell_type": "code",
   "execution_count": null,
   "metadata": {},
   "outputs": [
    {
     "ename": "NameError",
     "evalue": "name 'df' is not defined",
     "output_type": "error",
     "traceback": [
      "\u001b[0;31m---------------------------------------------------------------------------\u001b[0m",
      "\u001b[0;31mNameError\u001b[0m                                 Traceback (most recent call last)",
      "Cell \u001b[0;32mIn[1], line 1\u001b[0m\n\u001b[0;32m----> 1\u001b[0m X \u001b[38;5;241m=\u001b[39m \u001b[43mdf\u001b[49m\u001b[38;5;241m.\u001b[39mindex\n\u001b[1;32m      2\u001b[0m y \u001b[38;5;241m=\u001b[39m df[\u001b[38;5;124m'\u001b[39m\u001b[38;5;124mRegular\u001b[39m\u001b[38;5;124m'\u001b[39m]\n",
      "\u001b[0;31mNameError\u001b[0m: name 'df' is not defined"
     ]
    }
   ],
   "source": [
    "X = df.index\n",
    "y = df['Regular']\n",
    "\n",
    "from sklearn.model_selection import train_test_split\n",
    "\n",
    "x_train_val, x_test, y_train_val, y_test = train_test_split(X, y, test_size=0.1, random_state=3)\n",
    "x_train, x_val, y_train, y_val = train_test_split(x_train_val, y_train_val, test_size=0.1, random_state=3)"
   ]
  },
  {
   "cell_type": "code",
   "execution_count": null,
   "metadata": {},
   "outputs": [],
   "source": [
    "# model: y = ax^6 + bx^5 + cx^4 + dx^3 + ex^2 + fx + g\n",
    "\n",
    "\n",
    "# Hyperparameters\n",
    "learning_rate = 0.1\n",
    "epochs = 1000\n",
    "\n",
    "# Number of samples\n",
    "m = len(X)\n",
    "\n",
    "# Gradient descent loop\n",
    "for epoch in range(epochs):\n",
    "    # Predictions (applying the model to the input data)\n",
    "    y_pred = w * X + b\n",
    "    \n",
    "    # The derivatives of each parameter\n",
    "    dw = (-2 / m) * np.sum((y - y_pred) * X)\n",
    "    db = (-2 / m) * np.sum(y - y_pred)\n",
    "    \n",
    "    # Adjust the parameters with the derviatives adjusted according to the learning rate \n",
    "    w = w - learning_rate * dw\n",
    "    b = b - learning_rate * db\n",
    "    \n",
    "    # Print progress every 100 epochs -- so we see if we're actually making progress\n",
    "    if epoch % 100 == 0:\n",
    "        loss = np.mean((y - y_pred) ** 2)\n",
    "        print(f\"Epoch {epoch}: Loss = {loss:.4f}, w = {w:.4f}, b = {b:.4f}\")\n",
    "\n",
    "# Final parameters\n",
    "print(f\"Final parameters: w = {w:.4f}, b = {b:.4f}\")"
   ]
  }
 ],
 "metadata": {
  "kernelspec": {
   "display_name": "Python 3",
   "language": "python",
   "name": "python3"
  },
  "language_info": {
   "codemirror_mode": {
    "name": "ipython",
    "version": 3
   },
   "file_extension": ".py",
   "mimetype": "text/x-python",
   "name": "python",
   "nbconvert_exporter": "python",
   "pygments_lexer": "ipython3",
   "version": "3.10.7"
  }
 },
 "nbformat": 4,
 "nbformat_minor": 2
}
