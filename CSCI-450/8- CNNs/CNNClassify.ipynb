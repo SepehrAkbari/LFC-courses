{
 "cells": [
  {
   "cell_type": "code",
   "execution_count": 1,
   "metadata": {},
   "outputs": [],
   "source": [
    "import cv2\n",
    "import numpy as np\n",
    "import pandas as pd\n",
    "import os\n",
    "from random import shuffle\n",
    "import tensorflow as tf\n",
    "import matplotlib.pyplot as plt\n",
    "#matplotlib inline\n"
   ]
  },
  {
   "cell_type": "code",
   "execution_count": 2,
   "metadata": {},
   "outputs": [],
   "source": [
    "from tensorflow.keras.models import Sequential\n",
    "from tensorflow.keras.layers import *\n",
    "from tensorflow.keras.optimizers import *\n",
    "from skimage import *\n",
    "from sklearn.model_selection import train_test_split\n",
    "\n",
    "IMG_SIZE = 28\n",
    "NUMCLASSES = 10\n",
    "\n",
    "trainfile = r'..\\data\\MNIST\\train.csv'\n",
    "testfile = r'..\\data\\MNIST\\test.csv'\n"
   ]
  },
  {
   "cell_type": "code",
   "execution_count": 3,
   "metadata": {},
   "outputs": [
    {
     "data": {
      "text/html": [
       "<div>\n",
       "<style scoped>\n",
       "    .dataframe tbody tr th:only-of-type {\n",
       "        vertical-align: middle;\n",
       "    }\n",
       "\n",
       "    .dataframe tbody tr th {\n",
       "        vertical-align: top;\n",
       "    }\n",
       "\n",
       "    .dataframe thead th {\n",
       "        text-align: right;\n",
       "    }\n",
       "</style>\n",
       "<table border=\"1\" class=\"dataframe\">\n",
       "  <thead>\n",
       "    <tr style=\"text-align: right;\">\n",
       "      <th></th>\n",
       "      <th>label</th>\n",
       "      <th>pixel0</th>\n",
       "      <th>pixel1</th>\n",
       "      <th>pixel2</th>\n",
       "      <th>pixel3</th>\n",
       "      <th>pixel4</th>\n",
       "      <th>pixel5</th>\n",
       "      <th>pixel6</th>\n",
       "      <th>pixel7</th>\n",
       "      <th>pixel8</th>\n",
       "      <th>...</th>\n",
       "      <th>pixel774</th>\n",
       "      <th>pixel775</th>\n",
       "      <th>pixel776</th>\n",
       "      <th>pixel777</th>\n",
       "      <th>pixel778</th>\n",
       "      <th>pixel779</th>\n",
       "      <th>pixel780</th>\n",
       "      <th>pixel781</th>\n",
       "      <th>pixel782</th>\n",
       "      <th>pixel783</th>\n",
       "    </tr>\n",
       "  </thead>\n",
       "  <tbody>\n",
       "    <tr>\n",
       "      <th>0</th>\n",
       "      <td>1</td>\n",
       "      <td>0</td>\n",
       "      <td>0</td>\n",
       "      <td>0</td>\n",
       "      <td>0</td>\n",
       "      <td>0</td>\n",
       "      <td>0</td>\n",
       "      <td>0</td>\n",
       "      <td>0</td>\n",
       "      <td>0</td>\n",
       "      <td>...</td>\n",
       "      <td>0</td>\n",
       "      <td>0</td>\n",
       "      <td>0</td>\n",
       "      <td>0</td>\n",
       "      <td>0</td>\n",
       "      <td>0</td>\n",
       "      <td>0</td>\n",
       "      <td>0</td>\n",
       "      <td>0</td>\n",
       "      <td>0</td>\n",
       "    </tr>\n",
       "    <tr>\n",
       "      <th>1</th>\n",
       "      <td>0</td>\n",
       "      <td>0</td>\n",
       "      <td>0</td>\n",
       "      <td>0</td>\n",
       "      <td>0</td>\n",
       "      <td>0</td>\n",
       "      <td>0</td>\n",
       "      <td>0</td>\n",
       "      <td>0</td>\n",
       "      <td>0</td>\n",
       "      <td>...</td>\n",
       "      <td>0</td>\n",
       "      <td>0</td>\n",
       "      <td>0</td>\n",
       "      <td>0</td>\n",
       "      <td>0</td>\n",
       "      <td>0</td>\n",
       "      <td>0</td>\n",
       "      <td>0</td>\n",
       "      <td>0</td>\n",
       "      <td>0</td>\n",
       "    </tr>\n",
       "    <tr>\n",
       "      <th>2</th>\n",
       "      <td>1</td>\n",
       "      <td>0</td>\n",
       "      <td>0</td>\n",
       "      <td>0</td>\n",
       "      <td>0</td>\n",
       "      <td>0</td>\n",
       "      <td>0</td>\n",
       "      <td>0</td>\n",
       "      <td>0</td>\n",
       "      <td>0</td>\n",
       "      <td>...</td>\n",
       "      <td>0</td>\n",
       "      <td>0</td>\n",
       "      <td>0</td>\n",
       "      <td>0</td>\n",
       "      <td>0</td>\n",
       "      <td>0</td>\n",
       "      <td>0</td>\n",
       "      <td>0</td>\n",
       "      <td>0</td>\n",
       "      <td>0</td>\n",
       "    </tr>\n",
       "    <tr>\n",
       "      <th>3</th>\n",
       "      <td>4</td>\n",
       "      <td>0</td>\n",
       "      <td>0</td>\n",
       "      <td>0</td>\n",
       "      <td>0</td>\n",
       "      <td>0</td>\n",
       "      <td>0</td>\n",
       "      <td>0</td>\n",
       "      <td>0</td>\n",
       "      <td>0</td>\n",
       "      <td>...</td>\n",
       "      <td>0</td>\n",
       "      <td>0</td>\n",
       "      <td>0</td>\n",
       "      <td>0</td>\n",
       "      <td>0</td>\n",
       "      <td>0</td>\n",
       "      <td>0</td>\n",
       "      <td>0</td>\n",
       "      <td>0</td>\n",
       "      <td>0</td>\n",
       "    </tr>\n",
       "    <tr>\n",
       "      <th>4</th>\n",
       "      <td>0</td>\n",
       "      <td>0</td>\n",
       "      <td>0</td>\n",
       "      <td>0</td>\n",
       "      <td>0</td>\n",
       "      <td>0</td>\n",
       "      <td>0</td>\n",
       "      <td>0</td>\n",
       "      <td>0</td>\n",
       "      <td>0</td>\n",
       "      <td>...</td>\n",
       "      <td>0</td>\n",
       "      <td>0</td>\n",
       "      <td>0</td>\n",
       "      <td>0</td>\n",
       "      <td>0</td>\n",
       "      <td>0</td>\n",
       "      <td>0</td>\n",
       "      <td>0</td>\n",
       "      <td>0</td>\n",
       "      <td>0</td>\n",
       "    </tr>\n",
       "  </tbody>\n",
       "</table>\n",
       "<p>5 rows × 785 columns</p>\n",
       "</div>"
      ],
      "text/plain": [
       "   label  pixel0  pixel1  pixel2  pixel3  pixel4  pixel5  pixel6  pixel7  \\\n",
       "0      1       0       0       0       0       0       0       0       0   \n",
       "1      0       0       0       0       0       0       0       0       0   \n",
       "2      1       0       0       0       0       0       0       0       0   \n",
       "3      4       0       0       0       0       0       0       0       0   \n",
       "4      0       0       0       0       0       0       0       0       0   \n",
       "\n",
       "   pixel8  ...  pixel774  pixel775  pixel776  pixel777  pixel778  pixel779  \\\n",
       "0       0  ...         0         0         0         0         0         0   \n",
       "1       0  ...         0         0         0         0         0         0   \n",
       "2       0  ...         0         0         0         0         0         0   \n",
       "3       0  ...         0         0         0         0         0         0   \n",
       "4       0  ...         0         0         0         0         0         0   \n",
       "\n",
       "   pixel780  pixel781  pixel782  pixel783  \n",
       "0         0         0         0         0  \n",
       "1         0         0         0         0  \n",
       "2         0         0         0         0  \n",
       "3         0         0         0         0  \n",
       "4         0         0         0         0  \n",
       "\n",
       "[5 rows x 785 columns]"
      ]
     },
     "execution_count": 3,
     "metadata": {},
     "output_type": "execute_result"
    }
   ],
   "source": [
    "trainDF = pd.read_csv(trainfile)\n",
    "testDF = pd.read_csv(testfile)\n",
    "\n",
    "trainlabels = np.asarray(trainDF.label)\n",
    "traindigits = np.asarray(trainDF)\n",
    "traindigits = traindigits[:,1:]\n",
    "\n",
    "traindigits, valdigits, trainlabels, vallabels = train_test_split(traindigits, trainlabels, test_size=0.2, random_state=42)\n",
    "\n",
    "testdigits = np.asarray(testDF)\n",
    "\n",
    "trainDF.head()"
   ]
  },
  {
   "cell_type": "code",
   "execution_count": 5,
   "metadata": {},
   "outputs": [],
   "source": [
    "def digit(arr):\n",
    "    return arr.reshape(IMG_SIZE, IMG_SIZE)\n",
    "\n",
    "def make_labels(label):\n",
    "    labels = np.zeros([NUMCLASSES],np.uint8)\n",
    "    labels[label] = 1\n",
    "    return labels\n",
    "    \n",
    "def train_data_with_label():\n",
    "    train_images = []\n",
    "    for i in range(traindigits.shape[0]):\n",
    "        img = digit(traindigits[i,:])\n",
    "        train_images.append([img, make_labels(trainlabels[i])])\n",
    "    #shuffle(train_images)\n",
    "    return train_images\n",
    "\n",
    "def validation_data_with_label():\n",
    "    validation_images = []\n",
    "    for i in range(valdigits.shape[0]):\n",
    "        img = digit(valdigits[i,:])\n",
    "        validation_images.append([img, make_labels(vallabels[i])])\n",
    "    #shuffle(validation_images)\n",
    "    return validation_images\n",
    "    "
   ]
  },
  {
   "cell_type": "code",
   "execution_count": 6,
   "metadata": {},
   "outputs": [
    {
     "data": {
      "text/plain": [
       "array([0, 0, 0, 0, 0, 0, 0, 1, 0, 0], dtype=uint8)"
      ]
     },
     "execution_count": 6,
     "metadata": {},
     "output_type": "execute_result"
    }
   ],
   "source": [
    "make_labels(7)"
   ]
  },
  {
   "cell_type": "code",
   "execution_count": 7,
   "metadata": {},
   "outputs": [
    {
     "name": "stdout",
     "output_type": "stream",
     "text": [
      "(33600, 2)\n",
      "(8400, 2)\n"
     ]
    },
    {
     "name": "stderr",
     "output_type": "stream",
     "text": [
      "<ipython-input-7-45666c38a6e7>:4: VisibleDeprecationWarning: Creating an ndarray from ragged nested sequences (which is a list-or-tuple of lists-or-tuples-or ndarrays with different lengths or shapes) is deprecated. If you meant to do this, you must specify 'dtype=object' when creating the ndarray.\n",
      "  print((np.array(training_images)).shape)\n",
      "<ipython-input-7-45666c38a6e7>:5: VisibleDeprecationWarning: Creating an ndarray from ragged nested sequences (which is a list-or-tuple of lists-or-tuples-or ndarrays with different lengths or shapes) is deprecated. If you meant to do this, you must specify 'dtype=object' when creating the ndarray.\n",
      "  print((np.array(validation_images)).shape)\n"
     ]
    }
   ],
   "source": [
    "training_images = train_data_with_label()\n",
    "validation_images = validation_data_with_label()\n",
    "\n",
    "print((np.array(training_images)).shape)\n",
    "print((np.array(validation_images)).shape)\n"
   ]
  },
  {
   "cell_type": "code",
   "execution_count": 8,
   "metadata": {},
   "outputs": [],
   "source": [
    "tr_img_data = np.array([i[0] for i in training_images]).reshape(-1,IMG_SIZE,IMG_SIZE,1)\n",
    "tr_lbl_data = np.array([i[1] for i in training_images])\n",
    "val_img_data = np.array([i[0] for i in validation_images]).reshape(-1,IMG_SIZE,IMG_SIZE,1)\n",
    "val_lbl_data = np.array([i[1] for i in validation_images])\n"
   ]
  },
  {
   "cell_type": "code",
   "execution_count": 9,
   "metadata": {},
   "outputs": [
    {
     "name": "stdout",
     "output_type": "stream",
     "text": [
      "Model: \"sequential\"\n",
      "_________________________________________________________________\n",
      "Layer (type)                 Output Shape              Param #   \n",
      "=================================================================\n",
      "conv2d (Conv2D)              (None, 28, 28, 32)        832       \n",
      "_________________________________________________________________\n",
      "max_pooling2d (MaxPooling2D) (None, 14, 14, 32)        0         \n",
      "_________________________________________________________________\n",
      "dropout (Dropout)            (None, 14, 14, 32)        0         \n",
      "_________________________________________________________________\n",
      "conv2d_1 (Conv2D)            (None, 14, 14, 64)        51264     \n",
      "_________________________________________________________________\n",
      "max_pooling2d_1 (MaxPooling2 (None, 7, 7, 64)          0         \n",
      "_________________________________________________________________\n",
      "dropout_1 (Dropout)          (None, 7, 7, 64)          0         \n",
      "_________________________________________________________________\n",
      "flatten (Flatten)            (None, 3136)              0         \n",
      "_________________________________________________________________\n",
      "dense (Dense)                (None, 128)               401536    \n",
      "_________________________________________________________________\n",
      "dropout_2 (Dropout)          (None, 128)               0         \n",
      "_________________________________________________________________\n",
      "dense_1 (Dense)              (None, 10)                1290      \n",
      "=================================================================\n",
      "Total params: 454,922\n",
      "Trainable params: 454,922\n",
      "Non-trainable params: 0\n",
      "_________________________________________________________________\n"
     ]
    }
   ],
   "source": [
    "model = Sequential()\n",
    "\n",
    "model.add(InputLayer(input_shape=[IMG_SIZE,IMG_SIZE,1])) #keras will internally add batch dimension\n",
    "\n",
    "model.add(Conv2D(filters=32,kernel_size=5,strides=1,padding='same', activation='relu'))\n",
    "model.add(MaxPool2D(pool_size=2,padding='same'))\n",
    "model.add(Dropout(0.4))\n",
    "model.add(Conv2D(filters=64,kernel_size=5,strides=1,padding='same', activation='relu'))\n",
    "model.add(MaxPool2D(pool_size=2,padding='same'))\n",
    "model.add(Dropout(0.4))\n",
    "model.add(Flatten())\n",
    "model.add(Dense(128,activation='relu'))\n",
    "model.add(Dropout(0.4))\n",
    "model.add(Dense(NUMCLASSES,activation='softmax'))\n",
    "\n",
    "model.compile(optimizer='adam', loss='categorical_crossentropy',metrics=['accuracy'])\n",
    "model.summary()\n",
    "\n"
   ]
  },
  {
   "cell_type": "code",
   "execution_count": 10,
   "metadata": {},
   "outputs": [
    {
     "name": "stdout",
     "output_type": "stream",
     "text": [
      "Epoch 1/10\n",
      "48/48 [==============================] - 26s 548ms/step - loss: 6.3535 - accuracy: 0.2717 - val_loss: 1.4303 - val_accuracy: 0.5494\n",
      "Epoch 2/10\n",
      "48/48 [==============================] - 30s 627ms/step - loss: 1.2802 - accuracy: 0.5569 - val_loss: 0.4587 - val_accuracy: 0.8782\n",
      "Epoch 3/10\n",
      "48/48 [==============================] - 30s 615ms/step - loss: 0.7359 - accuracy: 0.7601 - val_loss: 0.2372 - val_accuracy: 0.9338\n",
      "Epoch 4/10\n",
      "48/48 [==============================] - 29s 594ms/step - loss: 0.4906 - accuracy: 0.8470 - val_loss: 0.1602 - val_accuracy: 0.9542\n",
      "Epoch 5/10\n",
      "48/48 [==============================] - 30s 622ms/step - loss: 0.3729 - accuracy: 0.8856 - val_loss: 0.1258 - val_accuracy: 0.9623\n",
      "Epoch 6/10\n",
      "48/48 [==============================] - 32s 663ms/step - loss: 0.3124 - accuracy: 0.9052 - val_loss: 0.1057 - val_accuracy: 0.9668\n",
      "Epoch 7/10\n",
      "48/48 [==============================] - 32s 668ms/step - loss: 0.2770 - accuracy: 0.9194 - val_loss: 0.0923 - val_accuracy: 0.9705\n",
      "Epoch 8/10\n",
      "48/48 [==============================] - 31s 652ms/step - loss: 0.2402 - accuracy: 0.9281 - val_loss: 0.0797 - val_accuracy: 0.9760\n",
      "Epoch 9/10\n",
      "48/48 [==============================] - 34s 716ms/step - loss: 0.2233 - accuracy: 0.9340 - val_loss: 0.0693 - val_accuracy: 0.9775\n",
      "Epoch 10/10\n",
      "48/48 [==============================] - 44s 927ms/step - loss: 0.2020 - accuracy: 0.9413 - val_loss: 0.0667 - val_accuracy: 0.9789\n"
     ]
    }
   ],
   "source": [
    "#Training\n",
    "history = model.fit(x=tr_img_data,y=tr_lbl_data,epochs=10,batch_size=700,validation_data=(val_img_data,val_lbl_data),verbose=1)\n",
    "model.save_weights(\"mymodel.h5\")"
   ]
  },
  {
   "cell_type": "code",
   "execution_count": 16,
   "metadata": {},
   "outputs": [
    {
     "data": {
      "image/png": "[encoded data removed]",
      "text/plain": [
       "<Figure size 576x288 with 1 Axes>"
      ]
     },
     "metadata": {
      "needs_background": "light"
     },
     "output_type": "display_data"
    }
   ],
   "source": [
    "fig = plt.figure(figsize=(8,4))\n",
    "plt.plot(history.history['loss'],color='red')\n",
    "plt.plot(history.history['accuracy'],color='green')\n",
    "plt.plot(history.history['val_loss'],color='magenta')\n",
    "plt.plot(history.history['val_accuracy'],color='cyan')\n",
    "plt.show()"
   ]
  },
  {
   "cell_type": "code",
   "execution_count": 20,
   "metadata": {
    "scrolled": false
   },
   "outputs": [
    {
     "name": "stdout",
     "output_type": "stream",
     "text": [
      "[[0.   0.   0.99 0.   0.   0.   0.   0.   0.   0.  ]]\n",
      "[[0.99 0.   0.   0.   0.   0.   0.   0.   0.   0.  ]]\n",
      "[[0.   0.   0.   0.   0.   0.   0.   0.   0.01 0.98]]\n",
      "[[0.06 0.   0.03 0.04 0.   0.   0.   0.22 0.02 0.61]]\n",
      "[[0.   0.   0.   0.99 0.   0.   0.   0.   0.   0.  ]]\n",
      "[[0.   0.   0.   0.   0.   0.   0.   0.95 0.   0.04]]\n",
      "[[1. 0. 0. 0. 0. 0. 0. 0. 0. 0.]]\n",
      "[[0.   0.   0.   0.99 0.   0.   0.   0.   0.   0.  ]]\n",
      "[[0.99 0.   0.   0.   0.   0.   0.   0.   0.   0.  ]]\n",
      "[[0.   0.   0.   0.99 0.   0.   0.   0.   0.   0.  ]]\n",
      "[[0.   0.   0.   0.   0.   0.99 0.   0.   0.   0.  ]]\n",
      "[[0.   0.   0.   0.   0.   0.   0.   0.99 0.   0.  ]]\n",
      "[[0.   0.   0.   0.   0.55 0.01 0.   0.01 0.04 0.35]]\n",
      "[[0.99 0.   0.   0.   0.   0.   0.   0.   0.   0.  ]]\n",
      "[[0.   0.   0.   0.   0.99 0.   0.   0.   0.   0.  ]]\n",
      "[[0.   0.   0.   0.98 0.   0.01 0.   0.   0.   0.  ]]\n",
      "[[0.   0.   0.   0.99 0.   0.   0.   0.   0.   0.  ]]\n",
      "[[0.   0.99 0.   0.   0.   0.   0.   0.   0.   0.  ]]\n",
      "[[0.   0.   0.   0.   0.   0.   0.   0.   0.   0.99]]\n",
      "[[0.99 0.   0.   0.   0.   0.   0.   0.   0.   0.  ]]\n",
      "[[0.   0.   0.   0.   0.   0.   0.   0.   0.   0.99]]\n",
      "[[0.   0.99 0.   0.   0.   0.   0.   0.   0.   0.  ]]\n",
      "[[0.   0.99 0.   0.   0.   0.   0.   0.   0.   0.  ]]\n",
      "[[0.   0.   0.   0.   0.   0.99 0.   0.   0.   0.  ]]\n",
      "[[0.   0.   0.   0.   0.   0.   0.   0.99 0.   0.  ]]\n",
      "[[0.   0.   0.   0.   0.99 0.   0.   0.   0.   0.  ]]\n",
      "[[0.   0.   0.99 0.   0.   0.   0.   0.   0.   0.  ]]\n",
      "[[0.   0.   0.   0.   0.   0.   0.   0.99 0.   0.  ]]\n",
      "[[0.   0.01 0.   0.   0.93 0.   0.   0.02 0.   0.02]]\n",
      "[[0.   0.   0.   0.   0.   0.   0.   0.99 0.   0.  ]]\n",
      "[[0.   0.   0.   0.   0.   0.   0.   0.99 0.   0.  ]]\n",
      "[[0.   0.   0.   0.   0.   0.99 0.   0.   0.   0.  ]]\n",
      "[[0.   0.   0.   0.   0.99 0.   0.   0.   0.   0.  ]]\n",
      "[[0.   0.   0.99 0.   0.   0.   0.   0.   0.   0.  ]]\n",
      "[[0.   0.   0.   0.   0.   0.   0.99 0.   0.   0.  ]]\n",
      "[[0.   0.   0.98 0.   0.   0.   0.   0.   0.   0.  ]]\n",
      "[[0.   0.   0.   0.   0.   0.99 0.   0.   0.   0.  ]]\n",
      "[[0.   0.   0.   0.   0.   0.99 0.   0.   0.   0.  ]]\n",
      "[[0.   0.99 0.   0.   0.   0.   0.   0.   0.   0.  ]]\n",
      "[[0.   0.   0.   0.   0.   0.   0.99 0.   0.   0.  ]]\n",
      "[[0.   0.   0.   0.   0.   0.   0.   0.99 0.   0.  ]]\n",
      "[[0.   0.   0.   0.   0.   0.   0.   0.99 0.   0.  ]]\n",
      "[[0.   0.   0.   0.   0.99 0.   0.   0.   0.   0.  ]]\n",
      "[[0.   0.   0.   0.   0.   0.   0.   0.   0.   0.99]]\n",
      "[[0.   0.   0.   0.   0.   0.02 0.   0.   0.97 0.  ]]\n",
      "[[0.   0.   0.   0.   0.   0.   0.   0.99 0.   0.  ]]\n",
      "[[0.   0.   0.   0.   0.   0.   0.   0.   0.99 0.  ]]\n",
      "[[0.   0.   0.99 0.   0.   0.   0.   0.   0.   0.  ]]\n",
      "[[0.   0.   0.   0.   0.   0.   0.99 0.   0.   0.  ]]\n",
      "[[0.   0.   0.   0.   0.   0.   0.   0.99 0.   0.  ]]\n",
      "[[0.   0.   0.   0.   0.   0.   0.99 0.   0.   0.  ]]\n",
      "[[0.   0.   0.   0.   0.   0.   0.   0.   0.99 0.  ]]\n",
      "[[0.   0.   0.   0.   0.   0.   0.   0.   0.99 0.  ]]\n",
      "[[0.   0.   0.   0.99 0.   0.   0.   0.   0.   0.  ]]\n"
     ]
    },
    {
     "data": {
      "image/png": "[encoded data removed]",
      "text/plain": [
       "<Figure size 864x1296 with 54 Axes>"
      ]
     },
     "metadata": {
      "needs_background": "light"
     },
     "output_type": "display_data"
    }
   ],
   "source": [
    "#Testing\n",
    "\n",
    "fig = plt.figure(figsize=(12, 18))\n",
    "for i in range(testdigits.shape[0]):\n",
    "    y = fig.add_subplot(9, 6, i+1)\n",
    "    img = digit(testdigits[i,:])\n",
    "    img = img.reshape(1,IMG_SIZE,IMG_SIZE,1)\n",
    "    model_out = model.predict(img)\n",
    "    print(np.uint16(model_out*100)/100)\n",
    "    str_label= str(np.argmax(model_out))\n",
    "    \n",
    "    y.imshow(digit(testdigits[i,:]),cmap='gray')\n",
    "    plt.title(str_label)\n",
    "    y.axes.get_xaxis().set_visible(False)\n",
    "    y.axes.get_yaxis().set_visible(False)\n",
    "    if i==53:\n",
    "        break;\n",
    "plt.show()\n"
   ]
  },
  {
   "cell_type": "code",
   "execution_count": null,
   "metadata": {},
   "outputs": [],
   "source": []
  }
 ],
 "metadata": {
  "kernelspec": {
   "display_name": "Python 3",
   "language": "python",
   "name": "python3"
  },
  "language_info": {
   "codemirror_mode": {
    "name": "ipython",
    "version": 3
   },
   "file_extension": ".py",
   "mimetype": "text/x-python",
   "name": "python",
   "nbconvert_exporter": "python",
   "pygments_lexer": "ipython3",
   "version": "3.8.8"
  }
 },
 "nbformat": 4,
 "nbformat_minor": 2
}
