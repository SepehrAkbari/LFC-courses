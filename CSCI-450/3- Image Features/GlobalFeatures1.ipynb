{
 "cells": [
  {
   "cell_type": "code",
   "execution_count": null,
   "metadata": {},
   "outputs": [],
   "source": [
    "import numpy as np\n",
    "from skimage import data, color, io, exposure, transform\n",
    "import matplotlib.pyplot as plt"
   ]
  },
  {
   "cell_type": "code",
   "execution_count": null,
   "metadata": {},
   "outputs": [],
   "source": [
    "img = data.astronaut()\n",
    "print(img.shape)"
   ]
  },
  {
   "cell_type": "code",
   "execution_count": null,
   "metadata": {},
   "outputs": [],
   "source": [
    "def imNormalize(image):\n",
    "    if len(image.shape)==2:\n",
    "        r = image\n",
    "        g = image\n",
    "        b = image\n",
    "    else:\n",
    "        r = image[:,:,0]\n",
    "        g = image[:,:,1]\n",
    "        b = image[:,:,2]\n",
    "    \n",
    "    r = r - r.min()\n",
    "    r = r / r.max()\n",
    "    r = np.uint8(r * 255)\n",
    "    \n",
    "    g = g - g.min()\n",
    "    g = g / g.max()\n",
    "    g = np.uint8(g * 255)\n",
    "    \n",
    "    b = b - b.min()\n",
    "    b = b / b.max()\n",
    "    b = np.uint8(b * 255)\n",
    "    \n",
    "    return np.stack((r,g,b),axis=2) \n",
    "\n",
    "\n",
    "def colorHistogram(image):\n",
    "    #image = color.rgb2hsv(image)\n",
    "    image = imNormalize(image)\n",
    "    \n",
    "    h1 = exposure.histogram(image[:,:,0])\n",
    "    h2 = exposure.histogram(image[:,:,1])\n",
    "    h3 = exposure.histogram(image[:,:,2])\n",
    "    h = np.concatenate((h1[0],h2[0],h3[0]), axis = None)\n",
    "    h = h / (image.shape[0]*image.shape[1])\n",
    "    return h"
   ]
  },
  {
   "cell_type": "code",
   "execution_count": null,
   "metadata": {},
   "outputs": [],
   "source": [
    "plt.imshow(img)\n",
    "plt.axis('off')"
   ]
  },
  {
   "cell_type": "code",
   "execution_count": null,
   "metadata": {},
   "outputs": [],
   "source": [
    "h = colorHistogram(img)\n",
    "plt.bar(range(len(h)),h)"
   ]
  },
  {
   "cell_type": "code",
   "execution_count": null,
   "metadata": {},
   "outputs": [],
   "source": []
  }
 ],
 "metadata": {
  "kernelspec": {
   "display_name": "Python 3",
   "language": "python",
   "name": "python3"
  },
  "language_info": {
   "codemirror_mode": {
    "name": "ipython",
    "version": 3
   },
   "file_extension": ".py",
   "mimetype": "text/x-python",
   "name": "python",
   "nbconvert_exporter": "python",
   "pygments_lexer": "ipython3",
   "version": "3.8.5"
  }
 },
 "nbformat": 4,
 "nbformat_minor": 4
}
