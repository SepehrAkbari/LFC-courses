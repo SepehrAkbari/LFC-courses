{
 "cells": [
  {
   "cell_type": "markdown",
   "id": "f6991343-afc6-4baf-848b-d66059b4f707",
   "metadata": {},
   "source": [
    "# Steps #\n",
    "\n",
    "0. Decide on problem\n",
    "1. Read training imge features\n",
    "    - decide on feature\n",
    "    - decide on representation\n",
    "2. Classify\n",
    "    - decide on distance measure\n",
    "    - decide on classifier\n",
    "3. Visualize results"
   ]
  },
  {
   "cell_type": "code",
   "execution_count": 1,
   "id": "6281ab95-f3e7-47a0-ad62-a04a3477d10f",
   "metadata": {},
   "outputs": [],
   "source": [
    "import os\n",
    "import numpy as np\n",
    "import matplotlib.pyplot as plt\n",
    "from skimage import io, color, feature, exposure, transform\n",
    "import pandas as pd"
   ]
  },
  {
   "cell_type": "code",
   "execution_count": 2,
   "id": "62820406-680d-46ca-a027-f16dc279e56c",
   "metadata": {},
   "outputs": [
    {
     "data": {
      "text/html": [
       "<div>\n",
       "<style scoped>\n",
       "    .dataframe tbody tr th:only-of-type {\n",
       "        vertical-align: middle;\n",
       "    }\n",
       "\n",
       "    .dataframe tbody tr th {\n",
       "        vertical-align: top;\n",
       "    }\n",
       "\n",
       "    .dataframe thead th {\n",
       "        text-align: right;\n",
       "    }\n",
       "</style>\n",
       "<table border=\"1\" class=\"dataframe\">\n",
       "  <thead>\n",
       "    <tr style=\"text-align: right;\">\n",
       "      <th></th>\n",
       "      <th>class index</th>\n",
       "      <th>filepaths</th>\n",
       "      <th>labels</th>\n",
       "      <th>card type</th>\n",
       "      <th>data set</th>\n",
       "    </tr>\n",
       "  </thead>\n",
       "  <tbody>\n",
       "    <tr>\n",
       "      <th>0</th>\n",
       "      <td>0</td>\n",
       "      <td>train/ace of clubs/001.jpg</td>\n",
       "      <td>ace of clubs</td>\n",
       "      <td>ace</td>\n",
       "      <td>train</td>\n",
       "    </tr>\n",
       "    <tr>\n",
       "      <th>1</th>\n",
       "      <td>0</td>\n",
       "      <td>train/ace of clubs/002.jpg</td>\n",
       "      <td>ace of clubs</td>\n",
       "      <td>ace</td>\n",
       "      <td>train</td>\n",
       "    </tr>\n",
       "    <tr>\n",
       "      <th>2</th>\n",
       "      <td>0</td>\n",
       "      <td>train/ace of clubs/003.jpg</td>\n",
       "      <td>ace of clubs</td>\n",
       "      <td>ace</td>\n",
       "      <td>train</td>\n",
       "    </tr>\n",
       "    <tr>\n",
       "      <th>3</th>\n",
       "      <td>0</td>\n",
       "      <td>train/ace of clubs/004.jpg</td>\n",
       "      <td>ace of clubs</td>\n",
       "      <td>ace</td>\n",
       "      <td>train</td>\n",
       "    </tr>\n",
       "    <tr>\n",
       "      <th>4</th>\n",
       "      <td>0</td>\n",
       "      <td>train/ace of clubs/005.jpg</td>\n",
       "      <td>ace of clubs</td>\n",
       "      <td>ace</td>\n",
       "      <td>train</td>\n",
       "    </tr>\n",
       "    <tr>\n",
       "      <th>5</th>\n",
       "      <td>0</td>\n",
       "      <td>train/ace of clubs/006.jpg</td>\n",
       "      <td>ace of clubs</td>\n",
       "      <td>ace</td>\n",
       "      <td>train</td>\n",
       "    </tr>\n",
       "    <tr>\n",
       "      <th>6</th>\n",
       "      <td>0</td>\n",
       "      <td>train/ace of clubs/007.jpg</td>\n",
       "      <td>ace of clubs</td>\n",
       "      <td>ace</td>\n",
       "      <td>train</td>\n",
       "    </tr>\n",
       "    <tr>\n",
       "      <th>7</th>\n",
       "      <td>0</td>\n",
       "      <td>train/ace of clubs/008.jpg</td>\n",
       "      <td>ace of clubs</td>\n",
       "      <td>ace</td>\n",
       "      <td>train</td>\n",
       "    </tr>\n",
       "    <tr>\n",
       "      <th>8</th>\n",
       "      <td>0</td>\n",
       "      <td>train/ace of clubs/009.jpg</td>\n",
       "      <td>ace of clubs</td>\n",
       "      <td>ace</td>\n",
       "      <td>train</td>\n",
       "    </tr>\n",
       "    <tr>\n",
       "      <th>9</th>\n",
       "      <td>0</td>\n",
       "      <td>train/ace of clubs/010.jpg</td>\n",
       "      <td>ace of clubs</td>\n",
       "      <td>ace</td>\n",
       "      <td>train</td>\n",
       "    </tr>\n",
       "  </tbody>\n",
       "</table>\n",
       "</div>"
      ],
      "text/plain": [
       "   class index                   filepaths        labels card type data set\n",
       "0            0  train/ace of clubs/001.jpg  ace of clubs       ace    train\n",
       "1            0  train/ace of clubs/002.jpg  ace of clubs       ace    train\n",
       "2            0  train/ace of clubs/003.jpg  ace of clubs       ace    train\n",
       "3            0  train/ace of clubs/004.jpg  ace of clubs       ace    train\n",
       "4            0  train/ace of clubs/005.jpg  ace of clubs       ace    train\n",
       "5            0  train/ace of clubs/006.jpg  ace of clubs       ace    train\n",
       "6            0  train/ace of clubs/007.jpg  ace of clubs       ace    train\n",
       "7            0  train/ace of clubs/008.jpg  ace of clubs       ace    train\n",
       "8            0  train/ace of clubs/009.jpg  ace of clubs       ace    train\n",
       "9            0  train/ace of clubs/010.jpg  ace of clubs       ace    train"
      ]
     },
     "execution_count": 2,
     "metadata": {},
     "output_type": "execute_result"
    }
   ],
   "source": [
    "path = 'cards'\n",
    "trainpath = path + '/train'\n",
    "validationpath = path + '/valid'\n",
    "testpath = path + '/test'\n",
    "data = pd.read_csv(path + '/cards.csv')\n",
    "data.head(10)\n"
   ]
  },
  {
   "cell_type": "code",
   "execution_count": 3,
   "id": "cd176574-6af9-467f-9764-b791671c5f80",
   "metadata": {},
   "outputs": [
    {
     "data": {
      "text/plain": [
       "array(['ace of clubs', 'ace of diamonds', 'ace of hearts',\n",
       "       'ace of spades', 'eight of clubs', 'eight of diamonds',\n",
       "       'eight of hearts', 'eight of spades', 'five of clubs',\n",
       "       'five of diamonds', 'five of hearts', 'five of spades',\n",
       "       'four of clubs', 'four of diamonds', 'four of hearts',\n",
       "       'four of spades', 'jack of clubs', 'jack of diamonds',\n",
       "       'jack of hearts', 'jack of spades', 'joker', 'king of clubs',\n",
       "       'king of diamonds', 'king of hearts', 'king of spades',\n",
       "       'nine of clubs', 'nine of diamonds', 'nine of hearts',\n",
       "       'nine of spades', 'queen of clubs', 'queen of diamonds',\n",
       "       'queen of hearts', 'queen of spades', 'seven of clubs',\n",
       "       'seven of diamonds', 'seven of hearts', 'seven of spades',\n",
       "       'six of clubs', 'six of diamonds', 'six of hearts',\n",
       "       'six of spades', 'ten of clubs', 'ten of diamonds',\n",
       "       'ten of hearts', 'ten of spades', 'three of clubs',\n",
       "       'three of diamonds', 'three of hearts', 'three of spades',\n",
       "       'two of clubs', 'two of diamonds', 'two of hearts',\n",
       "       'two of spades'], dtype=object)"
      ]
     },
     "execution_count": 3,
     "metadata": {},
     "output_type": "execute_result"
    }
   ],
   "source": [
    "label_types = data.labels.unique()\n",
    "label_types"
   ]
  },
  {
   "cell_type": "code",
   "execution_count": 4,
   "id": "288e7f63-e362-459f-9069-fe0f4d6df893",
   "metadata": {},
   "outputs": [
    {
     "name": "stdout",
     "output_type": "stream",
     "text": [
      "(7624, 5)\n",
      "(265, 5)\n",
      "(265, 5)\n"
     ]
    }
   ],
   "source": [
    "trainfilelist = data[data['data set']=='train']\n",
    "validfilelist = data[data['data set']=='valid']\n",
    "testfilelist = data[data['data set']=='test']\n",
    "\n",
    "print(trainfilelist.shape)\n",
    "print(validfilelist.shape)\n",
    "print(testfilelist.shape)"
   ]
  },
  {
   "cell_type": "code",
   "execution_count": 5,
   "id": "87a7f985-5ed5-43ff-8ec3-02b42e5f78ec",
   "metadata": {},
   "outputs": [],
   "source": [
    "def imNormalize(image):\n",
    "    if len(image.shape)==2:\n",
    "        r = image\n",
    "        g = image\n",
    "        b = image\n",
    "    else:\n",
    "        r = image[:,:,0]\n",
    "        g = image[:,:,1]\n",
    "        b = image[:,:,2]\n",
    "    \n",
    "    r = r - r.min()\n",
    "    r = r / r.max()\n",
    "    r = np.uint8(r * 255)\n",
    "    \n",
    "    g = g - g.min()\n",
    "    g = g / g.max()\n",
    "    g = np.uint8(g * 255)\n",
    "    \n",
    "    b = b - b.min()\n",
    "    b = b / b.max()\n",
    "    b = np.uint8(b * 255)\n",
    "    \n",
    "    return np.stack((r,g,b),axis=2) \n",
    "\n",
    "\n",
    "def colorHistogram(image):\n",
    "    image = imNormalize(image)\n",
    "    h1 = exposure.histogram(image[:,:,0])\n",
    "    h2 = exposure.histogram(image[:,:,1])\n",
    "    h3 = exposure.histogram(image[:,:,2])\n",
    "    h = np.concatenate((h1[0],h2[0],h3[0]), axis = None)\n",
    "    h = h / (image.shape[0]*image.shape[1])\n",
    "    return h"
   ]
  },
  {
   "cell_type": "code",
   "execution_count": 6,
   "id": "2bee4933-8d03-4765-9271-ccc5d18656f0",
   "metadata": {
    "scrolled": true
   },
   "outputs": [
    {
     "name": "stdout",
     "output_type": "stream",
     "text": [
      "Reading training features...\n",
      "........................................................................................................................................................................................................................................................................................................................................................................................................................................................................................................................................................................................................................................................................................................................................................................................................................................................................................................................................................................................................................................................................................................................................................................................................................................................................................................................................................................................................................................................................................................................................................................................................................................................................................................................................................................................................................................................................................................................................................................................................................................................................................................................................................................................................................................................................................................................................................................................................................................................................................................................................................................................................................................................................................................................................................................................................................................................................................................................................................................................................................................................................................................................................................................................................................................................................................................................................................................................................................................................................................................................................................................................................................................................................................................................................................................................................................................................................................................................................................................................................................................................................................................................................................................................................................................................................................................................................................................................................................................................................................................................................................................................................................................................................................................................................................................................................................................................................................................................................................................................................................................................................................................................................................................................................................................................................................................................................................................................................................................................................................................................................................................................................................................................................................................................................................................................................................................................................................................................................................................................................................................................................................................................................................................................................................................................................................................................................................................................................................................................................................................................................................................................................................................................................................................................................................................................................................................................................................................................................................................................................................................................................................................................................................................................................................................................................................................................................................................................................................................................................................................................................................................................................................................................................................................................................................................................................................................................................................................................................\n",
      "Reading validation features...\n",
      ".........................................................................................................................................................................................................................................................................\n",
      "Reading test features...\n",
      ".........................................................................................................................................................................................................................................................................\n",
      "(7624, 2048) (7624,)\n",
      "(265, 2048) (265,)\n",
      "(265, 2048) (265,)\n"
     ]
    }
   ],
   "source": [
    "trainfeatures = []\n",
    "validfeatures = []\n",
    "testfeatures = []\n",
    "\n",
    "print('Reading training features...')\n",
    "for file in trainfilelist.filepaths:\n",
    "    image = io.imread(path + '/' + file)\n",
    "    # fd = colorHistogram(image)\n",
    "    image = transform.resize(image, [256,256])\n",
    "    image = imNormalize(image)\n",
    "    fd = feature.hog(image, orientations=8, pixels_per_cell=(16, 16),\n",
    "                  cells_per_block=(1, 1), visualize=False, feature_vector=True, channel_axis=2)\n",
    "\n",
    "    trainfeatures.append(fd)\n",
    "    print('.', end='')\n",
    "\n",
    "print()\n",
    "\n",
    "trainfeatures = np.array(trainfeatures)\n",
    "trainlabels = np.array(trainfilelist['class index'])\n",
    "print('Reading validation features...')\n",
    "for file in validfilelist.filepaths:\n",
    "    image = io.imread(path + '/' + file)\n",
    "    # fd = colorHistogram(image)\n",
    "    image = transform.resize(image, [256,256])\n",
    "    image = imNormalize(image)\n",
    "    fd = feature.hog(image, orientations=8, pixels_per_cell=(16, 16),\n",
    "                  cells_per_block=(1, 1), visualize=False, feature_vector=True, channel_axis=2)\n",
    "\n",
    "    validfeatures.append(fd)\n",
    "    print('.', end='')\n",
    "\n",
    "print()\n",
    "\n",
    "validfeatures = np.array(validfeatures)\n",
    "validlabels = np.array(validfilelist['class index'])\n",
    "\n",
    "print('Reading test features...')\n",
    "for file in testfilelist.filepaths:\n",
    "    image = io.imread(path + '/' + file)\n",
    "    # fd = colorHistogram(image)\n",
    "    image = transform.resize(image, [256,256])\n",
    "    image = imNormalize(image)\n",
    "    fd = feature.hog(image, orientations=8, pixels_per_cell=(16, 16),\n",
    "                  cells_per_block=(1, 1), visualize=False, feature_vector=True, channel_axis=2)\n",
    "        \n",
    "    testfeatures.append(fd)\n",
    "    print('.', end='')\n",
    "\n",
    "print()\n",
    "\n",
    "testfeatures = np.array(testfeatures)\n",
    "testlabels = np.array(testfilelist['class index'])\n",
    "\n",
    "print(trainfeatures.shape, trainlabels.shape)\n",
    "print(validfeatures.shape, validlabels.shape)\n",
    "print(testfeatures.shape, testlabels.shape)\n",
    "\n",
    "\n"
   ]
  },
  {
   "cell_type": "code",
   "execution_count": 9,
   "id": "3faa7691-9127-442f-a818-2517ed84ab90",
   "metadata": {},
   "outputs": [
    {
     "name": "stderr",
     "output_type": "stream",
     "text": [
      "/Users/banerji/anaconda3/lib/python3.11/site-packages/sklearn/svm/_classes.py:32: FutureWarning: The default value of `dual` will change from `True` to `'auto'` in 1.5. Set the value of `dual` explicitly to suppress the warning.\n",
      "  warnings.warn(\n"
     ]
    },
    {
     "name": "stdout",
     "output_type": "stream",
     "text": [
      "LinearSVC()\n"
     ]
    },
    {
     "name": "stderr",
     "output_type": "stream",
     "text": [
      "/Users/banerji/anaconda3/lib/python3.11/site-packages/sklearn/svm/_base.py:1242: ConvergenceWarning: Liblinear failed to converge, increase the number of iterations.\n",
      "  warnings.warn(\n"
     ]
    }
   ],
   "source": [
    "from sklearn.svm import LinearSVC\n",
    "\n",
    "model = LinearSVC()\n",
    "model.fit(trainfeatures,trainlabels)\n",
    "print(model)"
   ]
  },
  {
   "cell_type": "code",
   "execution_count": 8,
   "id": "72039c5d-0004-4b4e-af63-50cbf0b0eafb",
   "metadata": {},
   "outputs": [
    {
     "name": "stdout",
     "output_type": "stream",
     "text": [
      "Training score= 0.9998688352570829\n",
      "Validation score= 0.6339622641509434\n",
      "Test score= 0.6113207547169811\n"
     ]
    }
   ],
   "source": [
    "print('Training score=',model.score(trainfeatures,trainlabels))\n",
    "print('Validation score=',model.score(validfeatures,validlabels))\n",
    "print('Test score=',model.score(testfeatures, testlabels))"
   ]
  },
  {
   "cell_type": "code",
   "execution_count": 10,
   "id": "617beb91-b33e-4348-94ba-18442b5a645c",
   "metadata": {
    "tags": []
   },
   "outputs": [],
   "source": [
    "from sklearn import discriminant_analysis\n",
    "from sklearn.preprocessing import StandardScaler\n",
    "from sklearn.decomposition import PCA\n",
    "\n",
    "categories = data['class index'].unique()\n",
    "NUMCLASSES = len(categories)\n",
    "\n",
    "def do_efm(traindata, testdata, trainlabels, pca_dimensions = -1, fld_dimensions=-1):\n",
    "    if pca_dimensions < 1 or pca_dimensions >= traindata.shape[1]:\n",
    "        pca_dimensions = traindata.shape[1] - 1\n",
    "    \n",
    "    if fld_dimensions < 1 or fld_dimensions > (NUMCLASSES-1):\n",
    "        fld_dimensions = NUMCLASSES - 1\n",
    "        \n",
    "    # First normalize\n",
    "    scaler = StandardScaler()\n",
    "    normtrain = scaler.fit_transform(traindata)\n",
    "    normtest = scaler.transform(testdata)\n",
    "\n",
    "    # Then do PCA\n",
    "    pca = PCA(n_components = pca_dimensions, whiten=True)\n",
    "    lowtrain = pca.fit_transform(normtrain)\n",
    "    lowtest = pca.transform(normtest)\n",
    "\n",
    "    # Now do FLD\n",
    "    lda = discriminant_analysis.LinearDiscriminantAnalysis(n_components=fld_dimensions)\n",
    "    newtrain = lda.fit_transform(lowtrain,trainlabels)\n",
    "    newtest = lda.transform(lowtest)\n",
    "\n",
    "    return [newtrain, newtest]"
   ]
  },
  {
   "cell_type": "code",
   "execution_count": 11,
   "id": "2de5b027-daa7-4a36-af85-d0115ea4ce63",
   "metadata": {
    "tags": []
   },
   "outputs": [
    {
     "name": "stdout",
     "output_type": "stream",
     "text": [
      "(7624, 50)\n",
      "(265, 50)\n"
     ]
    }
   ],
   "source": [
    "[newtrain, newtest] = do_efm(trainfeatures, testfeatures, trainlabels, \n",
    "                             pca_dimensions=450, fld_dimensions=50)\n",
    "print(newtrain.shape)\n",
    "print(newtest.shape)"
   ]
  },
  {
   "cell_type": "code",
   "execution_count": 12,
   "id": "75943f11-0133-4666-a4f4-dff63cee3c2d",
   "metadata": {
    "tags": []
   },
   "outputs": [
    {
     "data": {
      "text/plain": [
       "(53, 50)"
      ]
     },
     "execution_count": 12,
     "metadata": {},
     "output_type": "execute_result"
    }
   ],
   "source": [
    "classmeans = np.zeros([NUMCLASSES, newtrain.shape[1]]) \n",
    "for label in range(NUMCLASSES):\n",
    "    temp = newtrain[(trainlabels == label),:]\n",
    "    classmeans[label,:] = np.mean(temp, axis=0)\n",
    "\n",
    "classmeans.shape"
   ]
  },
  {
   "cell_type": "code",
   "execution_count": 13,
   "id": "39b0719f-f984-4593-8c4f-454e6b1f493f",
   "metadata": {
    "tags": []
   },
   "outputs": [],
   "source": [
    "from sklearn.neighbors import KNeighborsClassifier\n",
    "\n",
    "# Modified efm-nn with the class means\n",
    "neigh = KNeighborsClassifier(n_neighbors=1)\n",
    "neigh.fit(classmeans, range(NUMCLASSES))\n",
    "preds = neigh.predict(newtest)\n",
    "# neigh.score(newtest, testlabels)\n",
    "\n",
    "# # efm-knn (doesn't work too well)\n",
    "# neigh = KNeighborsClassifier(n_neighbors=15)\n",
    "# neigh.fit(newtrain, trainlabels)\n",
    "# preds = neigh.predict(newtest)\n",
    "# # neigh.score(newtest, testlabels)\n"
   ]
  },
  {
   "cell_type": "code",
   "execution_count": 14,
   "id": "fd0377b3-2459-41f0-a998-a3d3c2a438f9",
   "metadata": {
    "tags": []
   },
   "outputs": [
    {
     "name": "stdout",
     "output_type": "stream",
     "text": [
      "Success Rate =  0.6754716981132076\n"
     ]
    },
    {
     "data": {
      "image/png": "[encoded data removed]",
      "text/plain": [
       "<Figure size 1000x700 with 2 Axes>"
      ]
     },
     "metadata": {},
     "output_type": "display_data"
    }
   ],
   "source": [
    "#Visualize performance by Normalized confusion matrix\n",
    "import seaborn as sn\n",
    "\n",
    "conf = np.zeros([NUMCLASSES,NUMCLASSES])\n",
    "\n",
    "for item in range(len(testlabels)):\n",
    "    real = testlabels[item]\n",
    "    guess = preds[item]\n",
    "    conf[real,guess] = conf[real,guess] + 1\n",
    "    \n",
    "rowsums = np.sum(conf,1)\n",
    "rowsums = np.reshape(rowsums,[NUMCLASSES,1])\n",
    "rowsums = np.repeat(rowsums,NUMCLASSES, axis = 1)\n",
    "conf = conf / rowsums\n",
    "\n",
    "df_cm = pd.DataFrame(conf, index = [i for i in range(NUMCLASSES)],\n",
    "                  columns = [i for i in range(NUMCLASSES)])\n",
    "plt.figure(figsize = (10,7))\n",
    "sn.heatmap(df_cm, annot=False)\n",
    "\n",
    "print(\"Success Rate = \", np.mean(conf.diagonal()))"
   ]
  },
  {
   "cell_type": "code",
   "execution_count": null,
   "id": "20501f83-d75e-49dd-b12e-d6dc48d55cfd",
   "metadata": {},
   "outputs": [],
   "source": []
  }
 ],
 "metadata": {
  "kernelspec": {
   "display_name": "Python 3 (ipykernel)",
   "language": "python",
   "name": "python3"
  },
  "language_info": {
   "codemirror_mode": {
    "name": "ipython",
    "version": 3
   },
   "file_extension": ".py",
   "mimetype": "text/x-python",
   "name": "python",
   "nbconvert_exporter": "python",
   "pygments_lexer": "ipython3",
   "version": "3.11.4"
  }
 },
 "nbformat": 4,
 "nbformat_minor": 5
}
