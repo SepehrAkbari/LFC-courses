{
 "cells": [
  {
   "cell_type": "markdown",
   "metadata": {},
   "source": [
    "## Homework 10"
   ]
  },
  {
   "cell_type": "code",
   "execution_count": 36,
   "metadata": {},
   "outputs": [],
   "source": [
    "import numpy as np\n",
    "import matplotlib.pyplot as plt\n",
    "\n",
    "tree_heights = np.load('tree_heights.npy')"
   ]
  },
  {
   "cell_type": "markdown",
   "metadata": {},
   "source": [
    "### **Problem 1**\n",
    "\n",
    "Given the following numpy array"
   ]
  },
  {
   "cell_type": "code",
   "execution_count": 2,
   "metadata": {},
   "outputs": [
    {
     "name": "stdout",
     "output_type": "stream",
     "text": [
      "[ 2  3 -4  5  7 -5 10]\n"
     ]
    }
   ],
   "source": [
    "my_arr = np.array([2, 3, -4, 5, 7, -5, 10])\n",
    "print(my_arr)"
   ]
  },
  {
   "cell_type": "markdown",
   "metadata": {},
   "source": [
    "Use boolean indexing to answer the following questions.\n",
    "\n",
    "(1) Create a new array that contains only the positive elements from the original array."
   ]
  },
  {
   "cell_type": "code",
   "execution_count": 3,
   "metadata": {},
   "outputs": [
    {
     "name": "stdout",
     "output_type": "stream",
     "text": [
      "[ 2  3  5  7 10]\n"
     ]
    }
   ],
   "source": [
    "my_pos = my_arr[my_arr > 0]\n",
    "print(my_pos)"
   ]
  },
  {
   "cell_type": "markdown",
   "metadata": {},
   "source": [
    "(2) Create a new array that contains only the elements that are negative and even from\n",
    "the original array."
   ]
  },
  {
   "cell_type": "code",
   "execution_count": 4,
   "metadata": {},
   "outputs": [
    {
     "name": "stdout",
     "output_type": "stream",
     "text": [
      "[-4]\n"
     ]
    }
   ],
   "source": [
    "my_neg_even = my_arr[(my_arr < 0) & (my_arr % 2 == 0)]\n",
    "print(my_neg_even)"
   ]
  },
  {
   "cell_type": "markdown",
   "metadata": {},
   "source": [
    "(3) Create a new array that contains elements that are multiple of 5 or multiple of 3."
   ]
  },
  {
   "cell_type": "code",
   "execution_count": 5,
   "metadata": {},
   "outputs": [
    {
     "name": "stdout",
     "output_type": "stream",
     "text": [
      "[ 3  5 -5 10]\n"
     ]
    }
   ],
   "source": [
    "my_mult3_5 = my_arr[(my_arr % 3 == 0) | (my_arr % 5 == 0)]\n",
    "print(my_mult3_5)"
   ]
  },
  {
   "cell_type": "markdown",
   "metadata": {},
   "source": [
    "(4) How many elements are even, positive, and less than 20?"
   ]
  },
  {
   "cell_type": "code",
   "execution_count": 6,
   "metadata": {},
   "outputs": [
    {
     "name": "stdout",
     "output_type": "stream",
     "text": [
      "2\n"
     ]
    }
   ],
   "source": [
    "my_even_pos_20 = my_arr[(my_arr % 2 == 0) & (my_arr > 0) & (my_arr < 20)].size\n",
    "print(my_even_pos_20)"
   ]
  },
  {
   "cell_type": "markdown",
   "metadata": {},
   "source": [
    "### **Problem 2**\n",
    "\n",
    "The following numpy array represents the daily electricity usage (in kWh)\n",
    "for a week"
   ]
  },
  {
   "cell_type": "code",
   "execution_count": 7,
   "metadata": {},
   "outputs": [
    {
     "name": "stdout",
     "output_type": "stream",
     "text": [
      "[10  7 14  9 11  8 10]\n"
     ]
    }
   ],
   "source": [
    "daily_use = np.array ([10, 7, 14, 9, 11, 8, 10])\n",
    "print(daily_use)"
   ]
  },
  {
   "cell_type": "markdown",
   "metadata": {},
   "source": [
    "(1) Find the mean, the standard deviation, and the range of this data set."
   ]
  },
  {
   "cell_type": "code",
   "execution_count": 10,
   "metadata": {},
   "outputs": [
    {
     "name": "stdout",
     "output_type": "stream",
     "text": [
      "mean: 9.857142857142858\n",
      "std: 2.0995626366712954\n",
      "range: 7\n"
     ]
    }
   ],
   "source": [
    "print(\"mean:\", daily_use.mean())\n",
    "print(\"std:\", daily_use.std())\n",
    "print(\"range:\", daily_use.max() - daily_use.min())"
   ]
  },
  {
   "cell_type": "markdown",
   "metadata": {},
   "source": [
    "(2) How many days is the usage above 10?"
   ]
  },
  {
   "cell_type": "code",
   "execution_count": 11,
   "metadata": {},
   "outputs": [
    {
     "name": "stdout",
     "output_type": "stream",
     "text": [
      "2\n"
     ]
    }
   ],
   "source": [
    "days_above_10 = daily_use[daily_use > 10].size\n",
    "print(days_above_10)"
   ]
  },
  {
   "cell_type": "markdown",
   "metadata": {},
   "source": [
    "(3) Assuming a rate of $0.12 per kWh, find the cost for each day."
   ]
  },
  {
   "cell_type": "code",
   "execution_count": 12,
   "metadata": {},
   "outputs": [
    {
     "name": "stdout",
     "output_type": "stream",
     "text": [
      "[1.2  0.84 1.68 1.08 1.32 0.96 1.2 ]\n"
     ]
    }
   ],
   "source": [
    "cost_per_day = daily_use * 0.12\n",
    "print(cost_per_day)"
   ]
  },
  {
   "cell_type": "markdown",
   "metadata": {},
   "source": [
    "(4) Find the total cost for this week, assuming that the customer has to pay a 10 %\n",
    "tax as well"
   ]
  },
  {
   "cell_type": "code",
   "execution_count": 13,
   "metadata": {},
   "outputs": [
    {
     "name": "stdout",
     "output_type": "stream",
     "text": [
      "9.108\n"
     ]
    }
   ],
   "source": [
    "total_cost = cost_per_day.sum() * 1.1\n",
    "print(total_cost)"
   ]
  },
  {
   "cell_type": "markdown",
   "metadata": {},
   "source": [
    "### **Problem 3**\n",
    "\n",
    "The following numpy array represents the daily step count for a week"
   ]
  },
  {
   "cell_type": "code",
   "execution_count": 15,
   "metadata": {},
   "outputs": [
    {
     "name": "stdout",
     "output_type": "stream",
     "text": [
      "[ 7000  8500  9000  7500 10000  6500  8000  9000  8000  7000]\n"
     ]
    }
   ],
   "source": [
    "steps = np.array ([7000 , 8500, 9000, 7500, 10000 , 6500, 8000, 9000,\n",
    "8000, 7000])\n",
    "print(steps)"
   ]
  },
  {
   "cell_type": "markdown",
   "metadata": {},
   "source": [
    "(1) Calculate the total steps for the week."
   ]
  },
  {
   "cell_type": "code",
   "execution_count": 16,
   "metadata": {},
   "outputs": [
    {
     "name": "stdout",
     "output_type": "stream",
     "text": [
      "80500\n"
     ]
    }
   ],
   "source": [
    "total_steps = steps.sum()\n",
    "print(total_steps)"
   ]
  },
  {
   "cell_type": "markdown",
   "metadata": {},
   "source": [
    "(2) Finds the average daily steps.\n"
   ]
  },
  {
   "cell_type": "code",
   "execution_count": 18,
   "metadata": {},
   "outputs": [
    {
     "name": "stdout",
     "output_type": "stream",
     "text": [
      "8050.0\n"
     ]
    }
   ],
   "source": [
    "avg_steps = steps.mean()\n",
    "print(avg_steps)"
   ]
  },
  {
   "cell_type": "markdown",
   "metadata": {},
   "source": [
    "(3) How many days does the user meet the goal of 8000 steps.\n"
   ]
  },
  {
   "cell_type": "code",
   "execution_count": 19,
   "metadata": {},
   "outputs": [
    {
     "name": "stdout",
     "output_type": "stream",
     "text": [
      "6\n"
     ]
    }
   ],
   "source": [
    "days_goal = steps[steps >= 8000].size\n",
    "print(days_goal)"
   ]
  },
  {
   "cell_type": "markdown",
   "metadata": {},
   "source": [
    "(4) Create a line plot and a box plot for this data set."
   ]
  },
  {
   "cell_type": "code",
   "execution_count": 23,
   "metadata": {},
   "outputs": [
    {
     "data": {
      "image/png": "[encoded data removed]",
      "text/plain": [
       "<Figure size 640x480 with 1 Axes>"
      ]
     },
     "metadata": {},
     "output_type": "display_data"
    }
   ],
   "source": [
    "plt.plot(steps)\n",
    "plt.show()"
   ]
  },
  {
   "cell_type": "code",
   "execution_count": 27,
   "metadata": {},
   "outputs": [
    {
     "data": {
      "image/png": "[encoded data removed]",
      "text/plain": [
       "<Figure size 640x480 with 1 Axes>"
      ]
     },
     "metadata": {},
     "output_type": "display_data"
    }
   ],
   "source": [
    "plt.boxplot(steps)\n",
    "plt.show()"
   ]
  },
  {
   "cell_type": "markdown",
   "metadata": {},
   "source": [
    "### **Problem 4**\n",
    "\n",
    "A biologist is studying red maple trees in the Chicago area. He recorded the\n",
    "heights (measured in feet) of these trees in a numpy file named tree heights.\n",
    "\n",
    "(1) How many trees did the biologist record?"
   ]
  },
  {
   "cell_type": "code",
   "execution_count": 30,
   "metadata": {},
   "outputs": [
    {
     "name": "stdout",
     "output_type": "stream",
     "text": [
      "1000\n"
     ]
    }
   ],
   "source": [
    "num_trees = tree_heights.size\n",
    "print(num_trees)"
   ]
  },
  {
   "cell_type": "markdown",
   "metadata": {},
   "source": [
    "(2) Calculate the mean, the standard deviation, and the range of this data set.1\n"
   ]
  },
  {
   "cell_type": "code",
   "execution_count": 31,
   "metadata": {},
   "outputs": [
    {
     "name": "stdout",
     "output_type": "stream",
     "text": [
      "mean: 50.11569972675939\n",
      "std: 1.9638796461039103\n",
      "range: 12.59030597947229\n"
     ]
    }
   ],
   "source": [
    "print(\"mean:\", tree_heights.mean())\n",
    "\n",
    "print(\"std:\", tree_heights.std())\n",
    "\n",
    "print(\"range:\",tree_heights.max() - tree_heights.min())"
   ]
  },
  {
   "cell_type": "markdown",
   "metadata": {},
   "source": [
    "(3) Create a histogram and a boxplot for this data set.\n"
   ]
  },
  {
   "cell_type": "code",
   "execution_count": 32,
   "metadata": {},
   "outputs": [
    {
     "data": {
      "image/png": "[encoded data removed]",
      "text/plain": [
       "<Figure size 640x480 with 1 Axes>"
      ]
     },
     "metadata": {},
     "output_type": "display_data"
    }
   ],
   "source": [
    "plt.hist(tree_heights)\n",
    "plt.show()"
   ]
  },
  {
   "cell_type": "code",
   "execution_count": 33,
   "metadata": {},
   "outputs": [
    {
     "data": {
      "image/png": "[encoded data removed]",
      "text/plain": [
       "<Figure size 640x480 with 1 Axes>"
      ]
     },
     "metadata": {},
     "output_type": "display_data"
    }
   ],
   "source": [
    "plt.boxplot(tree_heights)\n",
    "plt.show()"
   ]
  },
  {
   "cell_type": "markdown",
   "metadata": {},
   "source": [
    "(4) What percentage of trees are taller than 60 feet?"
   ]
  },
  {
   "cell_type": "code",
   "execution_count": 39,
   "metadata": {},
   "outputs": [
    {
     "name": "stdout",
     "output_type": "stream",
     "text": [
      "0.0 %\n"
     ]
    }
   ],
   "source": [
    "percent_taller_60 = (tree_heights[tree_heights > 60].size / num_trees) * 100\n",
    "print(percent_taller_60, \"%\")"
   ]
  },
  {
   "cell_type": "markdown",
   "metadata": {},
   "source": [
    "(5) The biologist wants to use the tree’s height to (approximately) calculate its diameter. The model that he uses is:\n",
    "\n",
    "$$ diameter = 0.54 \\log(height) + 0.37 $$\n",
    "\n",
    "Here log is the logarithm function. In Python, you can calculate by using np.log.\n",
    "Use this model to calculate the diameter of each tree in the dataset."
   ]
  },
  {
   "cell_type": "code",
   "execution_count": 40,
   "metadata": {},
   "outputs": [
    {
     "name": "stdout",
     "output_type": "stream",
     "text": [
      "[2.50192043 2.49649831 2.52830393 2.51864263 2.49118081 2.46868594\n",
      " 2.48657673 2.5265707  2.48700288 2.47435916 2.49763422 2.46790831\n",
      " 2.48175384 2.46451003 2.49784896 2.48231536 2.46752868 2.51263946\n",
      " 2.47624255 2.5018272  2.50688764 2.4526669  2.48204354 2.47764028\n",
      " 2.49768559 2.48330317 2.5018333  2.48240622 2.47478541 2.50580144\n",
      " 2.51961998 2.51815882 2.48698881 2.50120571 2.49157495 2.47934531\n",
      " 2.49498336 2.48665476 2.51297456 2.51042655 2.49137706 2.46961133\n",
      " 2.48148056 2.51990171 2.49899134 2.50256059 2.51087195 2.49335399\n",
      " 2.51046803 2.45061342 2.47245894 2.47157903 2.48328631 2.51777751\n",
      " 2.48250041 2.45428388 2.49942034 2.49193719 2.47890948 2.48566402\n",
      " 2.45235582 2.47744487 2.4373779  2.50007804 2.46866737 2.52657291\n",
      " 2.44902379 2.5140027  2.45570643 2.46376233 2.47988076 2.49389519\n",
      " 2.47215981 2.49287823 2.44365605 2.48554024 2.46619516 2.48847169\n",
      " 2.50860848 2.49646277 2.48963482 2.49811369 2.49307422 2.52641313\n",
      " 2.49635514 2.51757662 2.46660049 2.51677981 2.48233811 2.50548655\n",
      " 2.45164304 2.49423354 2.47083584 2.45749182 2.48191132 2.48206994\n",
      " 2.50636759 2.46661797 2.50186905 2.47265743 2.46229154 2.49307922\n",
      " 2.48030402 2.46358511 2.48040815 2.47308944 2.4959985  2.47364353\n",
      " 2.43165743 2.5330275  2.52966379 2.4798596  2.46994061 2.48175968\n",
      " 2.46775418 2.49993383 2.50636986 2.4766083  2.46789848 2.44799326\n",
      " 2.47361007 2.5175275  2.48592254 2.47592507 2.47108993 2.49357665\n",
      " 2.48812039 2.49054963 2.46058686 2.45804796 2.47471642 2.49465336\n",
      " 2.45834535 2.51299616 2.47526508 2.45065713 2.51821834 2.48007478\n",
      " 2.48478838 2.49569551 2.50490679 2.48197903 2.49656865 2.48476145\n",
      " 2.52770873 2.47262232 2.4732743  2.49848218 2.46462642 2.44882677\n",
      " 2.50861729 2.48467782 2.5345069  2.51835909 2.49374389 2.48097921\n",
      " 2.50199485 2.48960096 2.49953062 2.48553701 2.52722934 2.43748889\n",
      " 2.50315893 2.50697121 2.4647952  2.46205378 2.47616994 2.46258795\n",
      " 2.47389252 2.44690842 2.48099417 2.47222256 2.47673344 2.532045\n",
      " 2.47404593 2.49290136 2.46458403 2.4783076  2.47462279 2.50972254\n",
      " 2.50495169 2.47893252 2.52564888 2.46944092 2.47652549 2.46232078\n",
      " 2.46560367 2.48651298 2.43640623 2.43946535 2.47133627 2.50914631\n",
      " 2.50581082 2.5209638  2.48148166 2.46128219 2.46645133 2.49198087\n",
      " 2.47266068 2.48624862 2.47395231 2.457184   2.53696251 2.51741137\n",
      " 2.47231084 2.43225511 2.47211638 2.48659652 2.52260682 2.51270219\n",
      " 2.50160545 2.45927937 2.53856293 2.46358672 2.48857228 2.44867199\n",
      " 2.48009075 2.46649576 2.45688448 2.49621422 2.46236301 2.49124063\n",
      " 2.49892672 2.47184134 2.47745979 2.47765618 2.50234502 2.50338991\n",
      " 2.49650067 2.47320143 2.49087167 2.49433997 2.50293836 2.5025523\n",
      " 2.46597388 2.49604732 2.48236086 2.4680965  2.49425562 2.49221104\n",
      " 2.50393167 2.45785887 2.51081531 2.48677083 2.51368161 2.46503062\n",
      " 2.48755514 2.40956548 2.44516306 2.49428562 2.50800344 2.45873041\n",
      " 2.4820227  2.51498585 2.47098562 2.48663238 2.47510344 2.48109089\n",
      " 2.5071084  2.47552202 2.48098969 2.44783705 2.44947193 2.49252114\n",
      " 2.48813061 2.49469274 2.50799507 2.47079753 2.4634404  2.49115492\n",
      " 2.53131493 2.50928305 2.50975983 2.48586804 2.44482471 2.46657537\n",
      " 2.48978398 2.46833891 2.49249482 2.50899079 2.47819905 2.48678726\n",
      " 2.44300328 2.47487987 2.44181568 2.47190874 2.44792649 2.4871819\n",
      " 2.48056096 2.49862813 2.48157491 2.50245176 2.46387955 2.50686347\n",
      " 2.48415214 2.49576866 2.4749294  2.50924368 2.48912571 2.47045899\n",
      " 2.46171498 2.51020235 2.45104787 2.4654053  2.47599545 2.50330483\n",
      " 2.49753039 2.48969334 2.47211704 2.48236267 2.48758194 2.46874123\n",
      " 2.45306804 2.44702294 2.48420705 2.51780983 2.47443172 2.50646288\n",
      " 2.46777663 2.47401341 2.48974441 2.46079702 2.4907946  2.4934584\n",
      " 2.4759055  2.54632487 2.48921052 2.48516652 2.49958338 2.48185093\n",
      " 2.44864915 2.47663756 2.46768683 2.49301115 2.48426275 2.48273201\n",
      " 2.43820726 2.4515558  2.4519321  2.50534303 2.44170793 2.48170077\n",
      " 2.46443051 2.46720846 2.48925779 2.4799464  2.48003362 2.47301972\n",
      " 2.44912624 2.46463879 2.51543938 2.47767601 2.46300616 2.48408191\n",
      " 2.49324015 2.4947021  2.46536682 2.4604085  2.49504544 2.46691723\n",
      " 2.48859627 2.49264064 2.46338996 2.49634847 2.50590699 2.47643505\n",
      " 2.49317165 2.47966989 2.50353894 2.50815964 2.49074179 2.49259077\n",
      " 2.45764734 2.46565349 2.49171229 2.47591936 2.4778893  2.46129216\n",
      " 2.51212056 2.508988   2.45637567 2.48249369 2.49429297 2.42649613\n",
      " 2.4839723  2.51473169 2.42601897 2.50258311 2.45506937 2.47010015\n",
      " 2.49057671 2.52151454 2.45440856 2.48962193 2.48434323 2.52287241\n",
      " 2.4772964  2.47941169 2.44531099 2.46963101 2.44462447 2.46979462\n",
      " 2.49829434 2.46172778 2.49960929 2.46286327 2.46364113 2.478653\n",
      " 2.47284953 2.46324462 2.49347232 2.46367135 2.50418186 2.48835145\n",
      " 2.48242816 2.47524156 2.46688685 2.51743172 2.46480902 2.48176362\n",
      " 2.49385199 2.47358269 2.47387957 2.4800859  2.50329599 2.47406695\n",
      " 2.48925068 2.51140994 2.48560585 2.47853845 2.46697294 2.49965262\n",
      " 2.48550809 2.48358806 2.47694731 2.49553758 2.4860603  2.45557846\n",
      " 2.48114556 2.47559826 2.47873632 2.48151614 2.49120124 2.47783107\n",
      " 2.52315905 2.5134784  2.50831436 2.47674703 2.4642875  2.51238213\n",
      " 2.49369091 2.45747956 2.4598752  2.48610699 2.50838184 2.51871859\n",
      " 2.48509022 2.49212164 2.47797652 2.47933667 2.48627026 2.49408589\n",
      " 2.51111741 2.49140275 2.43465177 2.52979009 2.49164801 2.4687682\n",
      " 2.52838192 2.47217701 2.46081885 2.5035197  2.46448854 2.46120965\n",
      " 2.48658215 2.48599908 2.4888655  2.46691076 2.49353149 2.4752681\n",
      " 2.47641208 2.50027778 2.485519   2.47663617 2.5105095  2.48128322\n",
      " 2.48762677 2.513639   2.4524522  2.45825531 2.47420225 2.49532191\n",
      " 2.49107898 2.52616726 2.48817443 2.47399003 2.43396231 2.48714767\n",
      " 2.45348906 2.46877039 2.46227018 2.46805611 2.48200262 2.49127403\n",
      " 2.52128138 2.53032604 2.50951111 2.49906441 2.44852353 2.47983501\n",
      " 2.4841946  2.48936335 2.45322089 2.4452191  2.49804698 2.50375443\n",
      " 2.47183566 2.49204869 2.48004549 2.48152488 2.46175457 2.46696313\n",
      " 2.50544613 2.44523139 2.47507131 2.50285638 2.48279184 2.50175758\n",
      " 2.52698537 2.47747542 2.47419603 2.49056937 2.50544104 2.50606373\n",
      " 2.49158852 2.53078334 2.51297304 2.4893138  2.4883458  2.47957047\n",
      " 2.48518936 2.45019463 2.45168209 2.50679225 2.46258422 2.46156867\n",
      " 2.46611415 2.47497732 2.46322717 2.48428963 2.46733582 2.51192162\n",
      " 2.46340297 2.48844313 2.5028398  2.49724004 2.50097282 2.44978079\n",
      " 2.45827724 2.51563238 2.50562714 2.48773078 2.48475857 2.47736635\n",
      " 2.48108674 2.4647647  2.48939975 2.50535182 2.49206382 2.49228496\n",
      " 2.49541164 2.49566308 2.43832136 2.49216501 2.46619841 2.49020246\n",
      " 2.47252766 2.48764527 2.47340078 2.48333221 2.48824304 2.48186391\n",
      " 2.47842747 2.50659727 2.51284066 2.47840868 2.45958485 2.48587642\n",
      " 2.47041295 2.48309062 2.51508367 2.49600789 2.48382226 2.49293812\n",
      " 2.47319437 2.49135716 2.48469814 2.50953561 2.49478901 2.49737828\n",
      " 2.46445276 2.43289144 2.4613859  2.528307   2.50454945 2.47923076\n",
      " 2.48015231 2.4336738  2.44883064 2.46569105 2.51129721 2.49739951\n",
      " 2.49478414 2.44745587 2.51248242 2.45780261 2.48070537 2.47033845\n",
      " 2.48175033 2.48556623 2.4639457  2.51530619 2.49784966 2.48493582\n",
      " 2.52341656 2.51267143 2.47779729 2.48905531 2.48134734 2.47372385\n",
      " 2.47233187 2.48864702 2.45507508 2.51068641 2.46967504 2.44507129\n",
      " 2.44182464 2.46408497 2.49256105 2.50540976 2.47355796 2.48666533\n",
      " 2.46361697 2.4637141  2.51508584 2.4904356  2.48543848 2.52681692\n",
      " 2.48581916 2.48099351 2.46674326 2.46943874 2.50295613 2.48800881\n",
      " 2.49796184 2.45711957 2.47367936 2.47938447 2.51205301 2.49126308\n",
      " 2.471731   2.47129939 2.50501738 2.4690484  2.49636756 2.46606702\n",
      " 2.48985676 2.45620456 2.46841693 2.48991926 2.44465781 2.4754723\n",
      " 2.48616604 2.47032192 2.49535801 2.49731776 2.51068631 2.50749352\n",
      " 2.49811189 2.47993113 2.49244988 2.48451033 2.48804069 2.44439681\n",
      " 2.47716873 2.50803198 2.51260377 2.45148946 2.48917582 2.47256068\n",
      " 2.44313744 2.46810036 2.46288935 2.47585313 2.45001634 2.46923377\n",
      " 2.46950714 2.48566843 2.475754   2.52457102 2.47266685 2.42667876\n",
      " 2.48626222 2.53210216 2.48477897 2.46967861 2.48576025 2.52120551\n",
      " 2.46057995 2.47902385 2.46085927 2.51579702 2.48998178 2.45687895\n",
      " 2.49229037 2.52039422 2.46687993 2.51713484 2.47722838 2.51957016\n",
      " 2.47094854 2.50745445 2.48752162 2.50237457 2.48189549 2.45444892\n",
      " 2.47445402 2.47483056 2.50429062 2.43653889 2.45743239 2.48434298\n",
      " 2.48612446 2.4729273  2.43815541 2.50828969 2.47913412 2.50320996\n",
      " 2.49797323 2.48816038 2.51670928 2.47357033 2.47164836 2.50022651\n",
      " 2.49949129 2.47887788 2.49725428 2.47626239 2.47740862 2.4860026\n",
      " 2.49191035 2.47073183 2.47883591 2.48041039 2.47279503 2.49382982\n",
      " 2.51300048 2.45386121 2.51447621 2.48413857 2.48330003 2.48265875\n",
      " 2.46952195 2.50422044 2.49215461 2.46846578 2.49077676 2.51818567\n",
      " 2.49142151 2.48662896 2.47940765 2.50958446 2.45530876 2.49658723\n",
      " 2.47643546 2.45195147 2.44317767 2.46829209 2.4638211  2.47922332\n",
      " 2.48060245 2.46758169 2.48530804 2.51757916 2.4701725  2.47671488\n",
      " 2.47192217 2.49674815 2.52941615 2.48676631 2.50461793 2.47766493\n",
      " 2.46946528 2.46500668 2.49909868 2.48395933 2.50012932 2.49445151\n",
      " 2.50722632 2.49035681 2.52845454 2.43796123 2.50180083 2.48575257\n",
      " 2.48344354 2.45501816 2.48495159 2.47639457 2.51569677 2.48177035\n",
      " 2.48170114 2.47729584 2.48240374 2.4845983  2.47133154 2.47633692\n",
      " 2.51243722 2.45835008 2.49985951 2.50200941 2.49208011 2.47917126\n",
      " 2.48330857 2.50122541 2.4694109  2.48958175 2.49080727 2.46042844\n",
      " 2.47201346 2.48595608 2.50441222 2.49792867 2.4483295  2.49191351\n",
      " 2.47066155 2.49978672 2.5106361  2.49813436 2.46466798 2.51298929\n",
      " 2.4893285  2.48037848 2.49348417 2.49387134 2.47334619 2.46585612\n",
      " 2.46686904 2.53005653 2.50778228 2.47581102 2.47066524 2.43199515\n",
      " 2.49064153 2.50040985 2.45902198 2.47704153 2.47091862 2.47100554\n",
      " 2.47508234 2.5092043  2.49628457 2.5218566  2.48993445 2.47646108\n",
      " 2.4605903  2.47568677 2.45747418 2.47642092 2.48718063 2.47413158\n",
      " 2.45851086 2.50845093 2.48271209 2.46958084 2.47671664 2.49048842\n",
      " 2.47064369 2.48392813 2.49011136 2.47573437 2.46462768 2.47773662\n",
      " 2.44250172 2.5027083  2.46478475 2.44576658 2.45446891 2.49157332\n",
      " 2.49451887 2.51357706 2.49621381 2.5155903  2.46762373 2.4664837\n",
      " 2.43521075 2.48994711 2.48784172 2.47338527 2.51232096 2.52676782\n",
      " 2.47416664 2.46557906 2.44603178 2.47922867 2.49523429 2.47382594\n",
      " 2.47350918 2.45374216 2.48479222 2.44110767 2.45121394 2.46855505\n",
      " 2.48329091 2.50693348 2.49709824 2.48612283 2.50217666 2.48805526\n",
      " 2.50642925 2.45667885 2.45363823 2.48794907 2.47445181 2.46935251\n",
      " 2.48954645 2.51389927 2.47678467 2.47073864 2.51533973 2.46341894\n",
      " 2.47766115 2.48360737 2.48937532 2.49096246 2.49611339 2.49498598\n",
      " 2.52262721 2.46760106 2.50089704 2.47399769 2.4677751  2.48588866\n",
      " 2.46195492 2.48694236 2.49867851 2.50595318 2.4966541  2.49745159\n",
      " 2.49428295 2.49938201 2.43875332 2.42765255 2.46228499 2.45011453\n",
      " 2.43904738 2.49253929 2.51267314 2.48860281 2.49831513 2.4993772\n",
      " 2.52334786 2.49478342 2.47938188 2.46068003 2.48920613 2.45477925\n",
      " 2.49169327 2.46633695 2.45723041 2.46260389 2.49586431 2.44406019\n",
      " 2.45734974 2.48763114 2.46951527 2.53536611 2.44915563 2.51613683\n",
      " 2.46306589 2.50634085 2.46752522 2.4513526  2.45089136 2.48042422\n",
      " 2.45522059 2.4648072  2.46516123 2.49429425 2.48833396 2.46824066\n",
      " 2.45449523 2.47439526 2.50245954 2.48263211 2.49928056 2.49519627\n",
      " 2.52332944 2.48371628 2.49749055 2.50975916]\n"
     ]
    }
   ],
   "source": [
    "diameters = 0.54 * np.log(tree_heights) + 0.37\n",
    "print(diameters)"
   ]
  },
  {
   "cell_type": "markdown",
   "metadata": {},
   "source": [
    "(6) Create a histogram for the diameter data."
   ]
  },
  {
   "cell_type": "code",
   "execution_count": 41,
   "metadata": {},
   "outputs": [
    {
     "data": {
      "image/png": "[encoded data removed]",
      "text/plain": [
       "<Figure size 640x480 with 1 Axes>"
      ]
     },
     "metadata": {},
     "output_type": "display_data"
    }
   ],
   "source": [
    "plt.hist(diameters)\n",
    "plt.show()"
   ]
  },
  {
   "cell_type": "markdown",
   "metadata": {},
   "source": [
    "(7) Estimate the volume of each tree in the dataset, assuming each tree has the shape\n",
    "of a cylinder. The volume can be calculated using the formula:\n",
    "$$ V = \\frac{\\pi}{4} (diameter)^2×(height) $$"
   ]
  },
  {
   "cell_type": "code",
   "execution_count": 42,
   "metadata": {},
   "outputs": [
    {
     "name": "stdout",
     "output_type": "stream",
     "text": [
      "[254.81901489 251.18092849 273.2513429  266.35861859 247.66122367\n",
      " 233.28548789 244.65179934 272.00238115 244.92887474 236.83407864\n",
      " 251.93895772 232.8030535  241.53678552 230.70592057 252.0825101\n",
      " 241.89750899 232.56787754 262.15971574 238.02347654 254.75603496\n",
      " 258.19596448 223.53723879 241.72282348 238.90985119 251.97329628\n",
      " 242.53332391 254.76015359 241.95592537 237.10276969 257.45388211\n",
      " 267.04827217 266.01785243 244.91972691 254.33659192 247.9204855\n",
      " 239.99536613 250.17333515 244.70250909 262.39243037 260.62790855\n",
      " 247.79028184 233.86083694 241.36141814 267.24738946 252.84747468\n",
      " 255.25184292 260.93553617 249.09394874 260.65654219 222.31606456\n",
      " 235.63979543 235.08872701 242.52245638 265.74957766 242.01649202\n",
      " 224.50332556 253.13531756 248.15898831 239.71744446 244.05937317\n",
      " 223.35183265 238.78574197 214.59634046 253.5772171  233.27395465\n",
      " 272.0039729  221.37510189 263.10765138 225.35654564 230.24692818\n",
      " 240.33723329 249.45197556 235.45231988 248.77961528 218.22571748\n",
      " 243.97913513 231.74358019 245.88617465 259.37581277 251.15724293\n",
      " 246.64677737 252.25958415 248.90905935 271.88910592 251.08553949\n",
      " 265.60834515 231.99383457 265.04885019 241.91213261 257.23913642\n",
      " 222.92756715 249.67605884 234.62423561 226.43175869 241.63789803\n",
      " 241.7397882  257.84042141 232.00463033 254.78430669 235.76427785\n",
      " 229.34658969 248.91236441 240.60780053 230.13826552 240.67440663\n",
      " 236.03542567 250.84807447 236.38363088 211.33949867 276.68300676\n",
      " 274.2350877  240.32371242 234.06588879 241.54053781 232.7075458\n",
      " 253.48026528 257.84197138 238.25511795 232.79695795 220.7671281\n",
      " 236.36259046 265.57382004 244.22703276 237.82258601 234.78294324\n",
      " 249.2411836  245.65689397 247.24657496 228.30728212 226.76768033\n",
      " 237.05925817 249.95436089 226.94750507 262.40743637 237.40547439\n",
      " 222.34198782 266.0597569  240.46121984 243.49229642 250.64650648\n",
      " 256.84419678 241.68138723 251.22780391 243.47487385 272.82182847\n",
      " 235.74225853 236.15154369 252.50625674 230.77744904 221.25874478\n",
      " 259.38186387 243.42078424 277.76622138 266.15886405 249.35183574\n",
      " 241.04000825 254.86929152 246.62460505 253.20936608 243.97704131\n",
      " 272.47635399 214.66000107 255.65703934 258.25314468 230.88120903\n",
      " 229.20136112 237.97751784 229.52776842 236.54026577 220.1288279\n",
      " 241.04959105 235.49163407 238.33441861 275.96584993 236.63681626\n",
      " 248.79488579 230.75139676 239.33414802 237.00022651 260.14237389\n",
      " 256.87476316 239.73213214 271.34034596 233.75478222 238.20265307\n",
      " 229.36445546 231.3788485  244.61037553 214.03978912 215.79665506\n",
      " 234.93690497 259.74561473 257.4602871  267.99930728 241.36212486\n",
      " 228.73066491 231.90171057 248.18776717 235.76631582 244.43867134\n",
      " 236.57789322 226.24603164 279.57317841 265.4922193  235.54696251\n",
      " 211.67756147 235.42511002 244.66465779 269.16648517 262.20326678\n",
      " 254.60630248 227.513172   280.75687801 230.13925475 245.95186449\n",
      " 221.16737224 240.471432   231.9291487  226.06544861 250.99168213\n",
      " 229.39026155 247.70055224 252.80414854 235.25287785 238.79522033\n",
      " 238.91995323 255.10601653 255.81361936 251.18250033 236.10576602\n",
      " 247.45805599 249.74658115 255.50760037 255.24623784 231.60707025\n",
      " 250.88056733 241.92675918 232.91971474 249.69068547 248.3394445\n",
      " 256.18124073 226.65341203 260.89639094 244.77796156 262.88408318\n",
      " 231.02601236 245.28839665 199.19843826 219.10557966 249.71056647\n",
      " 258.96039759 227.18054445 241.70944166 263.79331554 234.71778017\n",
      " 244.68796792 237.30342935 241.11157193 258.34703815 237.56777426\n",
      " 241.046724   220.67510367 221.63998723 248.54393649 245.66355999\n",
      " 249.98048474 258.95465164 234.60031644 230.04957467 247.64419956\n",
      " 275.43410012 259.83971633 260.1680726  244.19167778 218.90773854\n",
      " 231.97831343 246.74448155 233.07007314 248.52657195 259.63862605\n",
      " 239.26507629 244.78864469 217.84564268 237.16234636 217.15578919\n",
      " 235.29507505 220.72779084 245.04536364 240.77218805 252.60402099\n",
      " 241.42195196 255.1782122  230.31883239 258.17943071 243.08104529\n",
      " 250.69515565 237.1935988  259.81261586 246.31358154 234.38904256\n",
      " 228.99457099 260.4731919  222.57389022 231.25665365 237.86710612\n",
      " 255.75593371 251.86957791 246.6851064  235.42552756 241.92792342\n",
      " 245.30585837 233.3198266  223.77653363 220.19612279 243.11650815\n",
      " 265.77230357 236.87979431 257.90553095 232.72145317 236.61634905\n",
      " 246.71855659 228.43516488 247.40742592 249.16298258 237.81020253\n",
      " 286.56601753 246.36905562 243.73703276 253.2447944  241.59912333\n",
      " 221.15389575 238.2736585  232.66582015 248.86739512 243.15249077\n",
      " 242.16549308 215.07247382 222.87569176 223.09952817 257.14131582\n",
      " 217.09329989 241.50272475 230.65706753 232.36968457 246.39998502\n",
      " 240.37917338 240.43491646 235.99164516 221.43563158 230.78505012\n",
      " 264.11019169 238.93255292 229.78362381 243.03568602 249.01869785\n",
      " 249.98669497 231.23295797 228.19879753 250.21454809 232.18957141\n",
      " 245.96753508 248.62278113 230.0186657  251.08109883 257.52590912\n",
      " 238.14536406 248.97342986 240.20254676 255.91469561 259.067578\n",
      " 247.37274677 248.5898751  226.52564716 231.40954842 248.0108839\n",
      " 237.81897384 239.06809795 228.73674254 261.7997596  259.63670727\n",
      " 225.75900584 242.01217345 249.71543362 208.44147256 242.9649193\n",
      " 263.61589258 208.17546618 255.26708545 224.97406729 234.16529975\n",
      " 247.26435536 268.3900089  224.57798441 246.6383399  243.20448947\n",
      " 269.35561405 238.69148714 240.03772153 219.1921267  233.87308294\n",
      " 218.79073936 233.97495179 252.3804854  229.00237636 253.26219796\n",
      " 229.69617716 230.17260917 239.55403677 235.88481436 229.92963327\n",
      " 249.17218403 230.19114067 256.35118393 245.80767431 241.97002807\n",
      " 237.39062552 232.17079259 265.50651504 230.88970718 241.54306301\n",
      " 249.42337846 236.34537743 236.53211301 240.46833368 255.74994393\n",
      " 236.65005391 246.39533002 261.30757119 244.0216641  239.48109409\n",
      " 232.22401631 253.29129973 243.95829943 242.71699214 238.47001318\n",
      " 250.54149673 244.31642319 225.27966283 241.14660962 237.61595348\n",
      " 239.60711421 241.38424738 247.6746536  239.03108964 269.55986648\n",
      " 262.74269365 259.17379325 238.34303103 230.56922853 261.98114824\n",
      " 249.31677865 226.42435758 227.87472262 244.34672638 259.22012763\n",
      " 266.41215641 243.68762746 248.28052182 239.12354963 239.98985204\n",
      " 244.45272493 249.57825082 261.10521481 247.80718026 213.03835055\n",
      " 274.32662311 247.96857007 233.33657818 273.30766963 235.46309457\n",
      " 228.4484557  255.90164792 230.69271932 228.68646228 244.65532547\n",
      " 244.27669563 246.14344942 232.18557167 249.21131942 237.40738448\n",
      " 238.13081638 253.71156848 243.96537138 238.27277676 260.68517036\n",
      " 241.23486044 245.33506474 262.85442774 223.40926084 226.89304621\n",
      " 236.73524522 250.39816793 247.59428123 271.71244818 245.69215091\n",
      " 236.60163195 212.64603651 245.02308433 224.02795487 233.33793715\n",
      " 229.33354064 232.89467421 241.69653986 247.72251919 268.22453698\n",
      " 274.71539164 259.99673054 252.89647995 221.0797682  240.308003\n",
      " 243.10846501 246.46905629 223.86777965 219.13835915 252.21494954\n",
      " 256.06091723 235.24932125 248.23245174 240.44249917 241.38985197\n",
      " 229.01872751 232.21794809 257.21158509 219.1455526  237.28314721\n",
      " 255.45207719 242.20399989 254.70901844 272.30069463 238.80514131\n",
      " 236.73132913 247.2595333  257.20811593 257.63289126 247.92941609\n",
      " 275.04752449 262.39137538 246.4366344  245.80398973 240.13906866\n",
      " 243.75181877 222.06779582 222.95078911 258.13071663 229.52548631\n",
      " 228.90532128 231.69359208 237.22383281 229.9189448  243.16985475\n",
      " 232.44848939 261.66188032 230.02663767 245.86752848 255.44085129\n",
      " 251.67566501 254.17959016 221.82272242 226.90630888 264.24514362\n",
      " 257.33499742 245.40284432 243.47301249 238.73589158 241.10890917\n",
      " 230.86245889 246.49288143 257.14730372 248.24241945 248.38817559\n",
      " 250.45778842 250.62493918 215.13805545 248.30910282 231.74558333\n",
      " 247.01878791 235.68288653 245.34711696 236.23101932 242.5520404\n",
      " 245.73691851 241.60745474 239.4104374  257.99739016 262.29941524\n",
      " 239.3984764  227.69847056 244.19711617 234.36032275 242.39637577\n",
      " 263.86163013 250.85432702 242.86807522 248.81916557 236.10133062\n",
      " 247.77718925 243.43392468 260.01360016 250.04435485 251.76796934\n",
      " 230.6707333  212.03805153 228.79388004 273.25355876 256.60106173\n",
      " 239.92229347 240.51078506 212.48207225 221.26103047 231.43269396\n",
      " 261.22956964 251.78215295 250.0411202  220.45071461 262.05072915\n",
      " 226.61942131 240.86462481 234.31385852 241.534532   243.995982\n",
      " 230.35941673 264.01709357 252.08297545 243.58768976 269.74349467\n",
      " 262.18191048 239.00962019 246.26754257 241.27597016 236.43414835\n",
      " 235.56014081 246.000687   224.97749312 260.80734455 233.90049512\n",
      " 219.05190438 217.16098367 230.44488559 248.57026829 257.18679083\n",
      " 236.32982817 244.70938522 230.15779551 230.21735222 263.86314276\n",
      " 247.17173948 243.91319237 272.17947182 244.15997408 241.04916832\n",
      " 232.08204211 233.75342816 255.51963349 245.58410922 252.15799784\n",
      " 226.20717516 236.40616474 240.02035524 261.75293241 247.71531993\n",
      " 235.18381241 234.91384982 256.91949043 233.51068141 251.09381127\n",
      " 231.66451737 246.79216882 225.65603786 233.11848906 246.83312298\n",
      " 218.81021232 237.53636127 244.38505774 234.30355441 250.4221543\n",
      " 251.72755509 260.80727608 258.61078251 252.25838151 240.36941342\n",
      " 248.49692747 243.31248665 245.60490349 218.65778527 238.61046516\n",
      " 258.97997744 262.13494709 222.83625141 246.34635783 235.70359352\n",
      " 217.92370861 232.9221106  229.71213468 237.77708435 221.96218212\n",
      " 233.6259308  233.79599038 244.06223114 237.71440432 270.56819404\n",
      " 235.77018965 208.54336557 244.4474995  276.00752113 243.48620848\n",
      " 233.90271756 244.12177086 268.17071357 228.30307834 239.79035093\n",
      " 228.47305913 264.36032514 246.87409952 226.06212158 248.39174455\n",
      " 267.59581503 232.16651204 265.29800178 238.64831593 267.01308043\n",
      " 234.69461502 258.58401668 245.26656313 255.1259979  241.62773286\n",
      " 224.60215398 236.89384692 237.13124545 256.42508932 214.11569244\n",
      " 226.39588989 243.20432791 244.35806391 235.93362481 215.04267272\n",
      " 259.15685294 239.86065993 255.69162534 252.16561373 245.68297945\n",
      " 264.99937856 236.33760563 235.13210161 253.67707256 253.18295697\n",
      " 239.69730626 251.6851685  238.03603519 238.76272801 244.27898375\n",
      " 248.14131171 234.55930075 239.67056606 240.67583739 235.85060822\n",
      " 249.40869974 262.41043991 224.25041142 263.43767042 243.07228175\n",
      " 242.53129673 242.11835355 233.80520835 256.37739903 248.30224955\n",
      " 233.14880231 247.3957137  266.03675591 247.81951859 244.68574518\n",
      " 240.03514367 260.04724925 225.11771815 251.24018669 238.14562633\n",
      " 223.11105695 217.9471204  233.0410241  230.28297325 239.91754838\n",
      " 240.79873928 232.60070368 243.82868146 265.61012391 234.21039458\n",
      " 238.32265529 235.30348278 251.34746601 274.05569076 244.77502502\n",
      " 256.64764208 238.92551504 233.76994101 231.0112815  252.91947145\n",
      " 242.95654659 253.61170512 249.82051982 258.42776511 247.12003953\n",
      " 273.36012852 214.93112024 254.73822399 244.1167872  242.6238023\n",
      " 224.94334785 243.59789859 238.11972808 264.29018194 241.54738592\n",
      " 241.50296102 238.69113446 241.95432816 243.36936225 234.93395247\n",
      " 238.08322356 262.01936848 226.95036353 253.43030651 254.87913195\n",
      " 248.25314969 239.88433929 242.53680436 254.34988039 233.7361054\n",
      " 246.61202512 247.41574868 228.21092285 235.36064969 244.2487961\n",
      " 256.5077463  252.13581327 220.96532223 248.14339275 234.51543549\n",
      " 253.38139407 260.77259331 252.27341204 230.80299461 262.40266491\n",
      " 246.44624924 240.65542672 249.18002233 249.43618498 236.19671264\n",
      " 231.53444973 232.15977841 274.51983348 258.80871105 237.75045579\n",
      " 234.51773902 211.5304578  247.30690531 253.80043445 227.35715764\n",
      " 238.52977033 234.67593236 234.73022205 237.29010886 259.78551511\n",
      " 251.03853718 268.63293872 246.8430806  238.1618488  228.3093718\n",
      " 237.6718986  226.42110724 238.13641847 245.04453603 236.69074092\n",
      " 227.04764327 259.26758038 242.15267582 233.84185909 238.32376918\n",
      " 247.20639915 234.50428951 242.9364079  246.95905267 237.70199355\n",
      " 230.77822248 238.9710644  217.55404178 255.35182058 230.87478184\n",
      " 219.45888748 224.61413115 247.91941116 249.86517766 262.81132647\n",
      " 250.99140975 264.21571327 232.6267404  231.92170186 213.35692564\n",
      " 246.85138038 245.47515799 236.22127158 261.93872027 272.14414819\n",
      " 236.71281551 231.36368823 219.61431407 239.92095841 250.33996267\n",
      " 236.49837344 236.29915942 224.17922301 243.49478    216.74551016\n",
      " 222.67252255 233.20422049 242.52542062 258.22732915 251.58101173\n",
      " 244.35701008 254.99217509 245.61440661 257.88254947 225.94155798\n",
      " 224.11709832 245.54515233 236.89245796 233.69978335 246.58891098\n",
      " 263.0356119  238.3668895  234.56355288 264.04053519 230.03642302\n",
      " 238.92311327 242.72944445 246.47688933 247.51770558 250.92455314\n",
      " 250.17507022 269.18099978 232.61269962 254.12851883 236.60644985\n",
      " 232.72050108 244.20505769 229.14100184 244.88951277 252.63777723\n",
      " 257.55743113 251.28476101 251.81693673 249.70879414 253.1095921\n",
      " 215.38650889 209.08747994 229.34259124 222.02034254 215.55580406\n",
      " 248.55591093 262.18309749 245.97180915 252.39440424 253.1063588\n",
      " 269.69449814 250.04064439 240.01870121 228.36396478 246.36618381\n",
      " 224.80008731 247.9983669  231.83109099 226.27402502 229.53751503\n",
      " 250.75878433 218.46133989 226.34601491 245.33790882 233.8010471\n",
      " 278.39719684 221.45299804 264.59819529 229.82018603 257.82215171\n",
      " 232.56573238 222.75490868 222.48097433 240.68468651 225.06479743\n",
      " 230.88858813 231.10638874 249.71628506 245.79626005 233.00912047\n",
      " 224.62989425 236.85682162 255.18347755 242.10121172 253.04149611\n",
      " 250.31470855 269.68135492 242.79969881 251.84296649 260.16761022]\n"
     ]
    }
   ],
   "source": [
    "volumes = np.pi / 4 * diameters ** 2 * tree_heights\n",
    "print(volumes)"
   ]
  },
  {
   "cell_type": "markdown",
   "metadata": {},
   "source": [
    "(8) Create a boxplot for the volume."
   ]
  },
  {
   "cell_type": "code",
   "execution_count": 43,
   "metadata": {},
   "outputs": [
    {
     "data": {
      "image/png": "[encoded data removed]",
      "text/plain": [
       "<Figure size 640x480 with 1 Axes>"
      ]
     },
     "metadata": {},
     "output_type": "display_data"
    }
   ],
   "source": [
    "plt.boxplot(volumes)\n",
    "plt.show()"
   ]
  }
 ],
 "metadata": {
  "kernelspec": {
   "display_name": "Python 3",
   "language": "python",
   "name": "python3"
  },
  "language_info": {
   "codemirror_mode": {
    "name": "ipython",
    "version": 3
   },
   "file_extension": ".py",
   "mimetype": "text/x-python",
   "name": "python",
   "nbconvert_exporter": "python",
   "pygments_lexer": "ipython3",
   "version": "3.10.7"
  }
 },
 "nbformat": 4,
 "nbformat_minor": 2
}
