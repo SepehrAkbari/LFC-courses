{
 "cells": [
  {
   "cell_type": "markdown",
   "metadata": {},
   "source": [
    "# Exam 1"
   ]
  },
  {
   "cell_type": "markdown",
   "metadata": {},
   "source": [
    "- A Python dictionary stores data in the form of unique keys and unique values. (FALE)\n",
    "\n",
    "- PCA is a supervised technique for dimensionality reduction. (FALSE)\n",
    "\n",
    "- In the 2-D array (or dataframe), the dimention with index 1 signifies the columns. (TRUE)\n",
    "\n",
    "- For meanshift clustering, we need to provide the number of clusters as an initial argument. (FALSE)\n",
    "\n",
    "- A linear regression model isn't appropriate if the dependent variable is discrete. (TRUE)\n",
    "\n",
    "- `os.listdir(path)`: returns a list of all files in the directory specified by the path.\n",
    "\n",
    "- `z = np.zeros([10,10])`: creates a 10x10 matrix of zeros.\n",
    "\n",
    "- `data.dtypes`: returns the data types of each column in the dataframe.\n",
    "\n",
    "- `model.fit(X,y)`: fits the model to the data.\n",
    "\n",
    "- `data = data[:,1:]`: removes the first column from the data.\n",
    "\n",
    "- If the data visible in the dataframe column is a decimal number, the data type of the column CANNOT be int65.\n",
    "\n",
    "- The following statement is NOT true about PCA: \"The original data can usually be reconstructed exactly as before from the reduced dimentions.\"\n",
    "\n",
    "- The signs $m$ and $c$, in $y = mx + c$ in a upward line with a left slope is $m > 0$ and $c < 0$.\n",
    "\n",
    "- In a pandas dataframe column has a multi-word name, then we can access it by: \"using square brackets and quotation marks [' '] around the column name\".\n",
    "\n",
    "- If np stands for the numpy library, the line of code `print(np.random.randint(1,10))`: \"prints a random integer between 1 and 9 (including both)\".\n"
   ]
  },
  {
   "cell_type": "code",
   "execution_count": 2,
   "metadata": {},
   "outputs": [],
   "source": [
    "import pandas as pd\n",
    "import numpy as np\n",
    "import matplotlib.pyplot as plt\n",
    "from sklearn.preprocessing import StandardScaler\n",
    "from sklearn.decomposition import PCA\n",
    "from sklearn.cluster import KMeans"
   ]
  },
  {
   "cell_type": "markdown",
   "metadata": {},
   "source": [
    "1. Read the data into a pandas dataframe"
   ]
  },
  {
   "cell_type": "code",
   "execution_count": null,
   "metadata": {},
   "outputs": [],
   "source": [
    "df = pd.read_csv('datafile.csv')"
   ]
  },
  {
   "cell_type": "markdown",
   "metadata": {},
   "source": [
    "2. Display the last 8 rows of the data along with their column names"
   ]
  },
  {
   "cell_type": "code",
   "execution_count": 4,
   "metadata": {},
   "outputs": [
    {
     "name": "stdout",
     "output_type": "stream",
     "text": [
      "    Species  Weight  Length1  Length2  Length3  Height   Width\n",
      "151   Smelt    10.0     11.3     11.8     13.1  2.2139  1.2838\n",
      "152   Smelt     9.9     11.3     11.8     13.1  2.2139  1.1659\n",
      "153   Smelt     9.8     11.4     12.0     13.2  2.2044  1.1484\n",
      "154   Smelt    12.2     11.5     12.2     13.4  2.0904  1.3936\n",
      "155   Smelt    13.4     11.7     12.4     13.5  2.4300  1.2690\n",
      "156   Smelt    12.2     12.1     13.0     13.8  2.2770  1.2558\n",
      "157   Smelt    19.7     13.2     14.3     15.2  2.8728  2.0672\n",
      "158   Smelt    19.9     13.8     15.0     16.2  2.9322  1.8792\n"
     ]
    }
   ],
   "source": [
    "print(df.tail(8))"
   ]
  },
  {
   "cell_type": "markdown",
   "metadata": {},
   "source": [
    "3. Create a new pandas dataframe with just the data in the column called \"category\""
   ]
  },
  {
   "cell_type": "code",
   "execution_count": 5,
   "metadata": {},
   "outputs": [],
   "source": [
    "df_category = df[['Species']]"
   ]
  },
  {
   "cell_type": "markdown",
   "metadata": {},
   "source": [
    "4. For every value in the \"category\" column, display the number of rows that have that value."
   ]
  },
  {
   "cell_type": "code",
   "execution_count": 6,
   "metadata": {},
   "outputs": [
    {
     "name": "stdout",
     "output_type": "stream",
     "text": [
      "Species\n",
      "Perch        56\n",
      "Bream        35\n",
      "Roach        20\n",
      "Pike         17\n",
      "Smelt        14\n",
      "Parkki       11\n",
      "Whitefish     6\n",
      "Name: count, dtype: int64\n"
     ]
    }
   ],
   "source": [
    "category_count = df_category['Species'].value_counts()\n",
    "print(category_count)"
   ]
  },
  {
   "cell_type": "markdown",
   "metadata": {},
   "source": [
    "5. Displaying bar chart with \"category\" on the x-axis and the number of rows for each category on the y-axis."
   ]
  },
  {
   "cell_type": "code",
   "execution_count": null,
   "metadata": {},
   "outputs": [],
   "source": [
    "category_count.plot(kind='bar')\n",
    "plt.xlabel('Category')\n",
    "plt.ylabel('Count')\n",
    "plt.title('Category Count')\n",
    "plt.show()"
   ]
  },
  {
   "cell_type": "markdown",
   "metadata": {},
   "source": [
    "6. Assuming the data are numeric, reduce the dimentionality of the data to half."
   ]
  },
  {
   "cell_type": "code",
   "execution_count": null,
   "metadata": {},
   "outputs": [],
   "source": [
    "df_numeric = df.select_dtypes(include=[np.number])\n",
    "num_dim = df_numeric.shape[1]\n",
    "pca = PCA(n_components=num_dim//2)\n",
    "pca.fit_transform(df_numeric)"
   ]
  },
  {
   "cell_type": "markdown",
   "metadata": {},
   "source": [
    "7.  Fit a k-means clustering model to the data with the number of clusters equal to the number of unique values in the \"category\" column."
   ]
  },
  {
   "cell_type": "code",
   "execution_count": null,
   "metadata": {},
   "outputs": [],
   "source": [
    "num_cluster = category_count.shape[0]\n",
    "kmeans = KMeans(n_clusters=num_cluster)\n",
    "kmeans.fit(df_numeric)"
   ]
  }
 ],
 "metadata": {
  "kernelspec": {
   "display_name": "Python 3",
   "language": "python",
   "name": "python3"
  },
  "language_info": {
   "codemirror_mode": {
    "name": "ipython",
    "version": 3
   },
   "file_extension": ".py",
   "mimetype": "text/x-python",
   "name": "python",
   "nbconvert_exporter": "python",
   "pygments_lexer": "ipython3",
   "version": "3.10.7"
  }
 },
 "nbformat": 4,
 "nbformat_minor": 2
}
