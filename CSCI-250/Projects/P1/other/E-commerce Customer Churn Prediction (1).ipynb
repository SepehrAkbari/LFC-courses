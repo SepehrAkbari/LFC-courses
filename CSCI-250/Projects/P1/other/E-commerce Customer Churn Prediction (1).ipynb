{
 "cells": [
  {
   "cell_type": "markdown",
   "id": "7d180ae4",
   "metadata": {
    "papermill": {
     "duration": 0.081118,
     "end_time": "2022-03-21T18:05:10.317223",
     "exception": false,
     "start_time": "2022-03-21T18:05:10.236105",
     "status": "completed"
    },
    "tags": []
   },
   "source": [
    "# Customer Churn Prediction\n",
    "![image](https://user-images.githubusercontent.com/42872872/158339814-d33fb740-9d1e-4d31-acfa-faccaac69afc.png)\\\n",
    "Churn prediction is identifying customers that are most likely to live a service. This is important for most companies as acquiring new customers is more costlier than retaining old ones, So the results of Churn prediction help companies focus on customers that are likely to churn and develop strategies for retaining those customers.\n",
    "\n",
    "Here I worked with [E Commerce Customer](https://www.kaggle.com/ankitverma2010/ecommerce-customer-churn-analysis-and-prediction).\\\n",
    "The work flow of the project is given below\n",
    "## Table of Contents\n",
    "* [Exploratory Data Analysis](#section-one)\n",
    "* [Data Preprocessing](#section-two)\n",
    "    - [Missing Value Treatment](#subsection-one)\n",
    "    - [Categorical Encoding](#subsection-two)\n",
    "* [Model Development](#section-three)\n",
    "* [Conclusion](#section-four)"
   ]
  },
  {
   "cell_type": "markdown",
   "id": "d6c56288",
   "metadata": {
    "papermill": {
     "duration": 0.078661,
     "end_time": "2022-03-21T18:05:10.476624",
     "exception": false,
     "start_time": "2022-03-21T18:05:10.397963",
     "status": "completed"
    },
    "tags": []
   },
   "source": [
    "<a id=\"section-one\"></a>\n",
    "# Exploratory Data Analysis\n",
    "Here I will explore the dataset, explore each feature of the customers, perform descriptive analysis, and visualize the relationship between the variables.\\\n",
    "The Data is Stored in an Excel file with two excel sheets, one for the data description, and the order contains the customer data."
   ]
  },
  {
   "cell_type": "code",
   "execution_count": 1,
   "id": "08bbf22c",
   "metadata": {
    "execution": {
     "iopub.execute_input": "2022-03-21T18:05:10.645367Z",
     "iopub.status.busy": "2022-03-21T18:05:10.642947Z",
     "iopub.status.idle": "2022-03-21T18:05:39.483252Z",
     "shell.execute_reply": "2022-03-21T18:05:39.483923Z",
     "shell.execute_reply.started": "2022-03-18T16:32:41.712845Z"
    },
    "papermill": {
     "duration": 28.928176,
     "end_time": "2022-03-21T18:05:39.484201",
     "exception": false,
     "start_time": "2022-03-21T18:05:10.556025",
     "status": "completed"
    },
    "tags": []
   },
   "outputs": [
    {
     "name": "stdout",
     "output_type": "stream",
     "text": [
      "Requirement already satisfied: openpyxl in /opt/anaconda3/lib/python3.12/site-packages (3.1.5)\n",
      "Requirement already satisfied: et-xmlfile in /opt/anaconda3/lib/python3.12/site-packages (from openpyxl) (1.1.0)\n",
      "\n",
      "\u001b[1m[\u001b[0m\u001b[34;49mnotice\u001b[0m\u001b[1;39;49m]\u001b[0m\u001b[39;49m A new release of pip is available: \u001b[0m\u001b[31;49m25.0\u001b[0m\u001b[39;49m -> \u001b[0m\u001b[32;49m25.0.1\u001b[0m\n",
      "\u001b[1m[\u001b[0m\u001b[34;49mnotice\u001b[0m\u001b[1;39;49m]\u001b[0m\u001b[39;49m To update, run: \u001b[0m\u001b[32;49mpip install --upgrade pip\u001b[0m\n",
      "Collecting fancyimpute\n",
      "  Downloading fancyimpute-0.7.0.tar.gz (25 kB)\n",
      "  Preparing metadata (setup.py) ... \u001b[?25ldone\n",
      "\u001b[?25hCollecting knnimpute>=0.1.0 (from fancyimpute)\n",
      "  Downloading knnimpute-0.1.0.tar.gz (8.3 kB)\n",
      "  Preparing metadata (setup.py) ... \u001b[?25ldone\n",
      "\u001b[?25hRequirement already satisfied: scikit-learn>=0.24.2 in /opt/anaconda3/lib/python3.12/site-packages (from fancyimpute) (1.5.1)\n",
      "Collecting cvxpy (from fancyimpute)\n",
      "  Downloading cvxpy-1.6.0-cp312-cp312-macosx_10_13_universal2.whl.metadata (9.2 kB)\n",
      "Collecting cvxopt (from fancyimpute)\n",
      "  Downloading cvxopt-1.3.2-cp312-cp312-macosx_11_0_arm64.whl.metadata (1.3 kB)\n",
      "Requirement already satisfied: pytest in /opt/anaconda3/lib/python3.12/site-packages (from fancyimpute) (7.4.4)\n",
      "Collecting nose (from fancyimpute)\n",
      "  Downloading nose-1.3.7-py3-none-any.whl.metadata (1.7 kB)\n",
      "Requirement already satisfied: six in /opt/anaconda3/lib/python3.12/site-packages (from knnimpute>=0.1.0->fancyimpute) (1.16.0)\n",
      "Requirement already satisfied: numpy>=1.10 in /opt/anaconda3/lib/python3.12/site-packages (from knnimpute>=0.1.0->fancyimpute) (1.26.4)\n",
      "Requirement already satisfied: scipy>=1.6.0 in /opt/anaconda3/lib/python3.12/site-packages (from scikit-learn>=0.24.2->fancyimpute) (1.13.1)\n",
      "Requirement already satisfied: joblib>=1.2.0 in /opt/anaconda3/lib/python3.12/site-packages (from scikit-learn>=0.24.2->fancyimpute) (1.4.2)\n",
      "Requirement already satisfied: threadpoolctl>=3.1.0 in /opt/anaconda3/lib/python3.12/site-packages (from scikit-learn>=0.24.2->fancyimpute) (3.5.0)\n",
      "Collecting osqp>=0.6.2 (from cvxpy->fancyimpute)\n",
      "  Downloading osqp-0.6.7.post3-cp312-cp312-macosx_11_0_arm64.whl.metadata (1.9 kB)\n",
      "Collecting clarabel>=0.5.0 (from cvxpy->fancyimpute)\n",
      "  Downloading clarabel-0.10.0-cp39-abi3-macosx_10_12_x86_64.macosx_11_0_arm64.macosx_10_12_universal2.whl.metadata (4.8 kB)\n",
      "Collecting scs>=3.2.4.post1 (from cvxpy->fancyimpute)\n",
      "  Downloading scs-3.2.7.post2-cp312-cp312-macosx_11_0_arm64.whl.metadata (2.1 kB)\n",
      "Requirement already satisfied: iniconfig in /opt/anaconda3/lib/python3.12/site-packages (from pytest->fancyimpute) (1.1.1)\n",
      "Requirement already satisfied: packaging in /opt/anaconda3/lib/python3.12/site-packages (from pytest->fancyimpute) (24.1)\n",
      "Requirement already satisfied: pluggy<2.0,>=0.12 in /opt/anaconda3/lib/python3.12/site-packages (from pytest->fancyimpute) (1.0.0)\n",
      "Collecting qdldl (from osqp>=0.6.2->cvxpy->fancyimpute)\n",
      "  Downloading qdldl-0.1.7.post5-cp312-cp312-macosx_11_0_arm64.whl.metadata (1.7 kB)\n",
      "Downloading cvxopt-1.3.2-cp312-cp312-macosx_11_0_arm64.whl (12.8 MB)\n",
      "\u001b[2K   \u001b[90m━━━━━━━━━━━━━━━━━━━━━━━━━━━━━━━━━━━━━━━━\u001b[0m \u001b[32m12.8/12.8 MB\u001b[0m \u001b[31m15.8 MB/s\u001b[0m eta \u001b[36m0:00:00\u001b[0ma \u001b[36m0:00:01\u001b[0m\n",
      "\u001b[?25hDownloading cvxpy-1.6.0-cp312-cp312-macosx_10_13_universal2.whl (1.5 MB)\n",
      "\u001b[2K   \u001b[90m━━━━━━━━━━━━━━━━━━━━━━━━━━━━━━━━━━━━━━━━\u001b[0m \u001b[32m1.5/1.5 MB\u001b[0m \u001b[31m11.5 MB/s\u001b[0m eta \u001b[36m0:00:00\u001b[0m\n",
      "\u001b[?25hDownloading nose-1.3.7-py3-none-any.whl (154 kB)\n",
      "Downloading clarabel-0.10.0-cp39-abi3-macosx_10_12_x86_64.macosx_11_0_arm64.macosx_10_12_universal2.whl (1.7 MB)\n",
      "\u001b[2K   \u001b[90m━━━━━━━━━━━━━━━━━━━━━━━━━━━━━━━━━━━━━━━━\u001b[0m \u001b[32m1.7/1.7 MB\u001b[0m \u001b[31m15.6 MB/s\u001b[0m eta \u001b[36m0:00:00\u001b[0m\n",
      "\u001b[?25hDownloading osqp-0.6.7.post3-cp312-cp312-macosx_11_0_arm64.whl (237 kB)\n",
      "Downloading scs-3.2.7.post2-cp312-cp312-macosx_11_0_arm64.whl (93 kB)\n",
      "Downloading qdldl-0.1.7.post5-cp312-cp312-macosx_11_0_arm64.whl (103 kB)\n",
      "Building wheels for collected packages: fancyimpute, knnimpute\n",
      "  Building wheel for fancyimpute (setup.py) ... \u001b[?25ldone\n",
      "\u001b[?25h  Created wheel for fancyimpute: filename=fancyimpute-0.7.0-py3-none-any.whl size=29879 sha256=b0d611200c619b138445e8137c41e2d293787d0d8d312b859b7fbabf40d5deda\n",
      "  Stored in directory: /Users/sepehrakbari/Library/Caches/pip/wheels/df/20/91/e4850b9a31cf660c1bc95515d3bcbc8010e869e5de6d5baf07\n",
      "  Building wheel for knnimpute (setup.py) ... \u001b[?25ldone\n",
      "\u001b[?25h  Created wheel for knnimpute: filename=knnimpute-0.1.0-py3-none-any.whl size=11329 sha256=d6965221881cbd53dbd4a93be3b376fc35c84e447355fdaddb8d323aae06d546\n",
      "  Stored in directory: /Users/sepehrakbari/Library/Caches/pip/wheels/89/11/61/aa5a3167bfff49218cd043a73a83034b9eadd858b0059521be\n",
      "Successfully built fancyimpute knnimpute\n",
      "Installing collected packages: nose, knnimpute, cvxopt, scs, qdldl, clarabel, osqp, cvxpy, fancyimpute\n",
      "Successfully installed clarabel-0.10.0 cvxopt-1.3.2 cvxpy-1.6.0 fancyimpute-0.7.0 knnimpute-0.1.0 nose-1.3.7 osqp-0.6.7.post3 qdldl-0.1.7.post5 scs-3.2.7.post2\n",
      "\n",
      "\u001b[1m[\u001b[0m\u001b[34;49mnotice\u001b[0m\u001b[1;39;49m]\u001b[0m\u001b[39;49m A new release of pip is available: \u001b[0m\u001b[31;49m25.0\u001b[0m\u001b[39;49m -> \u001b[0m\u001b[32;49m25.0.1\u001b[0m\n",
      "\u001b[1m[\u001b[0m\u001b[34;49mnotice\u001b[0m\u001b[1;39;49m]\u001b[0m\u001b[39;49m To update, run: \u001b[0m\u001b[32;49mpip install --upgrade pip\u001b[0m\n"
     ]
    }
   ],
   "source": [
    "#installing libraries for working with excel file, and missing values\n",
    "!pip install openpyxl\n",
    "!pip install fancyimpute"
   ]
  },
  {
   "cell_type": "code",
   "execution_count": 1,
   "id": "e0d51153",
   "metadata": {
    "execution": {
     "iopub.execute_input": "2022-03-21T18:05:39.654575Z",
     "iopub.status.busy": "2022-03-21T18:05:39.654073Z",
     "iopub.status.idle": "2022-03-21T18:05:41.690395Z",
     "shell.execute_reply": "2022-03-21T18:05:41.690970Z",
     "shell.execute_reply.started": "2022-03-18T16:33:16.469443Z"
    },
    "papermill": {
     "duration": 2.109546,
     "end_time": "2022-03-21T18:05:41.691128",
     "exception": false,
     "start_time": "2022-03-21T18:05:39.581582",
     "status": "completed"
    },
    "tags": []
   },
   "outputs": [],
   "source": [
    "#import required libraries\n",
    "import numpy as np\n",
    "import pandas as pd\n",
    "import matplotlib.pyplot as plt\n",
    "import seaborn as sns\n",
    "# import missingno as msno\n",
    "from sklearn.preprocessing import StandardScaler\n",
    "from sklearn.model_selection import train_test_split, StratifiedKFold, cross_val_score\n",
    "\n",
    "from sklearn.linear_model import LogisticRegression\n",
    "from sklearn.ensemble import RandomForestClassifier\n",
    "from sklearn.discriminant_analysis import LinearDiscriminantAnalysis\n",
    "# from xgboost import XGBClassifier\n",
    "\n",
    "from sklearn.pipeline import Pipeline\n",
    "from sklearn.metrics import f1_score, accuracy_score, confusion_matrix\n",
    "# from fancyimpute import IterativeImputer\n",
    "# from skopt import BayesSearchCV\n",
    "\n",
    "import warnings\n",
    "warnings.filterwarnings('ignore')"
   ]
  },
  {
   "cell_type": "code",
   "execution_count": 2,
   "id": "e7acab1a",
   "metadata": {
    "execution": {
     "iopub.execute_input": "2022-03-21T18:05:41.833323Z",
     "iopub.status.busy": "2022-03-21T18:05:41.832835Z",
     "iopub.status.idle": "2022-03-21T18:05:44.856047Z",
     "shell.execute_reply": "2022-03-21T18:05:44.856432Z",
     "shell.execute_reply.started": "2022-03-18T16:33:18.343905Z"
    },
    "papermill": {
     "duration": 3.095991,
     "end_time": "2022-03-21T18:05:44.856597",
     "exception": false,
     "start_time": "2022-03-21T18:05:41.760606",
     "status": "completed"
    },
    "tags": []
   },
   "outputs": [
    {
     "data": {
      "application/vnd.microsoft.datawrangler.viewer.v0+json": {
       "columns": [
        {
         "name": "index",
         "rawType": "int64",
         "type": "integer"
        },
        {
         "name": "Data",
         "rawType": "object",
         "type": "string"
        },
        {
         "name": "Variable",
         "rawType": "object",
         "type": "string"
        },
        {
         "name": "Discerption",
         "rawType": "object",
         "type": "string"
        }
       ],
       "conversionMethod": "pd.DataFrame",
       "ref": "cff828c4-7a97-457c-976a-15bf86c59eef",
       "rows": [
        [
         "0",
         "E Comm",
         "CustomerID",
         "Unique customer ID"
        ],
        [
         "1",
         "E Comm",
         "Churn",
         "Churn Flag"
        ],
        [
         "2",
         "E Comm",
         "Tenure",
         "Tenure of customer in organization"
        ],
        [
         "3",
         "E Comm",
         "PreferredLoginDevice",
         "Preferred login device of customer"
        ],
        [
         "4",
         "E Comm",
         "CityTier",
         "City tier"
        ],
        [
         "5",
         "E Comm",
         "WarehouseToHome",
         "Distance in between warehouse to home of customer"
        ],
        [
         "6",
         "E Comm",
         "PreferredPaymentMode",
         "Preferred payment method of customer"
        ],
        [
         "7",
         "E Comm",
         "Gender",
         "Gender of customer"
        ],
        [
         "8",
         "E Comm",
         "HourSpendOnApp",
         "Number of hours spend on mobile application or website"
        ],
        [
         "9",
         "E Comm",
         "NumberOfDeviceRegistered",
         "Total number of deceives is registered on particular customer"
        ],
        [
         "10",
         "E Comm",
         "PreferedOrderCat",
         "Preferred order category of customer in last month"
        ],
        [
         "11",
         "E Comm",
         "SatisfactionScore",
         "Satisfactory score of customer on service"
        ],
        [
         "12",
         "E Comm",
         "MaritalStatus",
         "Marital status of customer"
        ],
        [
         "13",
         "E Comm",
         "NumberOfAddress",
         "Total number of added added on particular customer"
        ],
        [
         "14",
         "E Comm",
         "Complain",
         "Any complaint has been raised in last month"
        ],
        [
         "15",
         "E Comm",
         "OrderAmountHikeFromlastYear",
         "Percentage increases in order from last year"
        ],
        [
         "16",
         "E Comm",
         "CouponUsed",
         "Total number of coupon has been used in last month"
        ],
        [
         "17",
         "E Comm",
         "OrderCount",
         "Total number of orders has been places in last month"
        ],
        [
         "18",
         "E Comm",
         "DaySinceLastOrder",
         "Day Since last order by customer"
        ],
        [
         "19",
         "E Comm",
         "CashbackAmount",
         "Average cashback in last month"
        ]
       ],
       "shape": {
        "columns": 3,
        "rows": 20
       }
      },
      "text/html": [
       "<div>\n",
       "<style scoped>\n",
       "    .dataframe tbody tr th:only-of-type {\n",
       "        vertical-align: middle;\n",
       "    }\n",
       "\n",
       "    .dataframe tbody tr th {\n",
       "        vertical-align: top;\n",
       "    }\n",
       "\n",
       "    .dataframe thead th {\n",
       "        text-align: right;\n",
       "    }\n",
       "</style>\n",
       "<table border=\"1\" class=\"dataframe\">\n",
       "  <thead>\n",
       "    <tr style=\"text-align: right;\">\n",
       "      <th></th>\n",
       "      <th>Data</th>\n",
       "      <th>Variable</th>\n",
       "      <th>Discerption</th>\n",
       "    </tr>\n",
       "  </thead>\n",
       "  <tbody>\n",
       "    <tr>\n",
       "      <th>0</th>\n",
       "      <td>E Comm</td>\n",
       "      <td>CustomerID</td>\n",
       "      <td>Unique customer ID</td>\n",
       "    </tr>\n",
       "    <tr>\n",
       "      <th>1</th>\n",
       "      <td>E Comm</td>\n",
       "      <td>Churn</td>\n",
       "      <td>Churn Flag</td>\n",
       "    </tr>\n",
       "    <tr>\n",
       "      <th>2</th>\n",
       "      <td>E Comm</td>\n",
       "      <td>Tenure</td>\n",
       "      <td>Tenure of customer in organization</td>\n",
       "    </tr>\n",
       "    <tr>\n",
       "      <th>3</th>\n",
       "      <td>E Comm</td>\n",
       "      <td>PreferredLoginDevice</td>\n",
       "      <td>Preferred login device of customer</td>\n",
       "    </tr>\n",
       "    <tr>\n",
       "      <th>4</th>\n",
       "      <td>E Comm</td>\n",
       "      <td>CityTier</td>\n",
       "      <td>City tier</td>\n",
       "    </tr>\n",
       "    <tr>\n",
       "      <th>5</th>\n",
       "      <td>E Comm</td>\n",
       "      <td>WarehouseToHome</td>\n",
       "      <td>Distance in between warehouse to home of customer</td>\n",
       "    </tr>\n",
       "    <tr>\n",
       "      <th>6</th>\n",
       "      <td>E Comm</td>\n",
       "      <td>PreferredPaymentMode</td>\n",
       "      <td>Preferred payment method of customer</td>\n",
       "    </tr>\n",
       "    <tr>\n",
       "      <th>7</th>\n",
       "      <td>E Comm</td>\n",
       "      <td>Gender</td>\n",
       "      <td>Gender of customer</td>\n",
       "    </tr>\n",
       "    <tr>\n",
       "      <th>8</th>\n",
       "      <td>E Comm</td>\n",
       "      <td>HourSpendOnApp</td>\n",
       "      <td>Number of hours spend on mobile application or...</td>\n",
       "    </tr>\n",
       "    <tr>\n",
       "      <th>9</th>\n",
       "      <td>E Comm</td>\n",
       "      <td>NumberOfDeviceRegistered</td>\n",
       "      <td>Total number of deceives is registered on part...</td>\n",
       "    </tr>\n",
       "    <tr>\n",
       "      <th>10</th>\n",
       "      <td>E Comm</td>\n",
       "      <td>PreferedOrderCat</td>\n",
       "      <td>Preferred order category of customer in last m...</td>\n",
       "    </tr>\n",
       "    <tr>\n",
       "      <th>11</th>\n",
       "      <td>E Comm</td>\n",
       "      <td>SatisfactionScore</td>\n",
       "      <td>Satisfactory score of customer on service</td>\n",
       "    </tr>\n",
       "    <tr>\n",
       "      <th>12</th>\n",
       "      <td>E Comm</td>\n",
       "      <td>MaritalStatus</td>\n",
       "      <td>Marital status of customer</td>\n",
       "    </tr>\n",
       "    <tr>\n",
       "      <th>13</th>\n",
       "      <td>E Comm</td>\n",
       "      <td>NumberOfAddress</td>\n",
       "      <td>Total number of added added on particular cust...</td>\n",
       "    </tr>\n",
       "    <tr>\n",
       "      <th>14</th>\n",
       "      <td>E Comm</td>\n",
       "      <td>Complain</td>\n",
       "      <td>Any complaint has been raised in last month</td>\n",
       "    </tr>\n",
       "    <tr>\n",
       "      <th>15</th>\n",
       "      <td>E Comm</td>\n",
       "      <td>OrderAmountHikeFromlastYear</td>\n",
       "      <td>Percentage increases in order from last year</td>\n",
       "    </tr>\n",
       "    <tr>\n",
       "      <th>16</th>\n",
       "      <td>E Comm</td>\n",
       "      <td>CouponUsed</td>\n",
       "      <td>Total number of coupon has been used in last m...</td>\n",
       "    </tr>\n",
       "    <tr>\n",
       "      <th>17</th>\n",
       "      <td>E Comm</td>\n",
       "      <td>OrderCount</td>\n",
       "      <td>Total number of orders has been places in last...</td>\n",
       "    </tr>\n",
       "    <tr>\n",
       "      <th>18</th>\n",
       "      <td>E Comm</td>\n",
       "      <td>DaySinceLastOrder</td>\n",
       "      <td>Day Since last order by customer</td>\n",
       "    </tr>\n",
       "    <tr>\n",
       "      <th>19</th>\n",
       "      <td>E Comm</td>\n",
       "      <td>CashbackAmount</td>\n",
       "      <td>Average cashback in last month</td>\n",
       "    </tr>\n",
       "  </tbody>\n",
       "</table>\n",
       "</div>"
      ],
      "text/plain": [
       "      Data                     Variable  \\\n",
       "0   E Comm                   CustomerID   \n",
       "1   E Comm                        Churn   \n",
       "2   E Comm                       Tenure   \n",
       "3   E Comm         PreferredLoginDevice   \n",
       "4   E Comm                     CityTier   \n",
       "5   E Comm              WarehouseToHome   \n",
       "6   E Comm         PreferredPaymentMode   \n",
       "7   E Comm                       Gender   \n",
       "8   E Comm               HourSpendOnApp   \n",
       "9   E Comm     NumberOfDeviceRegistered   \n",
       "10  E Comm             PreferedOrderCat   \n",
       "11  E Comm            SatisfactionScore   \n",
       "12  E Comm                MaritalStatus   \n",
       "13  E Comm              NumberOfAddress   \n",
       "14  E Comm                     Complain   \n",
       "15  E Comm  OrderAmountHikeFromlastYear   \n",
       "16  E Comm                   CouponUsed   \n",
       "17  E Comm                   OrderCount   \n",
       "18  E Comm            DaySinceLastOrder   \n",
       "19  E Comm               CashbackAmount   \n",
       "\n",
       "                                          Discerption  \n",
       "0                                  Unique customer ID  \n",
       "1                                          Churn Flag  \n",
       "2                  Tenure of customer in organization  \n",
       "3                  Preferred login device of customer  \n",
       "4                                           City tier  \n",
       "5   Distance in between warehouse to home of customer  \n",
       "6                Preferred payment method of customer  \n",
       "7                                  Gender of customer  \n",
       "8   Number of hours spend on mobile application or...  \n",
       "9   Total number of deceives is registered on part...  \n",
       "10  Preferred order category of customer in last m...  \n",
       "11          Satisfactory score of customer on service  \n",
       "12                         Marital status of customer  \n",
       "13  Total number of added added on particular cust...  \n",
       "14        Any complaint has been raised in last month  \n",
       "15       Percentage increases in order from last year  \n",
       "16  Total number of coupon has been used in last m...  \n",
       "17  Total number of orders has been places in last...  \n",
       "18                   Day Since last order by customer  \n",
       "19                     Average cashback in last month  "
      ]
     },
     "execution_count": 2,
     "metadata": {},
     "output_type": "execute_result"
    }
   ],
   "source": [
    "#read the data from the excel file\n",
    "description = pd.read_excel('../data.xlsx', sheet_name='Data Dict', header=1, usecols=[1,2,3])\n",
    "data = pd.read_excel('../data.xlsx', sheet_name='E Comm')\n",
    "description"
   ]
  },
  {
   "cell_type": "code",
   "execution_count": 9,
   "id": "dc1b90a7",
   "metadata": {
    "execution": {
     "iopub.execute_input": "2022-03-21T18:05:45.019856Z",
     "iopub.status.busy": "2022-03-21T18:05:45.019252Z",
     "iopub.status.idle": "2022-03-21T18:05:45.024015Z",
     "shell.execute_reply": "2022-03-21T18:05:45.023502Z",
     "shell.execute_reply.started": "2022-03-18T16:33:20.816715Z"
    },
    "papermill": {
     "duration": 0.099146,
     "end_time": "2022-03-21T18:05:45.024123",
     "exception": false,
     "start_time": "2022-03-21T18:05:44.924977",
     "status": "completed"
    },
    "tags": []
   },
   "outputs": [
    {
     "data": {
      "application/vnd.microsoft.datawrangler.viewer.v0+json": {
       "columns": [
        {
         "name": "index",
         "rawType": "int64",
         "type": "integer"
        },
        {
         "name": "CustomerID",
         "rawType": "int64",
         "type": "integer"
        },
        {
         "name": "Churn",
         "rawType": "int64",
         "type": "integer"
        },
        {
         "name": "Tenure",
         "rawType": "float64",
         "type": "float"
        },
        {
         "name": "PreferredLoginDevice",
         "rawType": "object",
         "type": "string"
        },
        {
         "name": "CityTier",
         "rawType": "int64",
         "type": "integer"
        },
        {
         "name": "WarehouseToHome",
         "rawType": "float64",
         "type": "float"
        },
        {
         "name": "PreferredPaymentMode",
         "rawType": "object",
         "type": "string"
        },
        {
         "name": "Gender",
         "rawType": "object",
         "type": "string"
        },
        {
         "name": "HourSpendOnApp",
         "rawType": "float64",
         "type": "float"
        },
        {
         "name": "NumberOfDeviceRegistered",
         "rawType": "int64",
         "type": "integer"
        },
        {
         "name": "PreferedOrderCat",
         "rawType": "object",
         "type": "string"
        },
        {
         "name": "SatisfactionScore",
         "rawType": "int64",
         "type": "integer"
        },
        {
         "name": "MaritalStatus",
         "rawType": "object",
         "type": "string"
        },
        {
         "name": "NumberOfAddress",
         "rawType": "int64",
         "type": "integer"
        },
        {
         "name": "Complain",
         "rawType": "int64",
         "type": "integer"
        },
        {
         "name": "OrderAmountHikeFromlastYear",
         "rawType": "float64",
         "type": "float"
        },
        {
         "name": "CouponUsed",
         "rawType": "float64",
         "type": "float"
        },
        {
         "name": "OrderCount",
         "rawType": "float64",
         "type": "float"
        },
        {
         "name": "DaySinceLastOrder",
         "rawType": "float64",
         "type": "float"
        },
        {
         "name": "CashbackAmount",
         "rawType": "float64",
         "type": "float"
        }
       ],
       "conversionMethod": "pd.DataFrame",
       "ref": "763318a3-b6c5-44c5-b691-7a718b09e78a",
       "rows": [
        [
         "0",
         "50001",
         "1",
         "4.0",
         "Mobile Phone",
         "3",
         "6.0",
         "Debit Card",
         "Female",
         "3.0",
         "3",
         "Laptop & Accessory",
         "2",
         "Single",
         "9",
         "1",
         "11.0",
         "1.0",
         "1.0",
         "5.0",
         "159.93"
        ],
        [
         "1",
         "50002",
         "1",
         null,
         "Phone",
         "1",
         "8.0",
         "UPI",
         "Male",
         "3.0",
         "4",
         "Mobile",
         "3",
         "Single",
         "7",
         "1",
         "15.0",
         "0.0",
         "1.0",
         "0.0",
         "120.9"
        ],
        [
         "2",
         "50003",
         "1",
         null,
         "Phone",
         "1",
         "30.0",
         "Debit Card",
         "Male",
         "2.0",
         "4",
         "Mobile",
         "3",
         "Single",
         "6",
         "1",
         "14.0",
         "0.0",
         "1.0",
         "3.0",
         "120.28"
        ],
        [
         "3",
         "50004",
         "1",
         "0.0",
         "Phone",
         "3",
         "15.0",
         "Debit Card",
         "Male",
         "2.0",
         "4",
         "Laptop & Accessory",
         "5",
         "Single",
         "8",
         "0",
         "23.0",
         "0.0",
         "1.0",
         "3.0",
         "134.07"
        ],
        [
         "4",
         "50005",
         "1",
         "0.0",
         "Phone",
         "1",
         "12.0",
         "CC",
         "Male",
         null,
         "3",
         "Mobile",
         "5",
         "Single",
         "3",
         "0",
         "11.0",
         "1.0",
         "1.0",
         "3.0",
         "129.6"
        ]
       ],
       "shape": {
        "columns": 20,
        "rows": 5
       }
      },
      "text/html": [
       "<div>\n",
       "<style scoped>\n",
       "    .dataframe tbody tr th:only-of-type {\n",
       "        vertical-align: middle;\n",
       "    }\n",
       "\n",
       "    .dataframe tbody tr th {\n",
       "        vertical-align: top;\n",
       "    }\n",
       "\n",
       "    .dataframe thead th {\n",
       "        text-align: right;\n",
       "    }\n",
       "</style>\n",
       "<table border=\"1\" class=\"dataframe\">\n",
       "  <thead>\n",
       "    <tr style=\"text-align: right;\">\n",
       "      <th></th>\n",
       "      <th>CustomerID</th>\n",
       "      <th>Churn</th>\n",
       "      <th>Tenure</th>\n",
       "      <th>PreferredLoginDevice</th>\n",
       "      <th>CityTier</th>\n",
       "      <th>WarehouseToHome</th>\n",
       "      <th>PreferredPaymentMode</th>\n",
       "      <th>Gender</th>\n",
       "      <th>HourSpendOnApp</th>\n",
       "      <th>NumberOfDeviceRegistered</th>\n",
       "      <th>PreferedOrderCat</th>\n",
       "      <th>SatisfactionScore</th>\n",
       "      <th>MaritalStatus</th>\n",
       "      <th>NumberOfAddress</th>\n",
       "      <th>Complain</th>\n",
       "      <th>OrderAmountHikeFromlastYear</th>\n",
       "      <th>CouponUsed</th>\n",
       "      <th>OrderCount</th>\n",
       "      <th>DaySinceLastOrder</th>\n",
       "      <th>CashbackAmount</th>\n",
       "    </tr>\n",
       "  </thead>\n",
       "  <tbody>\n",
       "    <tr>\n",
       "      <th>0</th>\n",
       "      <td>50001</td>\n",
       "      <td>1</td>\n",
       "      <td>4.0</td>\n",
       "      <td>Mobile Phone</td>\n",
       "      <td>3</td>\n",
       "      <td>6.0</td>\n",
       "      <td>Debit Card</td>\n",
       "      <td>Female</td>\n",
       "      <td>3.0</td>\n",
       "      <td>3</td>\n",
       "      <td>Laptop &amp; Accessory</td>\n",
       "      <td>2</td>\n",
       "      <td>Single</td>\n",
       "      <td>9</td>\n",
       "      <td>1</td>\n",
       "      <td>11.0</td>\n",
       "      <td>1.0</td>\n",
       "      <td>1.0</td>\n",
       "      <td>5.0</td>\n",
       "      <td>159.93</td>\n",
       "    </tr>\n",
       "    <tr>\n",
       "      <th>1</th>\n",
       "      <td>50002</td>\n",
       "      <td>1</td>\n",
       "      <td>NaN</td>\n",
       "      <td>Phone</td>\n",
       "      <td>1</td>\n",
       "      <td>8.0</td>\n",
       "      <td>UPI</td>\n",
       "      <td>Male</td>\n",
       "      <td>3.0</td>\n",
       "      <td>4</td>\n",
       "      <td>Mobile</td>\n",
       "      <td>3</td>\n",
       "      <td>Single</td>\n",
       "      <td>7</td>\n",
       "      <td>1</td>\n",
       "      <td>15.0</td>\n",
       "      <td>0.0</td>\n",
       "      <td>1.0</td>\n",
       "      <td>0.0</td>\n",
       "      <td>120.90</td>\n",
       "    </tr>\n",
       "    <tr>\n",
       "      <th>2</th>\n",
       "      <td>50003</td>\n",
       "      <td>1</td>\n",
       "      <td>NaN</td>\n",
       "      <td>Phone</td>\n",
       "      <td>1</td>\n",
       "      <td>30.0</td>\n",
       "      <td>Debit Card</td>\n",
       "      <td>Male</td>\n",
       "      <td>2.0</td>\n",
       "      <td>4</td>\n",
       "      <td>Mobile</td>\n",
       "      <td>3</td>\n",
       "      <td>Single</td>\n",
       "      <td>6</td>\n",
       "      <td>1</td>\n",
       "      <td>14.0</td>\n",
       "      <td>0.0</td>\n",
       "      <td>1.0</td>\n",
       "      <td>3.0</td>\n",
       "      <td>120.28</td>\n",
       "    </tr>\n",
       "    <tr>\n",
       "      <th>3</th>\n",
       "      <td>50004</td>\n",
       "      <td>1</td>\n",
       "      <td>0.0</td>\n",
       "      <td>Phone</td>\n",
       "      <td>3</td>\n",
       "      <td>15.0</td>\n",
       "      <td>Debit Card</td>\n",
       "      <td>Male</td>\n",
       "      <td>2.0</td>\n",
       "      <td>4</td>\n",
       "      <td>Laptop &amp; Accessory</td>\n",
       "      <td>5</td>\n",
       "      <td>Single</td>\n",
       "      <td>8</td>\n",
       "      <td>0</td>\n",
       "      <td>23.0</td>\n",
       "      <td>0.0</td>\n",
       "      <td>1.0</td>\n",
       "      <td>3.0</td>\n",
       "      <td>134.07</td>\n",
       "    </tr>\n",
       "    <tr>\n",
       "      <th>4</th>\n",
       "      <td>50005</td>\n",
       "      <td>1</td>\n",
       "      <td>0.0</td>\n",
       "      <td>Phone</td>\n",
       "      <td>1</td>\n",
       "      <td>12.0</td>\n",
       "      <td>CC</td>\n",
       "      <td>Male</td>\n",
       "      <td>NaN</td>\n",
       "      <td>3</td>\n",
       "      <td>Mobile</td>\n",
       "      <td>5</td>\n",
       "      <td>Single</td>\n",
       "      <td>3</td>\n",
       "      <td>0</td>\n",
       "      <td>11.0</td>\n",
       "      <td>1.0</td>\n",
       "      <td>1.0</td>\n",
       "      <td>3.0</td>\n",
       "      <td>129.60</td>\n",
       "    </tr>\n",
       "  </tbody>\n",
       "</table>\n",
       "</div>"
      ],
      "text/plain": [
       "   CustomerID  Churn  Tenure PreferredLoginDevice  CityTier  WarehouseToHome  \\\n",
       "0       50001      1     4.0         Mobile Phone         3              6.0   \n",
       "1       50002      1     NaN                Phone         1              8.0   \n",
       "2       50003      1     NaN                Phone         1             30.0   \n",
       "3       50004      1     0.0                Phone         3             15.0   \n",
       "4       50005      1     0.0                Phone         1             12.0   \n",
       "\n",
       "  PreferredPaymentMode  Gender  HourSpendOnApp  NumberOfDeviceRegistered  \\\n",
       "0           Debit Card  Female             3.0                         3   \n",
       "1                  UPI    Male             3.0                         4   \n",
       "2           Debit Card    Male             2.0                         4   \n",
       "3           Debit Card    Male             2.0                         4   \n",
       "4                   CC    Male             NaN                         3   \n",
       "\n",
       "     PreferedOrderCat  SatisfactionScore MaritalStatus  NumberOfAddress  \\\n",
       "0  Laptop & Accessory                  2        Single                9   \n",
       "1              Mobile                  3        Single                7   \n",
       "2              Mobile                  3        Single                6   \n",
       "3  Laptop & Accessory                  5        Single                8   \n",
       "4              Mobile                  5        Single                3   \n",
       "\n",
       "   Complain  OrderAmountHikeFromlastYear  CouponUsed  OrderCount  \\\n",
       "0         1                         11.0         1.0         1.0   \n",
       "1         1                         15.0         0.0         1.0   \n",
       "2         1                         14.0         0.0         1.0   \n",
       "3         0                         23.0         0.0         1.0   \n",
       "4         0                         11.0         1.0         1.0   \n",
       "\n",
       "   DaySinceLastOrder  CashbackAmount  \n",
       "0                5.0          159.93  \n",
       "1                0.0          120.90  \n",
       "2                3.0          120.28  \n",
       "3                3.0          134.07  \n",
       "4                3.0          129.60  "
      ]
     },
     "execution_count": 9,
     "metadata": {},
     "output_type": "execute_result"
    }
   ],
   "source": [
    "#preview the data\n",
    "data.head()"
   ]
  },
  {
   "cell_type": "code",
   "execution_count": 10,
   "id": "206d37f5",
   "metadata": {
    "execution": {
     "iopub.execute_input": "2022-03-21T18:05:45.168252Z",
     "iopub.status.busy": "2022-03-21T18:05:45.167806Z",
     "iopub.status.idle": "2022-03-21T18:05:45.172177Z",
     "shell.execute_reply": "2022-03-21T18:05:45.171618Z",
     "shell.execute_reply.started": "2022-03-18T16:33:20.845758Z"
    },
    "papermill": {
     "duration": 0.078107,
     "end_time": "2022-03-21T18:05:45.172302",
     "exception": false,
     "start_time": "2022-03-21T18:05:45.094195",
     "status": "completed"
    },
    "tags": []
   },
   "outputs": [
    {
     "name": "stdout",
     "output_type": "stream",
     "text": [
      "(5630, 20)\n"
     ]
    }
   ],
   "source": [
    "#check the shape of the dataset\n",
    "print(data.shape)"
   ]
  },
  {
   "cell_type": "code",
   "execution_count": 11,
   "id": "3c85e4e6",
   "metadata": {
    "execution": {
     "iopub.execute_input": "2022-03-21T18:05:45.317418Z",
     "iopub.status.busy": "2022-03-21T18:05:45.316991Z",
     "iopub.status.idle": "2022-03-21T18:05:45.344308Z",
     "shell.execute_reply": "2022-03-21T18:05:45.343770Z",
     "shell.execute_reply.started": "2022-03-18T16:33:20.859406Z"
    },
    "papermill": {
     "duration": 0.102002,
     "end_time": "2022-03-21T18:05:45.344446",
     "exception": false,
     "start_time": "2022-03-21T18:05:45.242444",
     "status": "completed"
    },
    "tags": []
   },
   "outputs": [
    {
     "name": "stdout",
     "output_type": "stream",
     "text": [
      "<class 'pandas.core.frame.DataFrame'>\n",
      "RangeIndex: 5630 entries, 0 to 5629\n",
      "Data columns (total 20 columns):\n",
      " #   Column                       Non-Null Count  Dtype  \n",
      "---  ------                       --------------  -----  \n",
      " 0   CustomerID                   5630 non-null   int64  \n",
      " 1   Churn                        5630 non-null   int64  \n",
      " 2   Tenure                       5366 non-null   float64\n",
      " 3   PreferredLoginDevice         5630 non-null   object \n",
      " 4   CityTier                     5630 non-null   int64  \n",
      " 5   WarehouseToHome              5379 non-null   float64\n",
      " 6   PreferredPaymentMode         5630 non-null   object \n",
      " 7   Gender                       5630 non-null   object \n",
      " 8   HourSpendOnApp               5375 non-null   float64\n",
      " 9   NumberOfDeviceRegistered     5630 non-null   int64  \n",
      " 10  PreferedOrderCat             5630 non-null   object \n",
      " 11  SatisfactionScore            5630 non-null   int64  \n",
      " 12  MaritalStatus                5630 non-null   object \n",
      " 13  NumberOfAddress              5630 non-null   int64  \n",
      " 14  Complain                     5630 non-null   int64  \n",
      " 15  OrderAmountHikeFromlastYear  5365 non-null   float64\n",
      " 16  CouponUsed                   5374 non-null   float64\n",
      " 17  OrderCount                   5372 non-null   float64\n",
      " 18  DaySinceLastOrder            5323 non-null   float64\n",
      " 19  CashbackAmount               5630 non-null   float64\n",
      "dtypes: float64(8), int64(7), object(5)\n",
      "memory usage: 879.8+ KB\n"
     ]
    }
   ],
   "source": [
    "#brief information of the dataset\n",
    "data.info()"
   ]
  },
  {
   "cell_type": "markdown",
   "id": "e2f7a1d4",
   "metadata": {
    "papermill": {
     "duration": 0.10498,
     "end_time": "2022-03-21T18:05:45.555247",
     "exception": false,
     "start_time": "2022-03-21T18:05:45.450267",
     "status": "completed"
    },
    "tags": []
   },
   "source": [
    "* From the above cells we can see that the data contains records of 5630 customers with 20 features.\n",
    "* Another thing to note is that there are missing values in some of the columns which will be handled later when building the model.\n",
    "* Here I will just focus on the exploration of the data, as pandas and matplotlib always skip null values during operation.\n",
    "* I discovered that the columns with data type of float64, are the continuous varibles, and the rest are discrete"
   ]
  },
  {
   "cell_type": "code",
   "execution_count": 4,
   "id": "173ed852",
   "metadata": {
    "execution": {
     "iopub.execute_input": "2022-03-21T18:05:45.772828Z",
     "iopub.status.busy": "2022-03-21T18:05:45.772216Z",
     "iopub.status.idle": "2022-03-21T18:05:45.840122Z",
     "shell.execute_reply": "2022-03-21T18:05:45.839566Z",
     "shell.execute_reply.started": "2022-03-18T16:33:20.894514Z"
    },
    "papermill": {
     "duration": 0.178055,
     "end_time": "2022-03-21T18:05:45.840248",
     "exception": false,
     "start_time": "2022-03-21T18:05:45.662193",
     "status": "completed"
    },
    "tags": []
   },
   "outputs": [
    {
     "data": {
      "application/vnd.microsoft.datawrangler.viewer.v0+json": {
       "columns": [
        {
         "name": "index",
         "rawType": "object",
         "type": "string"
        },
        {
         "name": "CustomerID",
         "rawType": "float64",
         "type": "float"
        },
        {
         "name": "Churn",
         "rawType": "float64",
         "type": "float"
        },
        {
         "name": "Tenure",
         "rawType": "float64",
         "type": "float"
        },
        {
         "name": "PreferredLoginDevice",
         "rawType": "object",
         "type": "unknown"
        },
        {
         "name": "CityTier",
         "rawType": "float64",
         "type": "float"
        },
        {
         "name": "WarehouseToHome",
         "rawType": "float64",
         "type": "float"
        },
        {
         "name": "PreferredPaymentMode",
         "rawType": "object",
         "type": "unknown"
        },
        {
         "name": "Gender",
         "rawType": "object",
         "type": "unknown"
        },
        {
         "name": "HourSpendOnApp",
         "rawType": "float64",
         "type": "float"
        },
        {
         "name": "NumberOfDeviceRegistered",
         "rawType": "float64",
         "type": "float"
        },
        {
         "name": "PreferedOrderCat",
         "rawType": "object",
         "type": "unknown"
        },
        {
         "name": "SatisfactionScore",
         "rawType": "float64",
         "type": "float"
        },
        {
         "name": "MaritalStatus",
         "rawType": "object",
         "type": "unknown"
        },
        {
         "name": "NumberOfAddress",
         "rawType": "float64",
         "type": "float"
        },
        {
         "name": "Complain",
         "rawType": "float64",
         "type": "float"
        },
        {
         "name": "OrderAmountHikeFromlastYear",
         "rawType": "float64",
         "type": "float"
        },
        {
         "name": "CouponUsed",
         "rawType": "float64",
         "type": "float"
        },
        {
         "name": "OrderCount",
         "rawType": "float64",
         "type": "float"
        },
        {
         "name": "DaySinceLastOrder",
         "rawType": "float64",
         "type": "float"
        },
        {
         "name": "CashbackAmount",
         "rawType": "float64",
         "type": "float"
        }
       ],
       "conversionMethod": "pd.DataFrame",
       "ref": "d7bc8101-e486-45c0-9a9d-988aafc6d2fb",
       "rows": [
        [
         "count",
         "5630.0",
         "5630.0",
         "5366.0",
         "5630",
         "5630.0",
         "5379.0",
         "5630",
         "5630",
         "5375.0",
         "5630.0",
         "5630",
         "5630.0",
         "5630",
         "5630.0",
         "5630.0",
         "5365.0",
         "5374.0",
         "5372.0",
         "5323.0",
         "5630.0"
        ],
        [
         "unique",
         null,
         null,
         null,
         "3",
         null,
         null,
         "7",
         "2",
         null,
         null,
         "6",
         null,
         "3",
         null,
         null,
         null,
         null,
         null,
         null,
         null
        ],
        [
         "top",
         null,
         null,
         null,
         "Mobile Phone",
         null,
         null,
         "Debit Card",
         "Male",
         null,
         null,
         "Laptop & Accessory",
         null,
         "Married",
         null,
         null,
         null,
         null,
         null,
         null,
         null
        ],
        [
         "freq",
         null,
         null,
         null,
         "2765",
         null,
         null,
         "2314",
         "3384",
         null,
         null,
         "2050",
         null,
         "2986",
         null,
         null,
         null,
         null,
         null,
         null,
         null
        ],
        [
         "mean",
         "52815.5",
         "0.16838365896980462",
         "10.189899366380917",
         null,
         "1.6547069271758437",
         "15.639895891429633",
         null,
         null,
         "2.9315348837209303",
         "3.68898756660746",
         null,
         "3.066785079928952",
         null,
         "4.214031971580817",
         "0.2849023090586146",
         "15.707921714818266",
         "1.7510234462225531",
         "3.0080044676098288",
         "4.543490512868683",
         "177.22303019538188"
        ],
        [
         "std",
         "1625.3853389273572",
         "0.3742398682676651",
         "8.557240984165002",
         null,
         "0.9153892691210666",
         "8.53147518676263",
         null,
         null,
         "0.7219258499760615",
         "1.0239985188585785",
         null,
         "1.38019445090948",
         null,
         "2.5835855126063794",
         "0.4514079937386503",
         "3.6754854627464644",
         "1.8946214472186502",
         "2.9396795481512608",
         "3.6544331967013357",
         "49.20703617486409"
        ],
        [
         "min",
         "50001.0",
         "0.0",
         "0.0",
         null,
         "1.0",
         "5.0",
         null,
         null,
         "0.0",
         "1.0",
         null,
         "1.0",
         null,
         "1.0",
         "0.0",
         "11.0",
         "0.0",
         "1.0",
         "0.0",
         "0.0"
        ],
        [
         "25%",
         "51408.25",
         "0.0",
         "2.0",
         null,
         "1.0",
         "9.0",
         null,
         null,
         "2.0",
         "3.0",
         null,
         "2.0",
         null,
         "2.0",
         "0.0",
         "13.0",
         "1.0",
         "1.0",
         "2.0",
         "145.77"
        ],
        [
         "50%",
         "52815.5",
         "0.0",
         "9.0",
         null,
         "1.0",
         "14.0",
         null,
         null,
         "3.0",
         "4.0",
         null,
         "3.0",
         null,
         "3.0",
         "0.0",
         "15.0",
         "1.0",
         "2.0",
         "3.0",
         "163.28"
        ],
        [
         "75%",
         "54222.75",
         "0.0",
         "16.0",
         null,
         "3.0",
         "20.0",
         null,
         null,
         "3.0",
         "4.0",
         null,
         "4.0",
         null,
         "6.0",
         "1.0",
         "18.0",
         "2.0",
         "3.0",
         "7.0",
         "196.3925"
        ],
        [
         "max",
         "55630.0",
         "1.0",
         "61.0",
         null,
         "3.0",
         "127.0",
         null,
         null,
         "5.0",
         "6.0",
         null,
         "5.0",
         null,
         "22.0",
         "1.0",
         "26.0",
         "16.0",
         "16.0",
         "46.0",
         "324.99"
        ]
       ],
       "shape": {
        "columns": 20,
        "rows": 11
       }
      },
      "text/html": [
       "<div>\n",
       "<style scoped>\n",
       "    .dataframe tbody tr th:only-of-type {\n",
       "        vertical-align: middle;\n",
       "    }\n",
       "\n",
       "    .dataframe tbody tr th {\n",
       "        vertical-align: top;\n",
       "    }\n",
       "\n",
       "    .dataframe thead th {\n",
       "        text-align: right;\n",
       "    }\n",
       "</style>\n",
       "<table border=\"1\" class=\"dataframe\">\n",
       "  <thead>\n",
       "    <tr style=\"text-align: right;\">\n",
       "      <th></th>\n",
       "      <th>CustomerID</th>\n",
       "      <th>Churn</th>\n",
       "      <th>Tenure</th>\n",
       "      <th>PreferredLoginDevice</th>\n",
       "      <th>CityTier</th>\n",
       "      <th>WarehouseToHome</th>\n",
       "      <th>PreferredPaymentMode</th>\n",
       "      <th>Gender</th>\n",
       "      <th>HourSpendOnApp</th>\n",
       "      <th>NumberOfDeviceRegistered</th>\n",
       "      <th>PreferedOrderCat</th>\n",
       "      <th>SatisfactionScore</th>\n",
       "      <th>MaritalStatus</th>\n",
       "      <th>NumberOfAddress</th>\n",
       "      <th>Complain</th>\n",
       "      <th>OrderAmountHikeFromlastYear</th>\n",
       "      <th>CouponUsed</th>\n",
       "      <th>OrderCount</th>\n",
       "      <th>DaySinceLastOrder</th>\n",
       "      <th>CashbackAmount</th>\n",
       "    </tr>\n",
       "  </thead>\n",
       "  <tbody>\n",
       "    <tr>\n",
       "      <th>count</th>\n",
       "      <td>5630.000000</td>\n",
       "      <td>5630.000000</td>\n",
       "      <td>5366.000000</td>\n",
       "      <td>5630</td>\n",
       "      <td>5630.000000</td>\n",
       "      <td>5379.000000</td>\n",
       "      <td>5630</td>\n",
       "      <td>5630</td>\n",
       "      <td>5375.000000</td>\n",
       "      <td>5630.000000</td>\n",
       "      <td>5630</td>\n",
       "      <td>5630.000000</td>\n",
       "      <td>5630</td>\n",
       "      <td>5630.000000</td>\n",
       "      <td>5630.000000</td>\n",
       "      <td>5365.000000</td>\n",
       "      <td>5374.000000</td>\n",
       "      <td>5372.000000</td>\n",
       "      <td>5323.000000</td>\n",
       "      <td>5630.000000</td>\n",
       "    </tr>\n",
       "    <tr>\n",
       "      <th>unique</th>\n",
       "      <td>NaN</td>\n",
       "      <td>NaN</td>\n",
       "      <td>NaN</td>\n",
       "      <td>3</td>\n",
       "      <td>NaN</td>\n",
       "      <td>NaN</td>\n",
       "      <td>7</td>\n",
       "      <td>2</td>\n",
       "      <td>NaN</td>\n",
       "      <td>NaN</td>\n",
       "      <td>6</td>\n",
       "      <td>NaN</td>\n",
       "      <td>3</td>\n",
       "      <td>NaN</td>\n",
       "      <td>NaN</td>\n",
       "      <td>NaN</td>\n",
       "      <td>NaN</td>\n",
       "      <td>NaN</td>\n",
       "      <td>NaN</td>\n",
       "      <td>NaN</td>\n",
       "    </tr>\n",
       "    <tr>\n",
       "      <th>top</th>\n",
       "      <td>NaN</td>\n",
       "      <td>NaN</td>\n",
       "      <td>NaN</td>\n",
       "      <td>Mobile Phone</td>\n",
       "      <td>NaN</td>\n",
       "      <td>NaN</td>\n",
       "      <td>Debit Card</td>\n",
       "      <td>Male</td>\n",
       "      <td>NaN</td>\n",
       "      <td>NaN</td>\n",
       "      <td>Laptop &amp; Accessory</td>\n",
       "      <td>NaN</td>\n",
       "      <td>Married</td>\n",
       "      <td>NaN</td>\n",
       "      <td>NaN</td>\n",
       "      <td>NaN</td>\n",
       "      <td>NaN</td>\n",
       "      <td>NaN</td>\n",
       "      <td>NaN</td>\n",
       "      <td>NaN</td>\n",
       "    </tr>\n",
       "    <tr>\n",
       "      <th>freq</th>\n",
       "      <td>NaN</td>\n",
       "      <td>NaN</td>\n",
       "      <td>NaN</td>\n",
       "      <td>2765</td>\n",
       "      <td>NaN</td>\n",
       "      <td>NaN</td>\n",
       "      <td>2314</td>\n",
       "      <td>3384</td>\n",
       "      <td>NaN</td>\n",
       "      <td>NaN</td>\n",
       "      <td>2050</td>\n",
       "      <td>NaN</td>\n",
       "      <td>2986</td>\n",
       "      <td>NaN</td>\n",
       "      <td>NaN</td>\n",
       "      <td>NaN</td>\n",
       "      <td>NaN</td>\n",
       "      <td>NaN</td>\n",
       "      <td>NaN</td>\n",
       "      <td>NaN</td>\n",
       "    </tr>\n",
       "    <tr>\n",
       "      <th>mean</th>\n",
       "      <td>52815.500000</td>\n",
       "      <td>0.168384</td>\n",
       "      <td>10.189899</td>\n",
       "      <td>NaN</td>\n",
       "      <td>1.654707</td>\n",
       "      <td>15.639896</td>\n",
       "      <td>NaN</td>\n",
       "      <td>NaN</td>\n",
       "      <td>2.931535</td>\n",
       "      <td>3.688988</td>\n",
       "      <td>NaN</td>\n",
       "      <td>3.066785</td>\n",
       "      <td>NaN</td>\n",
       "      <td>4.214032</td>\n",
       "      <td>0.284902</td>\n",
       "      <td>15.707922</td>\n",
       "      <td>1.751023</td>\n",
       "      <td>3.008004</td>\n",
       "      <td>4.543491</td>\n",
       "      <td>177.223030</td>\n",
       "    </tr>\n",
       "    <tr>\n",
       "      <th>std</th>\n",
       "      <td>1625.385339</td>\n",
       "      <td>0.374240</td>\n",
       "      <td>8.557241</td>\n",
       "      <td>NaN</td>\n",
       "      <td>0.915389</td>\n",
       "      <td>8.531475</td>\n",
       "      <td>NaN</td>\n",
       "      <td>NaN</td>\n",
       "      <td>0.721926</td>\n",
       "      <td>1.023999</td>\n",
       "      <td>NaN</td>\n",
       "      <td>1.380194</td>\n",
       "      <td>NaN</td>\n",
       "      <td>2.583586</td>\n",
       "      <td>0.451408</td>\n",
       "      <td>3.675485</td>\n",
       "      <td>1.894621</td>\n",
       "      <td>2.939680</td>\n",
       "      <td>3.654433</td>\n",
       "      <td>49.207036</td>\n",
       "    </tr>\n",
       "    <tr>\n",
       "      <th>min</th>\n",
       "      <td>50001.000000</td>\n",
       "      <td>0.000000</td>\n",
       "      <td>0.000000</td>\n",
       "      <td>NaN</td>\n",
       "      <td>1.000000</td>\n",
       "      <td>5.000000</td>\n",
       "      <td>NaN</td>\n",
       "      <td>NaN</td>\n",
       "      <td>0.000000</td>\n",
       "      <td>1.000000</td>\n",
       "      <td>NaN</td>\n",
       "      <td>1.000000</td>\n",
       "      <td>NaN</td>\n",
       "      <td>1.000000</td>\n",
       "      <td>0.000000</td>\n",
       "      <td>11.000000</td>\n",
       "      <td>0.000000</td>\n",
       "      <td>1.000000</td>\n",
       "      <td>0.000000</td>\n",
       "      <td>0.000000</td>\n",
       "    </tr>\n",
       "    <tr>\n",
       "      <th>25%</th>\n",
       "      <td>51408.250000</td>\n",
       "      <td>0.000000</td>\n",
       "      <td>2.000000</td>\n",
       "      <td>NaN</td>\n",
       "      <td>1.000000</td>\n",
       "      <td>9.000000</td>\n",
       "      <td>NaN</td>\n",
       "      <td>NaN</td>\n",
       "      <td>2.000000</td>\n",
       "      <td>3.000000</td>\n",
       "      <td>NaN</td>\n",
       "      <td>2.000000</td>\n",
       "      <td>NaN</td>\n",
       "      <td>2.000000</td>\n",
       "      <td>0.000000</td>\n",
       "      <td>13.000000</td>\n",
       "      <td>1.000000</td>\n",
       "      <td>1.000000</td>\n",
       "      <td>2.000000</td>\n",
       "      <td>145.770000</td>\n",
       "    </tr>\n",
       "    <tr>\n",
       "      <th>50%</th>\n",
       "      <td>52815.500000</td>\n",
       "      <td>0.000000</td>\n",
       "      <td>9.000000</td>\n",
       "      <td>NaN</td>\n",
       "      <td>1.000000</td>\n",
       "      <td>14.000000</td>\n",
       "      <td>NaN</td>\n",
       "      <td>NaN</td>\n",
       "      <td>3.000000</td>\n",
       "      <td>4.000000</td>\n",
       "      <td>NaN</td>\n",
       "      <td>3.000000</td>\n",
       "      <td>NaN</td>\n",
       "      <td>3.000000</td>\n",
       "      <td>0.000000</td>\n",
       "      <td>15.000000</td>\n",
       "      <td>1.000000</td>\n",
       "      <td>2.000000</td>\n",
       "      <td>3.000000</td>\n",
       "      <td>163.280000</td>\n",
       "    </tr>\n",
       "    <tr>\n",
       "      <th>75%</th>\n",
       "      <td>54222.750000</td>\n",
       "      <td>0.000000</td>\n",
       "      <td>16.000000</td>\n",
       "      <td>NaN</td>\n",
       "      <td>3.000000</td>\n",
       "      <td>20.000000</td>\n",
       "      <td>NaN</td>\n",
       "      <td>NaN</td>\n",
       "      <td>3.000000</td>\n",
       "      <td>4.000000</td>\n",
       "      <td>NaN</td>\n",
       "      <td>4.000000</td>\n",
       "      <td>NaN</td>\n",
       "      <td>6.000000</td>\n",
       "      <td>1.000000</td>\n",
       "      <td>18.000000</td>\n",
       "      <td>2.000000</td>\n",
       "      <td>3.000000</td>\n",
       "      <td>7.000000</td>\n",
       "      <td>196.392500</td>\n",
       "    </tr>\n",
       "    <tr>\n",
       "      <th>max</th>\n",
       "      <td>55630.000000</td>\n",
       "      <td>1.000000</td>\n",
       "      <td>61.000000</td>\n",
       "      <td>NaN</td>\n",
       "      <td>3.000000</td>\n",
       "      <td>127.000000</td>\n",
       "      <td>NaN</td>\n",
       "      <td>NaN</td>\n",
       "      <td>5.000000</td>\n",
       "      <td>6.000000</td>\n",
       "      <td>NaN</td>\n",
       "      <td>5.000000</td>\n",
       "      <td>NaN</td>\n",
       "      <td>22.000000</td>\n",
       "      <td>1.000000</td>\n",
       "      <td>26.000000</td>\n",
       "      <td>16.000000</td>\n",
       "      <td>16.000000</td>\n",
       "      <td>46.000000</td>\n",
       "      <td>324.990000</td>\n",
       "    </tr>\n",
       "  </tbody>\n",
       "</table>\n",
       "</div>"
      ],
      "text/plain": [
       "          CustomerID        Churn       Tenure PreferredLoginDevice  \\\n",
       "count    5630.000000  5630.000000  5366.000000                 5630   \n",
       "unique           NaN          NaN          NaN                    3   \n",
       "top              NaN          NaN          NaN         Mobile Phone   \n",
       "freq             NaN          NaN          NaN                 2765   \n",
       "mean    52815.500000     0.168384    10.189899                  NaN   \n",
       "std      1625.385339     0.374240     8.557241                  NaN   \n",
       "min     50001.000000     0.000000     0.000000                  NaN   \n",
       "25%     51408.250000     0.000000     2.000000                  NaN   \n",
       "50%     52815.500000     0.000000     9.000000                  NaN   \n",
       "75%     54222.750000     0.000000    16.000000                  NaN   \n",
       "max     55630.000000     1.000000    61.000000                  NaN   \n",
       "\n",
       "           CityTier  WarehouseToHome PreferredPaymentMode Gender  \\\n",
       "count   5630.000000      5379.000000                 5630   5630   \n",
       "unique          NaN              NaN                    7      2   \n",
       "top             NaN              NaN           Debit Card   Male   \n",
       "freq            NaN              NaN                 2314   3384   \n",
       "mean       1.654707        15.639896                  NaN    NaN   \n",
       "std        0.915389         8.531475                  NaN    NaN   \n",
       "min        1.000000         5.000000                  NaN    NaN   \n",
       "25%        1.000000         9.000000                  NaN    NaN   \n",
       "50%        1.000000        14.000000                  NaN    NaN   \n",
       "75%        3.000000        20.000000                  NaN    NaN   \n",
       "max        3.000000       127.000000                  NaN    NaN   \n",
       "\n",
       "        HourSpendOnApp  NumberOfDeviceRegistered    PreferedOrderCat  \\\n",
       "count      5375.000000               5630.000000                5630   \n",
       "unique             NaN                       NaN                   6   \n",
       "top                NaN                       NaN  Laptop & Accessory   \n",
       "freq               NaN                       NaN                2050   \n",
       "mean          2.931535                  3.688988                 NaN   \n",
       "std           0.721926                  1.023999                 NaN   \n",
       "min           0.000000                  1.000000                 NaN   \n",
       "25%           2.000000                  3.000000                 NaN   \n",
       "50%           3.000000                  4.000000                 NaN   \n",
       "75%           3.000000                  4.000000                 NaN   \n",
       "max           5.000000                  6.000000                 NaN   \n",
       "\n",
       "        SatisfactionScore MaritalStatus  NumberOfAddress     Complain  \\\n",
       "count         5630.000000          5630      5630.000000  5630.000000   \n",
       "unique                NaN             3              NaN          NaN   \n",
       "top                   NaN       Married              NaN          NaN   \n",
       "freq                  NaN          2986              NaN          NaN   \n",
       "mean             3.066785           NaN         4.214032     0.284902   \n",
       "std              1.380194           NaN         2.583586     0.451408   \n",
       "min              1.000000           NaN         1.000000     0.000000   \n",
       "25%              2.000000           NaN         2.000000     0.000000   \n",
       "50%              3.000000           NaN         3.000000     0.000000   \n",
       "75%              4.000000           NaN         6.000000     1.000000   \n",
       "max              5.000000           NaN        22.000000     1.000000   \n",
       "\n",
       "        OrderAmountHikeFromlastYear   CouponUsed   OrderCount  \\\n",
       "count                   5365.000000  5374.000000  5372.000000   \n",
       "unique                          NaN          NaN          NaN   \n",
       "top                             NaN          NaN          NaN   \n",
       "freq                            NaN          NaN          NaN   \n",
       "mean                      15.707922     1.751023     3.008004   \n",
       "std                        3.675485     1.894621     2.939680   \n",
       "min                       11.000000     0.000000     1.000000   \n",
       "25%                       13.000000     1.000000     1.000000   \n",
       "50%                       15.000000     1.000000     2.000000   \n",
       "75%                       18.000000     2.000000     3.000000   \n",
       "max                       26.000000    16.000000    16.000000   \n",
       "\n",
       "        DaySinceLastOrder  CashbackAmount  \n",
       "count         5323.000000     5630.000000  \n",
       "unique                NaN             NaN  \n",
       "top                   NaN             NaN  \n",
       "freq                  NaN             NaN  \n",
       "mean             4.543491      177.223030  \n",
       "std              3.654433       49.207036  \n",
       "min              0.000000        0.000000  \n",
       "25%              2.000000      145.770000  \n",
       "50%              3.000000      163.280000  \n",
       "75%              7.000000      196.392500  \n",
       "max             46.000000      324.990000  "
      ]
     },
     "execution_count": 4,
     "metadata": {},
     "output_type": "execute_result"
    }
   ],
   "source": [
    "#print summary statistics of the data including the categorical columns\n",
    "data.describe(include='all')"
   ]
  },
  {
   "cell_type": "code",
   "execution_count": 13,
   "id": "ba548d0e",
   "metadata": {
    "execution": {
     "iopub.execute_input": "2022-03-21T18:05:46.059495Z",
     "iopub.status.busy": "2022-03-21T18:05:46.058632Z",
     "iopub.status.idle": "2022-03-21T18:05:46.220713Z",
     "shell.execute_reply": "2022-03-21T18:05:46.221185Z",
     "shell.execute_reply.started": "2022-03-18T16:33:20.980995Z"
    },
    "papermill": {
     "duration": 0.275546,
     "end_time": "2022-03-21T18:05:46.221344",
     "exception": false,
     "start_time": "2022-03-21T18:05:45.945798",
     "status": "completed"
    },
    "tags": []
   },
   "outputs": [
    {
     "data": {
      "image/png": "[encoded data removed]",
      "text/plain": [
       "<Figure size 640x480 with 1 Axes>"
      ]
     },
     "metadata": {},
     "output_type": "display_data"
    }
   ],
   "source": [
    "#count the number of customers in the churn and not churn class\n",
    "ax = sns.countplot(x='Churn', data=data)\n",
    "for a in ax.patches:\n",
    "    ax.annotate(format((a.get_height()/5630)*100,'.2f'), (a.get_x() + a.get_width()/2., a.get_height()),\\\n",
    "                ha='center',va='center',size=12,xytext=(0, -10),textcoords='offset points')\n",
    "plt.show()"
   ]
  },
  {
   "cell_type": "markdown",
   "id": "11d1e7c3",
   "metadata": {
    "papermill": {
     "duration": 0.108232,
     "end_time": "2022-03-21T18:05:46.438339",
     "exception": false,
     "start_time": "2022-03-21T18:05:46.330107",
     "status": "completed"
    },
    "tags": []
   },
   "source": [
    "**There are more retained than churned customers, the ratio of retained to churned is approximately 5 to 1, so the churn rate is very low, which is normal therefore making the data imbalanced.**"
   ]
  },
  {
   "cell_type": "markdown",
   "id": "cde1d77a",
   "metadata": {
    "papermill": {
     "duration": 0.108803,
     "end_time": "2022-03-21T18:05:46.656275",
     "exception": false,
     "start_time": "2022-03-21T18:05:46.547472",
     "status": "completed"
    },
    "tags": []
   },
   "source": [
    "### Distribution of the Tenure of the customers on the platform"
   ]
  },
  {
   "cell_type": "code",
   "execution_count": 14,
   "id": "5e661569",
   "metadata": {
    "execution": {
     "iopub.execute_input": "2022-03-21T18:05:46.880823Z",
     "iopub.status.busy": "2022-03-21T18:05:46.880164Z",
     "iopub.status.idle": "2022-03-21T18:05:47.234465Z",
     "shell.execute_reply": "2022-03-21T18:05:47.233840Z",
     "shell.execute_reply.started": "2022-03-18T16:33:21.185597Z"
    },
    "papermill": {
     "duration": 0.466966,
     "end_time": "2022-03-21T18:05:47.234633",
     "exception": false,
     "start_time": "2022-03-21T18:05:46.767667",
     "status": "completed"
    },
    "tags": []
   },
   "outputs": [
    {
     "data": {
      "image/png": "[encoded data removed]",
      "text/plain": [
       "<Figure size 500x500 with 1 Axes>"
      ]
     },
     "metadata": {},
     "output_type": "display_data"
    }
   ],
   "source": [
    "sns.displot(x='Tenure', kde=True, data=data)\n",
    "plt.title(\"Distribution of Tenure of the Customers on the platform\")\n",
    "plt.show()"
   ]
  },
  {
   "cell_type": "markdown",
   "id": "29cc4152",
   "metadata": {
    "papermill": {
     "duration": 0.109553,
     "end_time": "2022-03-21T18:05:47.454417",
     "exception": false,
     "start_time": "2022-03-21T18:05:47.344864",
     "status": "completed"
    },
    "tags": []
   },
   "source": [
    "### Distribution of Order Count of customers"
   ]
  },
  {
   "cell_type": "code",
   "execution_count": 15,
   "id": "bc1cfc8e",
   "metadata": {
    "execution": {
     "iopub.execute_input": "2022-03-21T18:05:47.677790Z",
     "iopub.status.busy": "2022-03-21T18:05:47.677122Z",
     "iopub.status.idle": "2022-03-21T18:05:48.095737Z",
     "shell.execute_reply": "2022-03-21T18:05:48.096333Z",
     "shell.execute_reply.started": "2022-03-18T16:33:21.5949Z"
    },
    "papermill": {
     "duration": 0.532138,
     "end_time": "2022-03-21T18:05:48.096493",
     "exception": false,
     "start_time": "2022-03-21T18:05:47.564355",
     "status": "completed"
    },
    "tags": []
   },
   "outputs": [
    {
     "data": {
      "image/png": "[encoded data removed]",
      "text/plain": [
       "<Figure size 500x500 with 1 Axes>"
      ]
     },
     "metadata": {},
     "output_type": "display_data"
    }
   ],
   "source": [
    "sns.displot(x='OrderCount', kde=True, data=data)\n",
    "plt.title(\"Distribution of Number of customer orders\")\n",
    "plt.show()"
   ]
  },
  {
   "cell_type": "markdown",
   "id": "fbb52c4f",
   "metadata": {
    "papermill": {
     "duration": 0.111765,
     "end_time": "2022-03-21T18:05:48.318827",
     "exception": false,
     "start_time": "2022-03-21T18:05:48.207062",
     "status": "completed"
    },
    "tags": []
   },
   "source": [
    "### Distribution of Recency of the customers\n",
    "Recency is gotten from the day since last order of each customer. Customers with low number of days since last order are recent customers and vice versa"
   ]
  },
  {
   "cell_type": "code",
   "execution_count": 16,
   "id": "7cdbc1f9",
   "metadata": {
    "execution": {
     "iopub.execute_input": "2022-03-21T18:05:48.544344Z",
     "iopub.status.busy": "2022-03-21T18:05:48.543677Z",
     "iopub.status.idle": "2022-03-21T18:05:48.969832Z",
     "shell.execute_reply": "2022-03-21T18:05:48.969221Z",
     "shell.execute_reply.started": "2022-03-18T16:33:22.104114Z"
    },
    "papermill": {
     "duration": 0.539637,
     "end_time": "2022-03-21T18:05:48.969985",
     "exception": false,
     "start_time": "2022-03-21T18:05:48.430348",
     "status": "completed"
    },
    "tags": []
   },
   "outputs": [
    {
     "data": {
      "image/png": "[encoded data removed]",
      "text/plain": [
       "<Figure size 500x500 with 1 Axes>"
      ]
     },
     "metadata": {},
     "output_type": "display_data"
    }
   ],
   "source": [
    "sns.displot(x='DaySinceLastOrder', kde=True, data=data)\n",
    "plt.title(\"Distribution of Recency of customer orders\")\n",
    "plt.show()"
   ]
  },
  {
   "cell_type": "markdown",
   "id": "8475a0ac",
   "metadata": {
    "papermill": {
     "duration": 0.112454,
     "end_time": "2022-03-21T18:05:49.194366",
     "exception": false,
     "start_time": "2022-03-21T18:05:49.081912",
     "status": "completed"
    },
    "tags": []
   },
   "source": [
    "### Distribution of Amount returned for money spent by customers\n",
    "Cashback is a reward that refunds a percentage of the money spent to by a customer to him/her, It is usually dependent on the amount spent, so the cashback column can be used in place of the amount spent columns."
   ]
  },
  {
   "cell_type": "code",
   "execution_count": 17,
   "id": "a59b0c96",
   "metadata": {
    "execution": {
     "iopub.execute_input": "2022-03-21T18:05:49.425681Z",
     "iopub.status.busy": "2022-03-21T18:05:49.424795Z",
     "iopub.status.idle": "2022-03-21T18:05:49.817180Z",
     "shell.execute_reply": "2022-03-21T18:05:49.817698Z",
     "shell.execute_reply.started": "2022-03-18T16:33:22.570337Z"
    },
    "papermill": {
     "duration": 0.511094,
     "end_time": "2022-03-21T18:05:49.817885",
     "exception": false,
     "start_time": "2022-03-21T18:05:49.306791",
     "status": "completed"
    },
    "tags": []
   },
   "outputs": [
    {
     "data": {
      "image/png": "[encoded data removed]",
      "text/plain": [
       "<Figure size 500x500 with 1 Axes>"
      ]
     },
     "metadata": {},
     "output_type": "display_data"
    }
   ],
   "source": [
    "sns.displot(x='CashbackAmount',kde=True, data=data)\n",
    "plt.title('Distribution of Cashback for customers')\n",
    "plt.show()"
   ]
  },
  {
   "cell_type": "markdown",
   "id": "d9d73cd3",
   "metadata": {
    "papermill": {
     "duration": 0.115938,
     "end_time": "2022-03-21T18:05:50.047523",
     "exception": false,
     "start_time": "2022-03-21T18:05:49.931585",
     "status": "completed"
    },
    "tags": []
   },
   "source": [
    "### Distribution of distance of Warehouse to customers home"
   ]
  },
  {
   "cell_type": "code",
   "execution_count": 18,
   "id": "4ad61554",
   "metadata": {
    "execution": {
     "iopub.execute_input": "2022-03-21T18:05:50.277087Z",
     "iopub.status.busy": "2022-03-21T18:05:50.276425Z",
     "iopub.status.idle": "2022-03-21T18:05:50.763472Z",
     "shell.execute_reply": "2022-03-21T18:05:50.762931Z",
     "shell.execute_reply.started": "2022-03-18T16:33:23.007122Z"
    },
    "papermill": {
     "duration": 0.602826,
     "end_time": "2022-03-21T18:05:50.763651",
     "exception": false,
     "start_time": "2022-03-21T18:05:50.160825",
     "status": "completed"
    },
    "tags": []
   },
   "outputs": [
    {
     "data": {
      "image/png": "[encoded data removed]",
      "text/plain": [
       "<Figure size 500x500 with 1 Axes>"
      ]
     },
     "metadata": {},
     "output_type": "display_data"
    }
   ],
   "source": [
    "sns.displot(x='WarehouseToHome', kde=True, data=data)\n",
    "plt.title(\"Distribution of distance of Warehouse to customers home\")\n",
    "plt.show()"
   ]
  },
  {
   "cell_type": "markdown",
   "id": "55956554",
   "metadata": {
    "papermill": {
     "duration": 0.11475,
     "end_time": "2022-03-21T18:05:50.993430",
     "exception": false,
     "start_time": "2022-03-21T18:05:50.878680",
     "status": "completed"
    },
    "tags": []
   },
   "source": [
    "### Distribution of Percentage increase in customer orders"
   ]
  },
  {
   "cell_type": "code",
   "execution_count": 19,
   "id": "585a160b",
   "metadata": {
    "execution": {
     "iopub.execute_input": "2022-03-21T18:05:51.253305Z",
     "iopub.status.busy": "2022-03-21T18:05:51.250439Z",
     "iopub.status.idle": "2022-03-21T18:05:51.570013Z",
     "shell.execute_reply": "2022-03-21T18:05:51.569477Z",
     "shell.execute_reply.started": "2022-03-18T16:33:23.522732Z"
    },
    "papermill": {
     "duration": 0.462035,
     "end_time": "2022-03-21T18:05:51.570150",
     "exception": false,
     "start_time": "2022-03-21T18:05:51.108115",
     "status": "completed"
    },
    "tags": []
   },
   "outputs": [
    {
     "data": {
      "image/png": "[encoded data removed]",
      "text/plain": [
       "<Figure size 500x500 with 1 Axes>"
      ]
     },
     "metadata": {},
     "output_type": "display_data"
    }
   ],
   "source": [
    "sns.displot(x='OrderAmountHikeFromlastYear', kde=True, data=data)\n",
    "plt.title(\"Distribution of Percentage increase in customer orders\")\n",
    "plt.show()"
   ]
  },
  {
   "cell_type": "markdown",
   "id": "3c94cffa",
   "metadata": {
    "papermill": {
     "duration": 0.123788,
     "end_time": "2022-03-21T18:05:51.817727",
     "exception": false,
     "start_time": "2022-03-21T18:05:51.693939",
     "status": "completed"
    },
    "tags": []
   },
   "source": [
    "### Distribution of Hours spent on the app by the customers"
   ]
  },
  {
   "cell_type": "code",
   "execution_count": 20,
   "id": "66f5fb97",
   "metadata": {
    "execution": {
     "iopub.execute_input": "2022-03-21T18:05:52.052024Z",
     "iopub.status.busy": "2022-03-21T18:05:52.051362Z",
     "iopub.status.idle": "2022-03-21T18:05:52.451048Z",
     "shell.execute_reply": "2022-03-21T18:05:52.451668Z",
     "shell.execute_reply.started": "2022-03-18T16:33:23.904269Z"
    },
    "papermill": {
     "duration": 0.51864,
     "end_time": "2022-03-21T18:05:52.451841",
     "exception": false,
     "start_time": "2022-03-21T18:05:51.933201",
     "status": "completed"
    },
    "tags": []
   },
   "outputs": [
    {
     "data": {
      "image/png": "[encoded data removed]",
      "text/plain": [
       "<Figure size 640x480 with 1 Axes>"
      ]
     },
     "metadata": {},
     "output_type": "display_data"
    }
   ],
   "source": [
    "axx = sns.countplot(x='HourSpendOnApp', data=data)\n",
    "for a in axx.patches:\n",
    "    axx.annotate(format((a.get_height()/5630)*100,'.2f'), (a.get_x() + a.get_width()/2., a.get_height()),\\\n",
    "                ha='center',va='center',size=12,xytext=(0, 6),textcoords='offset points')\n",
    "plt.title(\"Distribution of hours spent on the app by the customers\")\n",
    "plt.show()"
   ]
  },
  {
   "cell_type": "markdown",
   "id": "295f7e5b",
   "metadata": {
    "papermill": {
     "duration": 0.118216,
     "end_time": "2022-03-21T18:05:52.685189",
     "exception": false,
     "start_time": "2022-03-21T18:05:52.566973",
     "status": "completed"
    },
    "tags": []
   },
   "source": [
    "### Distribution Satisfaction score for churned and retained customers"
   ]
  },
  {
   "cell_type": "code",
   "execution_count": 21,
   "id": "b3bf849d",
   "metadata": {
    "execution": {
     "iopub.execute_input": "2022-03-21T18:05:52.922944Z",
     "iopub.status.busy": "2022-03-21T18:05:52.922114Z",
     "iopub.status.idle": "2022-03-21T18:05:53.111732Z",
     "shell.execute_reply": "2022-03-21T18:05:53.112238Z",
     "shell.execute_reply.started": "2022-03-18T16:33:24.27956Z"
    },
    "papermill": {
     "duration": 0.310239,
     "end_time": "2022-03-21T18:05:53.112406",
     "exception": false,
     "start_time": "2022-03-21T18:05:52.802167",
     "status": "completed"
    },
    "tags": []
   },
   "outputs": [
    {
     "data": {
      "image/png": "[encoded data removed]",
      "text/plain": [
       "<Figure size 640x480 with 1 Axes>"
      ]
     },
     "metadata": {},
     "output_type": "display_data"
    }
   ],
   "source": [
    "sns.countplot(x='SatisfactionScore', hue='Churn', palette='viridis', data=data)\n",
    "plt.title(\"Distribution of Satisfaction Score for Churned and Retained customers\")\n",
    "plt.show()"
   ]
  },
  {
   "cell_type": "markdown",
   "id": "0ce40802",
   "metadata": {
    "papermill": {
     "duration": 0.115518,
     "end_time": "2022-03-21T18:05:53.347696",
     "exception": false,
     "start_time": "2022-03-21T18:05:53.232178",
     "status": "completed"
    },
    "tags": []
   },
   "source": [
    "### Distribution of Gender for churned and retained customers"
   ]
  },
  {
   "cell_type": "code",
   "execution_count": 22,
   "id": "e3dc6460",
   "metadata": {
    "execution": {
     "iopub.execute_input": "2022-03-21T18:05:53.584727Z",
     "iopub.status.busy": "2022-03-21T18:05:53.584066Z",
     "iopub.status.idle": "2022-03-21T18:05:53.739457Z",
     "shell.execute_reply": "2022-03-21T18:05:53.740133Z",
     "shell.execute_reply.started": "2022-03-18T16:33:24.517557Z"
    },
    "papermill": {
     "duration": 0.276878,
     "end_time": "2022-03-21T18:05:53.740319",
     "exception": false,
     "start_time": "2022-03-21T18:05:53.463441",
     "status": "completed"
    },
    "tags": []
   },
   "outputs": [
    {
     "data": {
      "image/png": "[encoded data removed]",
      "text/plain": [
       "<Figure size 640x480 with 1 Axes>"
      ]
     },
     "metadata": {},
     "output_type": "display_data"
    }
   ],
   "source": [
    "sns.countplot(x='Gender', hue='Churn', palette='viridis', data=data)\n",
    "plt.title(\"Distribution of Gender for Churned and Retained customers\")\n",
    "plt.show()"
   ]
  },
  {
   "cell_type": "markdown",
   "id": "dd13eba4",
   "metadata": {
    "papermill": {
     "duration": 0.116688,
     "end_time": "2022-03-21T18:05:53.974019",
     "exception": false,
     "start_time": "2022-03-21T18:05:53.857331",
     "status": "completed"
    },
    "tags": []
   },
   "source": [
    "### Distribution of marital status for churned and retained customers"
   ]
  },
  {
   "cell_type": "code",
   "execution_count": 23,
   "id": "de9e3892",
   "metadata": {
    "execution": {
     "iopub.execute_input": "2022-03-21T18:05:54.210593Z",
     "iopub.status.busy": "2022-03-21T18:05:54.209888Z",
     "iopub.status.idle": "2022-03-21T18:05:54.386663Z",
     "shell.execute_reply": "2022-03-21T18:05:54.386092Z",
     "shell.execute_reply.started": "2022-03-18T16:33:24.671581Z"
    },
    "papermill": {
     "duration": 0.296047,
     "end_time": "2022-03-21T18:05:54.386796",
     "exception": false,
     "start_time": "2022-03-21T18:05:54.090749",
     "status": "completed"
    },
    "tags": []
   },
   "outputs": [
    {
     "data": {
      "image/png": "[encoded data removed]",
      "text/plain": [
       "<Figure size 640x480 with 1 Axes>"
      ]
     },
     "metadata": {},
     "output_type": "display_data"
    }
   ],
   "source": [
    "sns.countplot(x='MaritalStatus', hue='Churn', palette='viridis', data=data)\n",
    "plt.title(\"Distribution of marital status for churned and retained customers\")\n",
    "plt.show()"
   ]
  },
  {
   "cell_type": "markdown",
   "id": "1671e693",
   "metadata": {
    "papermill": {
     "duration": 0.116846,
     "end_time": "2022-03-21T18:05:54.622172",
     "exception": false,
     "start_time": "2022-03-21T18:05:54.505326",
     "status": "completed"
    },
    "tags": []
   },
   "source": [
    "### Distribution of complain for churned and retained customers"
   ]
  },
  {
   "cell_type": "code",
   "execution_count": 24,
   "id": "4962baa4",
   "metadata": {
    "execution": {
     "iopub.execute_input": "2022-03-21T18:05:54.862789Z",
     "iopub.status.busy": "2022-03-21T18:05:54.862164Z",
     "iopub.status.idle": "2022-03-21T18:05:55.017194Z",
     "shell.execute_reply": "2022-03-21T18:05:55.017813Z",
     "shell.execute_reply.started": "2022-03-18T16:33:24.858971Z"
    },
    "papermill": {
     "duration": 0.276584,
     "end_time": "2022-03-21T18:05:55.017977",
     "exception": false,
     "start_time": "2022-03-21T18:05:54.741393",
     "status": "completed"
    },
    "tags": []
   },
   "outputs": [
    {
     "data": {
      "image/png": "[encoded data removed]",
      "text/plain": [
       "<Figure size 640x480 with 1 Axes>"
      ]
     },
     "metadata": {},
     "output_type": "display_data"
    }
   ],
   "source": [
    "sns.countplot(x='Complain', hue='Churn', palette='viridis', data=data)\n",
    "plt.title(\"Distribution of complain for churned and retained customers\")\n",
    "plt.show()"
   ]
  },
  {
   "cell_type": "markdown",
   "id": "cc541825",
   "metadata": {
    "papermill": {
     "duration": 0.080972,
     "end_time": "2022-03-21T18:05:55.219586",
     "exception": false,
     "start_time": "2022-03-21T18:05:55.138614",
     "status": "completed"
    },
    "tags": []
   },
   "source": [
    "### Relationship between the Tenure and Churn rate"
   ]
  },
  {
   "cell_type": "code",
   "execution_count": 25,
   "id": "e18e80aa",
   "metadata": {
    "execution": {
     "iopub.execute_input": "2022-03-21T18:05:55.386896Z",
     "iopub.status.busy": "2022-03-21T18:05:55.386362Z",
     "iopub.status.idle": "2022-03-21T18:05:55.568387Z",
     "shell.execute_reply": "2022-03-21T18:05:55.568766Z",
     "shell.execute_reply.started": "2022-03-18T16:33:25.065088Z"
    },
    "papermill": {
     "duration": 0.268476,
     "end_time": "2022-03-21T18:05:55.568902",
     "exception": false,
     "start_time": "2022-03-21T18:05:55.300426",
     "status": "completed"
    },
    "tags": []
   },
   "outputs": [
    {
     "data": {
      "image/png": "[encoded data removed]",
      "text/plain": [
       "<Figure size 640x480 with 1 Axes>"
      ]
     },
     "metadata": {},
     "output_type": "display_data"
    }
   ],
   "source": [
    "sns.scatterplot(x=data['Tenure'],y=data.groupby('Tenure').Churn.mean())\n",
    "plt.title(\"Relationship between Tenure and Churn rate\")\n",
    "plt.show()"
   ]
  },
  {
   "cell_type": "markdown",
   "id": "ef73230f",
   "metadata": {
    "papermill": {
     "duration": 0.081934,
     "end_time": "2022-03-21T18:05:55.735244",
     "exception": false,
     "start_time": "2022-03-21T18:05:55.653310",
     "status": "completed"
    },
    "tags": []
   },
   "source": [
    "### Relationship between the Order Count and Churn rate"
   ]
  },
  {
   "cell_type": "code",
   "execution_count": 26,
   "id": "b7431a2f",
   "metadata": {
    "execution": {
     "iopub.execute_input": "2022-03-21T18:05:55.905078Z",
     "iopub.status.busy": "2022-03-21T18:05:55.903373Z",
     "iopub.status.idle": "2022-03-21T18:05:56.074135Z",
     "shell.execute_reply": "2022-03-21T18:05:56.073640Z",
     "shell.execute_reply.started": "2022-03-18T16:33:25.288305Z"
    },
    "papermill": {
     "duration": 0.257162,
     "end_time": "2022-03-21T18:05:56.074243",
     "exception": false,
     "start_time": "2022-03-21T18:05:55.817081",
     "status": "completed"
    },
    "tags": []
   },
   "outputs": [
    {
     "data": {
      "image/png": "[encoded data removed]",
      "text/plain": [
       "<Figure size 640x480 with 1 Axes>"
      ]
     },
     "metadata": {},
     "output_type": "display_data"
    }
   ],
   "source": [
    "sns.scatterplot(x=data['OrderCount'],y=data.groupby('OrderCount').Churn.mean())\n",
    "plt.title(\"Relationship between OrderCount and Churn rate\")\n",
    "plt.show()"
   ]
  },
  {
   "cell_type": "markdown",
   "id": "c78f2689",
   "metadata": {
    "papermill": {
     "duration": 0.080178,
     "end_time": "2022-03-21T18:05:56.236205",
     "exception": false,
     "start_time": "2022-03-21T18:05:56.156027",
     "status": "completed"
    },
    "tags": []
   },
   "source": [
    "### Relationship between the Coupon Used and Churn rate"
   ]
  },
  {
   "cell_type": "code",
   "execution_count": 27,
   "id": "e0baae5c",
   "metadata": {
    "execution": {
     "iopub.execute_input": "2022-03-21T18:05:56.406694Z",
     "iopub.status.busy": "2022-03-21T18:05:56.405219Z",
     "iopub.status.idle": "2022-03-21T18:05:56.572262Z",
     "shell.execute_reply": "2022-03-21T18:05:56.571868Z",
     "shell.execute_reply.started": "2022-03-18T16:33:25.50005Z"
    },
    "papermill": {
     "duration": 0.254569,
     "end_time": "2022-03-21T18:05:56.572372",
     "exception": false,
     "start_time": "2022-03-21T18:05:56.317803",
     "status": "completed"
    },
    "tags": []
   },
   "outputs": [
    {
     "data": {
      "image/png": "[encoded data removed]",
      "text/plain": [
       "<Figure size 640x480 with 1 Axes>"
      ]
     },
     "metadata": {},
     "output_type": "display_data"
    }
   ],
   "source": [
    "sns.scatterplot(x=data['CouponUsed'],y=data.groupby('CouponUsed').Churn.mean())\n",
    "plt.title(\"Relationship between CouponUsed and Churn rate\")\n",
    "plt.show()"
   ]
  },
  {
   "cell_type": "code",
   "execution_count": 5,
   "id": "1344fbaa",
   "metadata": {
    "execution": {
     "iopub.execute_input": "2022-03-21T18:05:56.744098Z",
     "iopub.status.busy": "2022-03-21T18:05:56.742009Z",
     "iopub.status.idle": "2022-03-21T18:05:57.741466Z",
     "shell.execute_reply": "2022-03-21T18:05:57.741052Z",
     "shell.execute_reply.started": "2022-03-18T16:33:25.708083Z"
    },
    "papermill": {
     "duration": 1.08612,
     "end_time": "2022-03-21T18:05:57.741597",
     "exception": false,
     "start_time": "2022-03-21T18:05:56.655477",
     "status": "completed"
    },
    "tags": []
   },
   "outputs": [
    {
     "ename": "ValueError",
     "evalue": "could not convert string to float: 'Mobile Phone'",
     "output_type": "error",
     "traceback": [
      "\u001b[0;31m---------------------------------------------------------------------------\u001b[0m",
      "\u001b[0;31mValueError\u001b[0m                                Traceback (most recent call last)",
      "Cell \u001b[0;32mIn[5], line 2\u001b[0m\n\u001b[1;32m      1\u001b[0m plt\u001b[38;5;241m.\u001b[39mfigure(figsize\u001b[38;5;241m=\u001b[39m(\u001b[38;5;241m8\u001b[39m,\u001b[38;5;241m4\u001b[39m))\n\u001b[0;32m----> 2\u001b[0m sns\u001b[38;5;241m.\u001b[39mheatmap(\u001b[43mdata\u001b[49m\u001b[38;5;241;43m.\u001b[39;49m\u001b[43mdrop\u001b[49m\u001b[43m(\u001b[49m\u001b[38;5;124;43m'\u001b[39;49m\u001b[38;5;124;43mCustomerID\u001b[39;49m\u001b[38;5;124;43m'\u001b[39;49m\u001b[43m,\u001b[49m\u001b[43maxis\u001b[49m\u001b[38;5;241;43m=\u001b[39;49m\u001b[38;5;241;43m1\u001b[39;49m\u001b[43m)\u001b[49m\u001b[38;5;241;43m.\u001b[39;49m\u001b[43mcorr\u001b[49m\u001b[43m(\u001b[49m\u001b[43m)\u001b[49m, annot\u001b[38;5;241m=\u001b[39m\u001b[38;5;28;01mTrue\u001b[39;00m)\n\u001b[1;32m      3\u001b[0m plt\u001b[38;5;241m.\u001b[39mtitle(\u001b[38;5;124m\"\u001b[39m\u001b[38;5;124mCorrelation Matrix for the Customer Dataset\u001b[39m\u001b[38;5;124m\"\u001b[39m)\n\u001b[1;32m      4\u001b[0m plt\u001b[38;5;241m.\u001b[39mshow()\n",
      "File \u001b[0;32m/Library/Frameworks/Python.framework/Versions/3.10/lib/python3.10/site-packages/pandas/core/frame.py:11036\u001b[0m, in \u001b[0;36mDataFrame.corr\u001b[0;34m(self, method, min_periods, numeric_only)\u001b[0m\n\u001b[1;32m  11034\u001b[0m cols \u001b[38;5;241m=\u001b[39m data\u001b[38;5;241m.\u001b[39mcolumns\n\u001b[1;32m  11035\u001b[0m idx \u001b[38;5;241m=\u001b[39m cols\u001b[38;5;241m.\u001b[39mcopy()\n\u001b[0;32m> 11036\u001b[0m mat \u001b[38;5;241m=\u001b[39m \u001b[43mdata\u001b[49m\u001b[38;5;241;43m.\u001b[39;49m\u001b[43mto_numpy\u001b[49m\u001b[43m(\u001b[49m\u001b[43mdtype\u001b[49m\u001b[38;5;241;43m=\u001b[39;49m\u001b[38;5;28;43mfloat\u001b[39;49m\u001b[43m,\u001b[49m\u001b[43m \u001b[49m\u001b[43mna_value\u001b[49m\u001b[38;5;241;43m=\u001b[39;49m\u001b[43mnp\u001b[49m\u001b[38;5;241;43m.\u001b[39;49m\u001b[43mnan\u001b[49m\u001b[43m,\u001b[49m\u001b[43m \u001b[49m\u001b[43mcopy\u001b[49m\u001b[38;5;241;43m=\u001b[39;49m\u001b[38;5;28;43;01mFalse\u001b[39;49;00m\u001b[43m)\u001b[49m\n\u001b[1;32m  11038\u001b[0m \u001b[38;5;28;01mif\u001b[39;00m method \u001b[38;5;241m==\u001b[39m \u001b[38;5;124m\"\u001b[39m\u001b[38;5;124mpearson\u001b[39m\u001b[38;5;124m\"\u001b[39m:\n\u001b[1;32m  11039\u001b[0m     correl \u001b[38;5;241m=\u001b[39m libalgos\u001b[38;5;241m.\u001b[39mnancorr(mat, minp\u001b[38;5;241m=\u001b[39mmin_periods)\n",
      "File \u001b[0;32m/Library/Frameworks/Python.framework/Versions/3.10/lib/python3.10/site-packages/pandas/core/frame.py:1981\u001b[0m, in \u001b[0;36mDataFrame.to_numpy\u001b[0;34m(self, dtype, copy, na_value)\u001b[0m\n\u001b[1;32m   1979\u001b[0m \u001b[38;5;28;01mif\u001b[39;00m dtype \u001b[38;5;129;01mis\u001b[39;00m \u001b[38;5;129;01mnot\u001b[39;00m \u001b[38;5;28;01mNone\u001b[39;00m:\n\u001b[1;32m   1980\u001b[0m     dtype \u001b[38;5;241m=\u001b[39m np\u001b[38;5;241m.\u001b[39mdtype(dtype)\n\u001b[0;32m-> 1981\u001b[0m result \u001b[38;5;241m=\u001b[39m \u001b[38;5;28;43mself\u001b[39;49m\u001b[38;5;241;43m.\u001b[39;49m\u001b[43m_mgr\u001b[49m\u001b[38;5;241;43m.\u001b[39;49m\u001b[43mas_array\u001b[49m\u001b[43m(\u001b[49m\u001b[43mdtype\u001b[49m\u001b[38;5;241;43m=\u001b[39;49m\u001b[43mdtype\u001b[49m\u001b[43m,\u001b[49m\u001b[43m \u001b[49m\u001b[43mcopy\u001b[49m\u001b[38;5;241;43m=\u001b[39;49m\u001b[43mcopy\u001b[49m\u001b[43m,\u001b[49m\u001b[43m \u001b[49m\u001b[43mna_value\u001b[49m\u001b[38;5;241;43m=\u001b[39;49m\u001b[43mna_value\u001b[49m\u001b[43m)\u001b[49m\n\u001b[1;32m   1982\u001b[0m \u001b[38;5;28;01mif\u001b[39;00m result\u001b[38;5;241m.\u001b[39mdtype \u001b[38;5;129;01mis\u001b[39;00m \u001b[38;5;129;01mnot\u001b[39;00m dtype:\n\u001b[1;32m   1983\u001b[0m     result \u001b[38;5;241m=\u001b[39m np\u001b[38;5;241m.\u001b[39marray(result, dtype\u001b[38;5;241m=\u001b[39mdtype, copy\u001b[38;5;241m=\u001b[39m\u001b[38;5;28;01mFalse\u001b[39;00m)\n",
      "File \u001b[0;32m/Library/Frameworks/Python.framework/Versions/3.10/lib/python3.10/site-packages/pandas/core/internals/managers.py:1692\u001b[0m, in \u001b[0;36mBlockManager.as_array\u001b[0;34m(self, dtype, copy, na_value)\u001b[0m\n\u001b[1;32m   1690\u001b[0m         arr\u001b[38;5;241m.\u001b[39mflags\u001b[38;5;241m.\u001b[39mwriteable \u001b[38;5;241m=\u001b[39m \u001b[38;5;28;01mFalse\u001b[39;00m\n\u001b[1;32m   1691\u001b[0m \u001b[38;5;28;01melse\u001b[39;00m:\n\u001b[0;32m-> 1692\u001b[0m     arr \u001b[38;5;241m=\u001b[39m \u001b[38;5;28;43mself\u001b[39;49m\u001b[38;5;241;43m.\u001b[39;49m\u001b[43m_interleave\u001b[49m\u001b[43m(\u001b[49m\u001b[43mdtype\u001b[49m\u001b[38;5;241;43m=\u001b[39;49m\u001b[43mdtype\u001b[49m\u001b[43m,\u001b[49m\u001b[43m \u001b[49m\u001b[43mna_value\u001b[49m\u001b[38;5;241;43m=\u001b[39;49m\u001b[43mna_value\u001b[49m\u001b[43m)\u001b[49m\n\u001b[1;32m   1693\u001b[0m     \u001b[38;5;66;03m# The underlying data was copied within _interleave, so no need\u001b[39;00m\n\u001b[1;32m   1694\u001b[0m     \u001b[38;5;66;03m# to further copy if copy=True or setting na_value\u001b[39;00m\n\u001b[1;32m   1696\u001b[0m \u001b[38;5;28;01mif\u001b[39;00m na_value \u001b[38;5;129;01mis\u001b[39;00m lib\u001b[38;5;241m.\u001b[39mno_default:\n",
      "File \u001b[0;32m/Library/Frameworks/Python.framework/Versions/3.10/lib/python3.10/site-packages/pandas/core/internals/managers.py:1751\u001b[0m, in \u001b[0;36mBlockManager._interleave\u001b[0;34m(self, dtype, na_value)\u001b[0m\n\u001b[1;32m   1749\u001b[0m     \u001b[38;5;28;01melse\u001b[39;00m:\n\u001b[1;32m   1750\u001b[0m         arr \u001b[38;5;241m=\u001b[39m blk\u001b[38;5;241m.\u001b[39mget_values(dtype)\n\u001b[0;32m-> 1751\u001b[0m     \u001b[43mresult\u001b[49m\u001b[43m[\u001b[49m\u001b[43mrl\u001b[49m\u001b[38;5;241;43m.\u001b[39;49m\u001b[43mindexer\u001b[49m\u001b[43m]\u001b[49m \u001b[38;5;241m=\u001b[39m arr\n\u001b[1;32m   1752\u001b[0m     itemmask[rl\u001b[38;5;241m.\u001b[39mindexer] \u001b[38;5;241m=\u001b[39m \u001b[38;5;241m1\u001b[39m\n\u001b[1;32m   1754\u001b[0m \u001b[38;5;28;01mif\u001b[39;00m \u001b[38;5;129;01mnot\u001b[39;00m itemmask\u001b[38;5;241m.\u001b[39mall():\n",
      "\u001b[0;31mValueError\u001b[0m: could not convert string to float: 'Mobile Phone'"
     ]
    },
    {
     "data": {
      "text/plain": [
       "<Figure size 800x400 with 0 Axes>"
      ]
     },
     "metadata": {},
     "output_type": "display_data"
    }
   ],
   "source": [
    "plt.figure(figsize=(8,4))\n",
    "sns.heatmap(data.drop('CustomerID',axis=1).corr(), annot=True)\n",
    "plt.title(\"Correlation Matrix for the Customer Dataset\")\n",
    "plt.show()"
   ]
  },
  {
   "cell_type": "markdown",
   "id": "501b2d94",
   "metadata": {
    "papermill": {
     "duration": 0.084153,
     "end_time": "2022-03-21T18:05:57.910867",
     "exception": false,
     "start_time": "2022-03-21T18:05:57.826714",
     "status": "completed"
    },
    "tags": []
   },
   "source": [
    "**Findings**\n",
    "--\n",
    "From the Analysis;\n",
    "* **The Tenure, Days since last order, cashback amount, and warehouse to home features have outliers, but the outliers don't have huge impact on tree models, which will be my final model so I will keep them.**\n",
    "* **Most of the customers spend 3 hours on the app, and 94.75% of the customers spend between 2 and 4 hours on the app**\n",
    "* **Single people have higher churn rate than other Marital Status**\n",
    "* **Customers with complain have higher churn rate than customers without complain**\n",
    "* **From the scatterplot there is a relationship between tenure and the churn rate as there is a churn rate of 0.5 between 4 and 5 Tenure**"
   ]
  },
  {
   "cell_type": "markdown",
   "id": "a948ed0a",
   "metadata": {
    "papermill": {
     "duration": 0.085188,
     "end_time": "2022-03-21T18:05:58.080831",
     "exception": false,
     "start_time": "2022-03-21T18:05:57.995643",
     "status": "completed"
    },
    "tags": []
   },
   "source": [
    "<a id=\"section-two\"></a>\n",
    "# Data Preprocessing\n",
    "The preprocessing involves encoding categorical variables, imputing missing values, and scaling the data. But those steps will be done in pipelines, and will not be under this section.\n",
    "\n",
    "<a id=\"subsection-one\"></a>\n",
    "## Missing Value Treatment\n",
    "I will use the missingno package to visualize the missing value and understanding the missingness type, which will help in selecting the method for handling the missing values. Although the missing values would not be handled in this section, but the handler would be put in a pipeline in the model development section to avoid data leakage"
   ]
  },
  {
   "cell_type": "code",
   "execution_count": 24,
   "id": "37fc9159",
   "metadata": {
    "execution": {
     "iopub.execute_input": "2022-03-21T18:05:58.259593Z",
     "iopub.status.busy": "2022-03-21T18:05:58.258998Z",
     "iopub.status.idle": "2022-03-21T18:05:58.265952Z",
     "shell.execute_reply": "2022-03-21T18:05:58.266434Z",
     "shell.execute_reply.started": "2022-03-18T16:33:26.900207Z"
    },
    "papermill": {
     "duration": 0.101125,
     "end_time": "2022-03-21T18:05:58.266593",
     "exception": false,
     "start_time": "2022-03-21T18:05:58.165468",
     "status": "completed"
    },
    "tags": []
   },
   "outputs": [
    {
     "data": {
      "text/plain": [
       "CustomerID                       0\n",
       "Churn                            0\n",
       "Tenure                         264\n",
       "PreferredLoginDevice             0\n",
       "CityTier                         0\n",
       "WarehouseToHome                251\n",
       "PreferredPaymentMode             0\n",
       "Gender                           0\n",
       "HourSpendOnApp                 255\n",
       "NumberOfDeviceRegistered         0\n",
       "PreferedOrderCat                 0\n",
       "SatisfactionScore                0\n",
       "MaritalStatus                    0\n",
       "NumberOfAddress                  0\n",
       "Complain                         0\n",
       "OrderAmountHikeFromlastYear    265\n",
       "CouponUsed                     256\n",
       "OrderCount                     258\n",
       "DaySinceLastOrder              307\n",
       "CashbackAmount                   0\n",
       "dtype: int64"
      ]
     },
     "execution_count": 24,
     "metadata": {},
     "output_type": "execute_result"
    }
   ],
   "source": [
    "#count the number of missing values across each columns\n",
    "data.isnull().sum()"
   ]
  },
  {
   "cell_type": "code",
   "execution_count": 25,
   "id": "53875112",
   "metadata": {
    "execution": {
     "iopub.execute_input": "2022-03-21T18:05:58.444550Z",
     "iopub.status.busy": "2022-03-21T18:05:58.443903Z",
     "iopub.status.idle": "2022-03-21T18:05:58.450621Z",
     "shell.execute_reply": "2022-03-21T18:05:58.450999Z",
     "shell.execute_reply.started": "2022-03-18T16:33:26.916327Z"
    },
    "papermill": {
     "duration": 0.099926,
     "end_time": "2022-03-21T18:05:58.451136",
     "exception": false,
     "start_time": "2022-03-21T18:05:58.351210",
     "status": "completed"
    },
    "tags": []
   },
   "outputs": [
    {
     "name": "stdout",
     "output_type": "stream",
     "text": [
      "The number of missing values: 1856\n",
      "The number of rows with missing values: 1856\n"
     ]
    }
   ],
   "source": [
    "#count the total number of missing values in the dataset\n",
    "print(f'The number of missing values: {data.isnull().sum().sum()}')\n",
    "#count the number of rows with missing values\n",
    "print(f'The number of rows with missing values: {data[data.isnull().any(axis=1)].shape[0]}')"
   ]
  },
  {
   "cell_type": "markdown",
   "id": "5e819856",
   "metadata": {
    "papermill": {
     "duration": 0.101235,
     "end_time": "2022-03-21T18:05:58.639487",
     "exception": false,
     "start_time": "2022-03-21T18:05:58.538252",
     "status": "completed"
    },
    "tags": []
   },
   "source": [
    "In total there are 1856 missing values, and there are also 1856 rows with missing values, meaning that each of the missing value is on a different row, and no row has more than one missing value.\n",
    "\n",
    "So if we drop all the rows with missing values we would be dropping 1856 rows that is 32.97 percent of the dataset and will cause a data loss"
   ]
  },
  {
   "cell_type": "code",
   "execution_count": 26,
   "id": "701642dd",
   "metadata": {
    "execution": {
     "iopub.execute_input": "2022-03-21T18:05:58.899282Z",
     "iopub.status.busy": "2022-03-21T18:05:58.898355Z",
     "iopub.status.idle": "2022-03-21T18:05:58.947626Z",
     "shell.execute_reply": "2022-03-21T18:05:58.947148Z",
     "shell.execute_reply.started": "2022-03-18T16:33:26.937946Z"
    },
    "papermill": {
     "duration": 0.180747,
     "end_time": "2022-03-21T18:05:58.947748",
     "exception": false,
     "start_time": "2022-03-21T18:05:58.767001",
     "status": "completed"
    },
    "tags": []
   },
   "outputs": [
    {
     "data": {
      "text/html": [
       "<div>\n",
       "<style scoped>\n",
       "    .dataframe tbody tr th:only-of-type {\n",
       "        vertical-align: middle;\n",
       "    }\n",
       "\n",
       "    .dataframe tbody tr th {\n",
       "        vertical-align: top;\n",
       "    }\n",
       "\n",
       "    .dataframe thead th {\n",
       "        text-align: right;\n",
       "    }\n",
       "</style>\n",
       "<table border=\"1\" class=\"dataframe\">\n",
       "  <thead>\n",
       "    <tr style=\"text-align: right;\">\n",
       "      <th></th>\n",
       "      <th>CustomerID</th>\n",
       "      <th>Churn</th>\n",
       "      <th>Tenure</th>\n",
       "      <th>CityTier</th>\n",
       "      <th>WarehouseToHome</th>\n",
       "      <th>HourSpendOnApp</th>\n",
       "      <th>NumberOfDeviceRegistered</th>\n",
       "      <th>SatisfactionScore</th>\n",
       "      <th>NumberOfAddress</th>\n",
       "      <th>Complain</th>\n",
       "      <th>OrderAmountHikeFromlastYear</th>\n",
       "      <th>CouponUsed</th>\n",
       "      <th>OrderCount</th>\n",
       "      <th>DaySinceLastOrder</th>\n",
       "      <th>CashbackAmount</th>\n",
       "    </tr>\n",
       "  </thead>\n",
       "  <tbody>\n",
       "    <tr>\n",
       "      <th>count</th>\n",
       "      <td>5630.000000</td>\n",
       "      <td>5630.000000</td>\n",
       "      <td>5366.000000</td>\n",
       "      <td>5630.000000</td>\n",
       "      <td>5379.000000</td>\n",
       "      <td>5375.000000</td>\n",
       "      <td>5630.000000</td>\n",
       "      <td>5630.000000</td>\n",
       "      <td>5630.000000</td>\n",
       "      <td>5630.000000</td>\n",
       "      <td>5365.000000</td>\n",
       "      <td>5374.000000</td>\n",
       "      <td>5372.000000</td>\n",
       "      <td>5323.000000</td>\n",
       "      <td>5630.000000</td>\n",
       "    </tr>\n",
       "    <tr>\n",
       "      <th>mean</th>\n",
       "      <td>52815.500000</td>\n",
       "      <td>0.168384</td>\n",
       "      <td>10.189899</td>\n",
       "      <td>1.654707</td>\n",
       "      <td>15.639896</td>\n",
       "      <td>2.931535</td>\n",
       "      <td>3.688988</td>\n",
       "      <td>3.066785</td>\n",
       "      <td>4.214032</td>\n",
       "      <td>0.284902</td>\n",
       "      <td>15.707922</td>\n",
       "      <td>1.751023</td>\n",
       "      <td>3.008004</td>\n",
       "      <td>4.543491</td>\n",
       "      <td>177.223030</td>\n",
       "    </tr>\n",
       "    <tr>\n",
       "      <th>std</th>\n",
       "      <td>1625.385339</td>\n",
       "      <td>0.374240</td>\n",
       "      <td>8.557241</td>\n",
       "      <td>0.915389</td>\n",
       "      <td>8.531475</td>\n",
       "      <td>0.721926</td>\n",
       "      <td>1.023999</td>\n",
       "      <td>1.380194</td>\n",
       "      <td>2.583586</td>\n",
       "      <td>0.451408</td>\n",
       "      <td>3.675485</td>\n",
       "      <td>1.894621</td>\n",
       "      <td>2.939680</td>\n",
       "      <td>3.654433</td>\n",
       "      <td>49.207036</td>\n",
       "    </tr>\n",
       "    <tr>\n",
       "      <th>min</th>\n",
       "      <td>50001.000000</td>\n",
       "      <td>0.000000</td>\n",
       "      <td>0.000000</td>\n",
       "      <td>1.000000</td>\n",
       "      <td>5.000000</td>\n",
       "      <td>0.000000</td>\n",
       "      <td>1.000000</td>\n",
       "      <td>1.000000</td>\n",
       "      <td>1.000000</td>\n",
       "      <td>0.000000</td>\n",
       "      <td>11.000000</td>\n",
       "      <td>0.000000</td>\n",
       "      <td>1.000000</td>\n",
       "      <td>0.000000</td>\n",
       "      <td>0.000000</td>\n",
       "    </tr>\n",
       "    <tr>\n",
       "      <th>25%</th>\n",
       "      <td>51408.250000</td>\n",
       "      <td>0.000000</td>\n",
       "      <td>2.000000</td>\n",
       "      <td>1.000000</td>\n",
       "      <td>9.000000</td>\n",
       "      <td>2.000000</td>\n",
       "      <td>3.000000</td>\n",
       "      <td>2.000000</td>\n",
       "      <td>2.000000</td>\n",
       "      <td>0.000000</td>\n",
       "      <td>13.000000</td>\n",
       "      <td>1.000000</td>\n",
       "      <td>1.000000</td>\n",
       "      <td>2.000000</td>\n",
       "      <td>145.770000</td>\n",
       "    </tr>\n",
       "    <tr>\n",
       "      <th>50%</th>\n",
       "      <td>52815.500000</td>\n",
       "      <td>0.000000</td>\n",
       "      <td>9.000000</td>\n",
       "      <td>1.000000</td>\n",
       "      <td>14.000000</td>\n",
       "      <td>3.000000</td>\n",
       "      <td>4.000000</td>\n",
       "      <td>3.000000</td>\n",
       "      <td>3.000000</td>\n",
       "      <td>0.000000</td>\n",
       "      <td>15.000000</td>\n",
       "      <td>1.000000</td>\n",
       "      <td>2.000000</td>\n",
       "      <td>3.000000</td>\n",
       "      <td>163.280000</td>\n",
       "    </tr>\n",
       "    <tr>\n",
       "      <th>75%</th>\n",
       "      <td>54222.750000</td>\n",
       "      <td>0.000000</td>\n",
       "      <td>16.000000</td>\n",
       "      <td>3.000000</td>\n",
       "      <td>20.000000</td>\n",
       "      <td>3.000000</td>\n",
       "      <td>4.000000</td>\n",
       "      <td>4.000000</td>\n",
       "      <td>6.000000</td>\n",
       "      <td>1.000000</td>\n",
       "      <td>18.000000</td>\n",
       "      <td>2.000000</td>\n",
       "      <td>3.000000</td>\n",
       "      <td>7.000000</td>\n",
       "      <td>196.392500</td>\n",
       "    </tr>\n",
       "    <tr>\n",
       "      <th>max</th>\n",
       "      <td>55630.000000</td>\n",
       "      <td>1.000000</td>\n",
       "      <td>61.000000</td>\n",
       "      <td>3.000000</td>\n",
       "      <td>127.000000</td>\n",
       "      <td>5.000000</td>\n",
       "      <td>6.000000</td>\n",
       "      <td>5.000000</td>\n",
       "      <td>22.000000</td>\n",
       "      <td>1.000000</td>\n",
       "      <td>26.000000</td>\n",
       "      <td>16.000000</td>\n",
       "      <td>16.000000</td>\n",
       "      <td>46.000000</td>\n",
       "      <td>324.990000</td>\n",
       "    </tr>\n",
       "  </tbody>\n",
       "</table>\n",
       "</div>"
      ],
      "text/plain": [
       "         CustomerID        Churn       Tenure     CityTier  WarehouseToHome  \\\n",
       "count   5630.000000  5630.000000  5366.000000  5630.000000      5379.000000   \n",
       "mean   52815.500000     0.168384    10.189899     1.654707        15.639896   \n",
       "std     1625.385339     0.374240     8.557241     0.915389         8.531475   \n",
       "min    50001.000000     0.000000     0.000000     1.000000         5.000000   \n",
       "25%    51408.250000     0.000000     2.000000     1.000000         9.000000   \n",
       "50%    52815.500000     0.000000     9.000000     1.000000        14.000000   \n",
       "75%    54222.750000     0.000000    16.000000     3.000000        20.000000   \n",
       "max    55630.000000     1.000000    61.000000     3.000000       127.000000   \n",
       "\n",
       "       HourSpendOnApp  NumberOfDeviceRegistered  SatisfactionScore  \\\n",
       "count     5375.000000               5630.000000        5630.000000   \n",
       "mean         2.931535                  3.688988           3.066785   \n",
       "std          0.721926                  1.023999           1.380194   \n",
       "min          0.000000                  1.000000           1.000000   \n",
       "25%          2.000000                  3.000000           2.000000   \n",
       "50%          3.000000                  4.000000           3.000000   \n",
       "75%          3.000000                  4.000000           4.000000   \n",
       "max          5.000000                  6.000000           5.000000   \n",
       "\n",
       "       NumberOfAddress     Complain  OrderAmountHikeFromlastYear   CouponUsed  \\\n",
       "count      5630.000000  5630.000000                  5365.000000  5374.000000   \n",
       "mean          4.214032     0.284902                    15.707922     1.751023   \n",
       "std           2.583586     0.451408                     3.675485     1.894621   \n",
       "min           1.000000     0.000000                    11.000000     0.000000   \n",
       "25%           2.000000     0.000000                    13.000000     1.000000   \n",
       "50%           3.000000     0.000000                    15.000000     1.000000   \n",
       "75%           6.000000     1.000000                    18.000000     2.000000   \n",
       "max          22.000000     1.000000                    26.000000    16.000000   \n",
       "\n",
       "        OrderCount  DaySinceLastOrder  CashbackAmount  \n",
       "count  5372.000000        5323.000000     5630.000000  \n",
       "mean      3.008004           4.543491      177.223030  \n",
       "std       2.939680           3.654433       49.207036  \n",
       "min       1.000000           0.000000        0.000000  \n",
       "25%       1.000000           2.000000      145.770000  \n",
       "50%       2.000000           3.000000      163.280000  \n",
       "75%       3.000000           7.000000      196.392500  \n",
       "max      16.000000          46.000000      324.990000  "
      ]
     },
     "execution_count": 26,
     "metadata": {},
     "output_type": "execute_result"
    }
   ],
   "source": [
    "#description of data\n",
    "data.describe()"
   ]
  },
  {
   "cell_type": "markdown",
   "id": "14311baf",
   "metadata": {
    "papermill": {
     "duration": 0.087462,
     "end_time": "2022-03-21T18:05:59.122035",
     "exception": false,
     "start_time": "2022-03-21T18:05:59.034573",
     "status": "completed"
    },
    "tags": []
   },
   "source": [
    "### Plot the missing values in all columns, using missingness matrix"
   ]
  },
  {
   "cell_type": "code",
   "execution_count": 27,
   "id": "0c7ba81a",
   "metadata": {
    "execution": {
     "iopub.execute_input": "2022-03-21T18:05:59.308214Z",
     "iopub.status.busy": "2022-03-21T18:05:59.307544Z",
     "iopub.status.idle": "2022-03-21T18:05:59.719865Z",
     "shell.execute_reply": "2022-03-21T18:05:59.720308Z",
     "shell.execute_reply.started": "2022-03-18T16:33:26.994457Z"
    },
    "papermill": {
     "duration": 0.510224,
     "end_time": "2022-03-21T18:05:59.720438",
     "exception": false,
     "start_time": "2022-03-21T18:05:59.210214",
     "status": "completed"
    },
    "tags": []
   },
   "outputs": [
    {
     "data": {
      "image/png": "[encoded data removed]",
      "text/plain": [
       "<Figure size 576x432 with 2 Axes>"
      ]
     },
     "metadata": {
      "needs_background": "light"
     },
     "output_type": "display_data"
    }
   ],
   "source": [
    "#plot the missingness matrix\n",
    "msno.matrix(data, figsize=(8,6))\n",
    "plt.show()"
   ]
  },
  {
   "cell_type": "markdown",
   "id": "3dc5864d",
   "metadata": {
    "papermill": {
     "duration": 0.088138,
     "end_time": "2022-03-21T18:05:59.896163",
     "exception": false,
     "start_time": "2022-03-21T18:05:59.808025",
     "status": "completed"
    },
    "tags": []
   },
   "source": [
    "### Identifying missingness type by Identifying relationship between missing values and observed value\n",
    "Looking at the missingness matrix above the missing values do not follow any pattern, they are **missing completely at random(MCAR)**, I will sort the data to uncover some relationship between missingness type.\n",
    "\n",
    "After sorting the data by all the columns, I found that sorting by the CashbackAmount columns creates a pattern between the missing values and the CashbackAmount columns, which identifies the missingness as **missing at random(MAR)**"
   ]
  },
  {
   "cell_type": "code",
   "execution_count": 28,
   "id": "ac25af6c",
   "metadata": {
    "execution": {
     "iopub.execute_input": "2022-03-21T18:06:00.076422Z",
     "iopub.status.busy": "2022-03-21T18:06:00.075903Z",
     "iopub.status.idle": "2022-03-21T18:06:00.481760Z",
     "shell.execute_reply": "2022-03-21T18:06:00.482285Z",
     "shell.execute_reply.started": "2022-03-18T16:33:27.502974Z"
    },
    "papermill": {
     "duration": 0.498187,
     "end_time": "2022-03-21T18:06:00.482555",
     "exception": false,
     "start_time": "2022-03-21T18:05:59.984368",
     "status": "completed"
    },
    "tags": []
   },
   "outputs": [
    {
     "data": {
      "image/png": "[encoded data removed]",
      "text/plain": [
       "<Figure size 576x432 with 2 Axes>"
      ]
     },
     "metadata": {
      "needs_background": "light"
     },
     "output_type": "display_data"
    }
   ],
   "source": [
    "#plot the missingness matrix of sorted data\n",
    "msno.matrix(data.sort_values(by='CashbackAmount'), figsize=(8,6))\n",
    "plt.show()"
   ]
  },
  {
   "cell_type": "markdown",
   "id": "63c293a7",
   "metadata": {
    "papermill": {
     "duration": 0.090016,
     "end_time": "2022-03-21T18:06:00.664674",
     "exception": false,
     "start_time": "2022-03-21T18:06:00.574658",
     "status": "completed"
    },
    "tags": []
   },
   "source": [
    "### Identifying relationships between missing values in columns"
   ]
  },
  {
   "cell_type": "code",
   "execution_count": 29,
   "id": "72a81206",
   "metadata": {
    "execution": {
     "iopub.execute_input": "2022-03-21T18:06:00.847238Z",
     "iopub.status.busy": "2022-03-21T18:06:00.846721Z",
     "iopub.status.idle": "2022-03-21T18:06:01.187330Z",
     "shell.execute_reply": "2022-03-21T18:06:01.187776Z",
     "shell.execute_reply.started": "2022-03-18T16:33:27.989157Z"
    },
    "papermill": {
     "duration": 0.433679,
     "end_time": "2022-03-21T18:06:01.187907",
     "exception": false,
     "start_time": "2022-03-21T18:06:00.754228",
     "status": "completed"
    },
    "tags": []
   },
   "outputs": [
    {
     "data": {
      "image/png": "[encoded data removed]",
      "text/plain": [
       "<Figure size 576x432 with 2 Axes>"
      ]
     },
     "metadata": {
      "needs_background": "light"
     },
     "output_type": "display_data"
    }
   ],
   "source": [
    "#plot heatmap of missing values\n",
    "msno.heatmap(data,figsize=(8,6))\n",
    "plt.show()"
   ]
  },
  {
   "cell_type": "markdown",
   "id": "14b901f1",
   "metadata": {
    "papermill": {
     "duration": 0.092485,
     "end_time": "2022-03-21T18:06:01.372449",
     "exception": false,
     "start_time": "2022-03-21T18:06:01.279964",
     "status": "completed"
    },
    "tags": []
   },
   "source": [
    "### Handling the missing values\n",
    "Since the missingness is **MAR**, and the missing values are much, I will impute the missing values instead of dropping the missing value rows or columns.\n",
    "\n",
    "For imputing the missing values, I will use the fancyimpute library, and use the IterativeImputer class to impute the missing values. The imputation will be done in a pipeline in the model selection section"
   ]
  },
  {
   "cell_type": "markdown",
   "id": "cd1d6775",
   "metadata": {
    "papermill": {
     "duration": 0.091662,
     "end_time": "2022-03-21T18:06:01.556193",
     "exception": false,
     "start_time": "2022-03-21T18:06:01.464531",
     "status": "completed"
    },
    "tags": []
   },
   "source": [
    "<a id=\"subsection-two\"></a>\n",
    "## Categorical Encoding\n",
    "Here I will encode the categorical variables as numeric variables, since machine learning algorithms work on numbers and not text. I will use the pandas get_dummies function which applies one-hot encoding to all the variables passed to it."
   ]
  },
  {
   "cell_type": "code",
   "execution_count": 30,
   "id": "fc0aed08",
   "metadata": {
    "execution": {
     "iopub.execute_input": "2022-03-21T18:06:01.748059Z",
     "iopub.status.busy": "2022-03-21T18:06:01.747552Z",
     "iopub.status.idle": "2022-03-21T18:06:01.760744Z",
     "shell.execute_reply": "2022-03-21T18:06:01.761120Z",
     "shell.execute_reply.started": "2022-03-18T16:33:28.38794Z"
    },
    "papermill": {
     "duration": 0.110535,
     "end_time": "2022-03-21T18:06:01.761254",
     "exception": false,
     "start_time": "2022-03-21T18:06:01.650719",
     "status": "completed"
    },
    "tags": []
   },
   "outputs": [
    {
     "data": {
      "text/html": [
       "<div>\n",
       "<style scoped>\n",
       "    .dataframe tbody tr th:only-of-type {\n",
       "        vertical-align: middle;\n",
       "    }\n",
       "\n",
       "    .dataframe tbody tr th {\n",
       "        vertical-align: top;\n",
       "    }\n",
       "\n",
       "    .dataframe thead th {\n",
       "        text-align: right;\n",
       "    }\n",
       "</style>\n",
       "<table border=\"1\" class=\"dataframe\">\n",
       "  <thead>\n",
       "    <tr style=\"text-align: right;\">\n",
       "      <th></th>\n",
       "      <th>PreferredLoginDevice</th>\n",
       "      <th>PreferredPaymentMode</th>\n",
       "      <th>Gender</th>\n",
       "      <th>PreferedOrderCat</th>\n",
       "      <th>MaritalStatus</th>\n",
       "    </tr>\n",
       "  </thead>\n",
       "  <tbody>\n",
       "    <tr>\n",
       "      <th>0</th>\n",
       "      <td>Mobile Phone</td>\n",
       "      <td>Debit Card</td>\n",
       "      <td>Female</td>\n",
       "      <td>Laptop &amp; Accessory</td>\n",
       "      <td>Single</td>\n",
       "    </tr>\n",
       "    <tr>\n",
       "      <th>1</th>\n",
       "      <td>Phone</td>\n",
       "      <td>UPI</td>\n",
       "      <td>Male</td>\n",
       "      <td>Mobile</td>\n",
       "      <td>Single</td>\n",
       "    </tr>\n",
       "    <tr>\n",
       "      <th>2</th>\n",
       "      <td>Phone</td>\n",
       "      <td>Debit Card</td>\n",
       "      <td>Male</td>\n",
       "      <td>Mobile</td>\n",
       "      <td>Single</td>\n",
       "    </tr>\n",
       "    <tr>\n",
       "      <th>3</th>\n",
       "      <td>Phone</td>\n",
       "      <td>Debit Card</td>\n",
       "      <td>Male</td>\n",
       "      <td>Laptop &amp; Accessory</td>\n",
       "      <td>Single</td>\n",
       "    </tr>\n",
       "    <tr>\n",
       "      <th>4</th>\n",
       "      <td>Phone</td>\n",
       "      <td>CC</td>\n",
       "      <td>Male</td>\n",
       "      <td>Mobile</td>\n",
       "      <td>Single</td>\n",
       "    </tr>\n",
       "    <tr>\n",
       "      <th>...</th>\n",
       "      <td>...</td>\n",
       "      <td>...</td>\n",
       "      <td>...</td>\n",
       "      <td>...</td>\n",
       "      <td>...</td>\n",
       "    </tr>\n",
       "    <tr>\n",
       "      <th>5625</th>\n",
       "      <td>Computer</td>\n",
       "      <td>Credit Card</td>\n",
       "      <td>Male</td>\n",
       "      <td>Laptop &amp; Accessory</td>\n",
       "      <td>Married</td>\n",
       "    </tr>\n",
       "    <tr>\n",
       "      <th>5626</th>\n",
       "      <td>Mobile Phone</td>\n",
       "      <td>Credit Card</td>\n",
       "      <td>Male</td>\n",
       "      <td>Fashion</td>\n",
       "      <td>Married</td>\n",
       "    </tr>\n",
       "    <tr>\n",
       "      <th>5627</th>\n",
       "      <td>Mobile Phone</td>\n",
       "      <td>Debit Card</td>\n",
       "      <td>Male</td>\n",
       "      <td>Laptop &amp; Accessory</td>\n",
       "      <td>Married</td>\n",
       "    </tr>\n",
       "    <tr>\n",
       "      <th>5628</th>\n",
       "      <td>Computer</td>\n",
       "      <td>Credit Card</td>\n",
       "      <td>Male</td>\n",
       "      <td>Laptop &amp; Accessory</td>\n",
       "      <td>Married</td>\n",
       "    </tr>\n",
       "    <tr>\n",
       "      <th>5629</th>\n",
       "      <td>Mobile Phone</td>\n",
       "      <td>Credit Card</td>\n",
       "      <td>Male</td>\n",
       "      <td>Laptop &amp; Accessory</td>\n",
       "      <td>Married</td>\n",
       "    </tr>\n",
       "  </tbody>\n",
       "</table>\n",
       "<p>5630 rows × 5 columns</p>\n",
       "</div>"
      ],
      "text/plain": [
       "     PreferredLoginDevice PreferredPaymentMode  Gender    PreferedOrderCat  \\\n",
       "0            Mobile Phone           Debit Card  Female  Laptop & Accessory   \n",
       "1                   Phone                  UPI    Male              Mobile   \n",
       "2                   Phone           Debit Card    Male              Mobile   \n",
       "3                   Phone           Debit Card    Male  Laptop & Accessory   \n",
       "4                   Phone                   CC    Male              Mobile   \n",
       "...                   ...                  ...     ...                 ...   \n",
       "5625             Computer          Credit Card    Male  Laptop & Accessory   \n",
       "5626         Mobile Phone          Credit Card    Male             Fashion   \n",
       "5627         Mobile Phone           Debit Card    Male  Laptop & Accessory   \n",
       "5628             Computer          Credit Card    Male  Laptop & Accessory   \n",
       "5629         Mobile Phone          Credit Card    Male  Laptop & Accessory   \n",
       "\n",
       "     MaritalStatus  \n",
       "0           Single  \n",
       "1           Single  \n",
       "2           Single  \n",
       "3           Single  \n",
       "4           Single  \n",
       "...            ...  \n",
       "5625       Married  \n",
       "5626       Married  \n",
       "5627       Married  \n",
       "5628       Married  \n",
       "5629       Married  \n",
       "\n",
       "[5630 rows x 5 columns]"
      ]
     },
     "execution_count": 30,
     "metadata": {},
     "output_type": "execute_result"
    }
   ],
   "source": [
    "cat_data = data.select_dtypes(include='object')\n",
    "cat_data"
   ]
  },
  {
   "cell_type": "code",
   "execution_count": 31,
   "id": "f386e7cc",
   "metadata": {
    "execution": {
     "iopub.execute_input": "2022-03-21T18:06:01.947606Z",
     "iopub.status.busy": "2022-03-21T18:06:01.947119Z",
     "iopub.status.idle": "2022-03-21T18:06:01.965324Z",
     "shell.execute_reply": "2022-03-21T18:06:01.965702Z",
     "shell.execute_reply.started": "2022-03-18T16:33:28.409295Z"
    },
    "papermill": {
     "duration": 0.112495,
     "end_time": "2022-03-21T18:06:01.965838",
     "exception": false,
     "start_time": "2022-03-21T18:06:01.853343",
     "status": "completed"
    },
    "tags": []
   },
   "outputs": [],
   "source": [
    "#encode categorical variables and add it to the normal dataset\n",
    "encoded = pd.get_dummies(cat_data,drop_first=True)\n",
    "\n",
    "data_enc = pd.concat([data.drop(cat_data.columns, axis=1), encoded], axis=1)\n",
    "data_enc.drop('CustomerID', axis=1,inplace=True)"
   ]
  },
  {
   "cell_type": "markdown",
   "id": "15f93167",
   "metadata": {
    "papermill": {
     "duration": 0.091148,
     "end_time": "2022-03-21T18:06:02.148493",
     "exception": false,
     "start_time": "2022-03-21T18:06:02.057345",
     "status": "completed"
    },
    "tags": []
   },
   "source": [
    "<a id=\"section-three\"></a>\n",
    "# Model Development\n",
    "* Firstly I will split the data into training and testing samples.\n",
    "* I will make pipelines which will include all the preprocessing steps and the classifier.\n",
    "* I will use **4 Classifiers; 2 linear classifiers, 2 tree classifiers** to build the model.\n",
    "* I will perform cross validation on the training samples, and use prediction of the testing sample to compare the models, and select the best model for **hyperparameter tuning**."
   ]
  },
  {
   "cell_type": "code",
   "execution_count": 32,
   "id": "8150c60a",
   "metadata": {
    "execution": {
     "iopub.execute_input": "2022-03-21T18:06:02.336473Z",
     "iopub.status.busy": "2022-03-21T18:06:02.335961Z",
     "iopub.status.idle": "2022-03-21T18:06:02.347998Z",
     "shell.execute_reply": "2022-03-21T18:06:02.348365Z",
     "shell.execute_reply.started": "2022-03-18T16:33:28.437379Z"
    },
    "papermill": {
     "duration": 0.1068,
     "end_time": "2022-03-21T18:06:02.348525",
     "exception": false,
     "start_time": "2022-03-21T18:06:02.241725",
     "status": "completed"
    },
    "tags": []
   },
   "outputs": [],
   "source": [
    "#selecting features and target variable, and splitting the data\n",
    "X=data_enc.drop(['Churn'],axis=1)\n",
    "y=data_enc['Churn']\n",
    "X_train, X_test, y_train, y_test=train_test_split(X, y, test_size=0.2, stratify=y, random_state=0)\n",
    "\n",
    "#cross validation\n",
    "skfcv=StratifiedKFold(n_splits=5)"
   ]
  },
  {
   "cell_type": "markdown",
   "id": "a3dbc06f",
   "metadata": {
    "papermill": {
     "duration": 0.091715,
     "end_time": "2022-03-21T18:06:02.531584",
     "exception": false,
     "start_time": "2022-03-21T18:06:02.439869",
     "status": "completed"
    },
    "tags": []
   },
   "source": [
    "### Logistic Regression"
   ]
  },
  {
   "cell_type": "code",
   "execution_count": 33,
   "id": "7f22e004",
   "metadata": {
    "execution": {
     "iopub.execute_input": "2022-03-21T18:06:02.757174Z",
     "iopub.status.busy": "2022-03-21T18:06:02.756317Z",
     "iopub.status.idle": "2022-03-21T18:06:07.679740Z",
     "shell.execute_reply": "2022-03-21T18:06:07.680720Z",
     "shell.execute_reply.started": "2022-03-18T16:33:28.455565Z"
    },
    "papermill": {
     "duration": 5.052114,
     "end_time": "2022-03-21T18:06:07.680932",
     "exception": false,
     "start_time": "2022-03-21T18:06:02.628818",
     "status": "completed"
    },
    "tags": []
   },
   "outputs": [
    {
     "name": "stdout",
     "output_type": "stream",
     "text": [
      "Cross validation score for Logistic Regression: 0.6316720359392626\n"
     ]
    }
   ],
   "source": [
    "#Build logistic regression pipeline\n",
    "log_pipe = Pipeline([('imputer',IterativeImputer(random_state=0)),('scaler',StandardScaler()),\n",
    "                    ('logreg',LogisticRegression())])\n",
    "\n",
    "#cross validate logistic regression model\n",
    "print(f\"Cross validation score for Logistic Regression: {np.mean(cross_val_score(log_pipe, X_train, y_train, cv=skfcv, scoring='f1'))}\")"
   ]
  },
  {
   "cell_type": "code",
   "execution_count": 34,
   "id": "2481a716",
   "metadata": {
    "execution": {
     "iopub.execute_input": "2022-03-21T18:06:08.038891Z",
     "iopub.status.busy": "2022-03-21T18:06:08.038208Z",
     "iopub.status.idle": "2022-03-21T18:06:09.971195Z",
     "shell.execute_reply": "2022-03-21T18:06:09.970638Z",
     "shell.execute_reply.started": "2022-03-18T16:33:37.129482Z"
    },
    "papermill": {
     "duration": 2.093737,
     "end_time": "2022-03-21T18:06:09.971343",
     "exception": false,
     "start_time": "2022-03-21T18:06:07.877606",
     "status": "completed"
    },
    "tags": []
   },
   "outputs": [
    {
     "name": "stdout",
     "output_type": "stream",
     "text": [
      "Test score for Logistic Regression: 0.6409495548961425\n",
      "Training score for Logistic Regression: 0.6497305619707466\n"
     ]
    },
    {
     "data": {
      "image/png": "[encoded data removed]",
      "text/plain": [
       "<Figure size 432x288 with 2 Axes>"
      ]
     },
     "metadata": {
      "needs_background": "light"
     },
     "output_type": "display_data"
    }
   ],
   "source": [
    "#use logistic regression pipeline to predict test sample\n",
    "log_pipe.fit(X_train,y_train)\n",
    "print(f\"Test score for Logistic Regression: {f1_score(y_test, log_pipe.predict(X_test))}\")\n",
    "print(f\"Training score for Logistic Regression: {f1_score(y_train, log_pipe.predict(X_train))}\")\n",
    "log_mat = confusion_matrix(y_test, log_pipe.predict(X_test))\n",
    "sns.heatmap(log_mat, annot=True,fmt=\"g\")\n",
    "plt.show()"
   ]
  },
  {
   "cell_type": "markdown",
   "id": "f90c0351",
   "metadata": {
    "papermill": {
     "duration": 0.137116,
     "end_time": "2022-03-21T18:06:10.244034",
     "exception": false,
     "start_time": "2022-03-21T18:06:10.106918",
     "status": "completed"
    },
    "tags": []
   },
   "source": [
    "### Linear Discriminant Analysis"
   ]
  },
  {
   "cell_type": "code",
   "execution_count": 35,
   "id": "eb14eafa",
   "metadata": {
    "execution": {
     "iopub.execute_input": "2022-03-21T18:06:10.518875Z",
     "iopub.status.busy": "2022-03-21T18:06:10.518262Z",
     "iopub.status.idle": "2022-03-21T18:06:15.894866Z",
     "shell.execute_reply": "2022-03-21T18:06:15.893957Z",
     "shell.execute_reply.started": "2022-03-18T16:33:39.45728Z"
    },
    "papermill": {
     "duration": 5.515624,
     "end_time": "2022-03-21T18:06:15.895029",
     "exception": false,
     "start_time": "2022-03-21T18:06:10.379405",
     "status": "completed"
    },
    "tags": []
   },
   "outputs": [
    {
     "name": "stdout",
     "output_type": "stream",
     "text": [
      "Cross validation score for LinearDiscriminantAnalysis: 0.5911106748453845\n"
     ]
    }
   ],
   "source": [
    "#Build LinearDiscriminantAnalysis pipeline\n",
    "lda_pipe = Pipeline([('imputer',IterativeImputer(random_state=0)),('scaler',StandardScaler()),\n",
    "                    ('lda',LinearDiscriminantAnalysis())])\n",
    "\n",
    "#cross validate LinearDiscriminantAnalysis model\n",
    "print(f\"Cross validation score for LinearDiscriminantAnalysis: {np.mean(cross_val_score(lda_pipe, X_train, y_train, cv=skfcv, scoring='f1'))}\")"
   ]
  },
  {
   "cell_type": "code",
   "execution_count": 36,
   "id": "165615c3",
   "metadata": {
    "execution": {
     "iopub.execute_input": "2022-03-21T18:06:16.225852Z",
     "iopub.status.busy": "2022-03-21T18:06:16.225028Z",
     "iopub.status.idle": "2022-03-21T18:06:17.881686Z",
     "shell.execute_reply": "2022-03-21T18:06:17.882179Z",
     "shell.execute_reply.started": "2022-03-18T16:33:46.823624Z"
    },
    "papermill": {
     "duration": 1.798785,
     "end_time": "2022-03-21T18:06:17.882358",
     "exception": false,
     "start_time": "2022-03-21T18:06:16.083573",
     "status": "completed"
    },
    "tags": []
   },
   "outputs": [
    {
     "name": "stdout",
     "output_type": "stream",
     "text": [
      "Test score for LinearDiscriminantAnalysis: 0.6358024691358025\n",
      "Training score for LinearDiscriminantAnalysis: 0.6093874303898169\n"
     ]
    },
    {
     "data": {
      "image/png": "[encoded data removed]",
      "text/plain": [
       "<Figure size 432x288 with 2 Axes>"
      ]
     },
     "metadata": {
      "needs_background": "light"
     },
     "output_type": "display_data"
    }
   ],
   "source": [
    "#use LinearDiscriminantAnalysis pipeline to predict test sample\n",
    "lda_pipe.fit(X_train,y_train)\n",
    "print(f\"Test score for LinearDiscriminantAnalysis: {f1_score(y_test, lda_pipe.predict(X_test))}\")\n",
    "print(f\"Training score for LinearDiscriminantAnalysis: {f1_score(y_train, lda_pipe.predict(X_train))}\")\n",
    "lda_mat = confusion_matrix(y_test, lda_pipe.predict(X_test))\n",
    "sns.heatmap(lda_mat, annot=True,fmt=\"g\")\n",
    "plt.show()"
   ]
  },
  {
   "cell_type": "markdown",
   "id": "b433e4b1",
   "metadata": {
    "papermill": {
     "duration": 0.13941,
     "end_time": "2022-03-21T18:06:18.161304",
     "exception": false,
     "start_time": "2022-03-21T18:06:18.021894",
     "status": "completed"
    },
    "tags": []
   },
   "source": [
    "### Random Forest"
   ]
  },
  {
   "cell_type": "code",
   "execution_count": 37,
   "id": "de4626b1",
   "metadata": {
    "execution": {
     "iopub.execute_input": "2022-03-21T18:06:18.441156Z",
     "iopub.status.busy": "2022-03-21T18:06:18.440318Z",
     "iopub.status.idle": "2022-03-21T18:06:27.644592Z",
     "shell.execute_reply": "2022-03-21T18:06:27.645217Z",
     "shell.execute_reply.started": "2022-03-18T16:33:48.908431Z"
    },
    "papermill": {
     "duration": 9.345978,
     "end_time": "2022-03-21T18:06:27.645387",
     "exception": false,
     "start_time": "2022-03-21T18:06:18.299409",
     "status": "completed"
    },
    "tags": []
   },
   "outputs": [
    {
     "name": "stdout",
     "output_type": "stream",
     "text": [
      "Cross validation score for Random Forest: 0.8556901550764285\n"
     ]
    }
   ],
   "source": [
    "#Build Random Forest pipeline\n",
    "rf_pipe = Pipeline([('imputer',IterativeImputer(random_state=0)),('scaler',StandardScaler()),\n",
    "                    ('rfmodel',RandomForestClassifier())])\n",
    "\n",
    "#cross validate Random Forest model\n",
    "print(f\"Cross validation score for Random Forest: {np.mean(cross_val_score(rf_pipe, X_train, y_train, cv=skfcv, scoring='f1'))}\")"
   ]
  },
  {
   "cell_type": "code",
   "execution_count": 38,
   "id": "40bfb546",
   "metadata": {
    "execution": {
     "iopub.execute_input": "2022-03-21T18:06:27.929914Z",
     "iopub.status.busy": "2022-03-21T18:06:27.929242Z",
     "iopub.status.idle": "2022-03-21T18:06:30.344430Z",
     "shell.execute_reply": "2022-03-21T18:06:30.343859Z",
     "shell.execute_reply.started": "2022-03-18T16:34:00.087782Z"
    },
    "papermill": {
     "duration": 2.559205,
     "end_time": "2022-03-21T18:06:30.344592",
     "exception": false,
     "start_time": "2022-03-21T18:06:27.785387",
     "status": "completed"
    },
    "tags": []
   },
   "outputs": [
    {
     "name": "stdout",
     "output_type": "stream",
     "text": [
      "Test score for Random Forest: 0.901098901098901\n",
      "Training score for Random Forest: 1.0\n"
     ]
    },
    {
     "data": {
      "image/png": "[encoded data removed]",
      "text/plain": [
       "<Figure size 432x288 with 2 Axes>"
      ]
     },
     "metadata": {
      "needs_background": "light"
     },
     "output_type": "display_data"
    }
   ],
   "source": [
    "#use Random Forest pipeline to predict test and train sample\n",
    "rf_pipe.fit(X_train,y_train)\n",
    "print(f\"Test score for Random Forest: {f1_score(y_test, rf_pipe.predict(X_test))}\")\n",
    "print(f\"Training score for Random Forest: {f1_score(y_train, rf_pipe.predict(X_train))}\")\n",
    "rf_mat = confusion_matrix(y_test, rf_pipe.predict(X_test))\n",
    "sns.heatmap(rf_mat, annot=True,fmt=\"g\")\n",
    "plt.show()"
   ]
  },
  {
   "cell_type": "markdown",
   "id": "ea95790a",
   "metadata": {
    "papermill": {
     "duration": 0.140874,
     "end_time": "2022-03-21T18:06:30.626864",
     "exception": false,
     "start_time": "2022-03-21T18:06:30.485990",
     "status": "completed"
    },
    "tags": []
   },
   "source": [
    "### XGBoost"
   ]
  },
  {
   "cell_type": "code",
   "execution_count": 39,
   "id": "eb97155d",
   "metadata": {
    "execution": {
     "iopub.execute_input": "2022-03-21T18:06:30.911425Z",
     "iopub.status.busy": "2022-03-21T18:06:30.910749Z",
     "iopub.status.idle": "2022-03-21T18:06:40.201739Z",
     "shell.execute_reply": "2022-03-21T18:06:40.202290Z",
     "shell.execute_reply.started": "2022-03-18T16:34:02.918428Z"
    },
    "papermill": {
     "duration": 9.434989,
     "end_time": "2022-03-21T18:06:40.202460",
     "exception": false,
     "start_time": "2022-03-21T18:06:30.767471",
     "status": "completed"
    },
    "tags": []
   },
   "outputs": [
    {
     "name": "stdout",
     "output_type": "stream",
     "text": [
      "Cross validation score for XGBoost: 0.8860940695783341\n"
     ]
    }
   ],
   "source": [
    "#Build XGBoost pipeline\n",
    "xgb_pipe = Pipeline([('imputer',IterativeImputer(random_state=0)),('scaler',StandardScaler()),\n",
    "                    ('xgb',XGBClassifier(verbosity=0,use_label_encoder=False))])\n",
    "\n",
    "#cross validate XGBoost model\n",
    "print(f\"Cross validation score for XGBoost: {np.mean(cross_val_score(xgb_pipe, X_train, y_train, cv=skfcv, scoring='f1'))}\")"
   ]
  },
  {
   "cell_type": "code",
   "execution_count": 40,
   "id": "cdfbac0f",
   "metadata": {
    "execution": {
     "iopub.execute_input": "2022-03-21T18:06:40.494077Z",
     "iopub.status.busy": "2022-03-21T18:06:40.493287Z",
     "iopub.status.idle": "2022-03-21T18:06:43.035628Z",
     "shell.execute_reply": "2022-03-21T18:06:43.035203Z",
     "shell.execute_reply.started": "2022-03-18T16:34:14.532456Z"
    },
    "papermill": {
     "duration": 2.689965,
     "end_time": "2022-03-21T18:06:43.035740",
     "exception": false,
     "start_time": "2022-03-21T18:06:40.345775",
     "status": "completed"
    },
    "tags": []
   },
   "outputs": [
    {
     "name": "stdout",
     "output_type": "stream",
     "text": [
      "Test score for XGBoost: 0.9259259259259259\n",
      "Training score for XGBoost: 1.0\n"
     ]
    },
    {
     "data": {
      "image/png": "[encoded data removed]",
      "text/plain": [
       "<Figure size 432x288 with 2 Axes>"
      ]
     },
     "metadata": {
      "needs_background": "light"
     },
     "output_type": "display_data"
    }
   ],
   "source": [
    "#use XGBoost pipeline to predict test and train sample\n",
    "xgb_pipe.fit(X_train,y_train)\n",
    "print(f\"Test score for XGBoost: {f1_score(y_test, xgb_pipe.predict(X_test))}\")\n",
    "print(f\"Training score for XGBoost: {f1_score(y_train, xgb_pipe.predict(X_train))}\")\n",
    "xgb_mat = confusion_matrix(y_test, xgb_pipe.predict(X_test))\n",
    "sns.heatmap(xgb_mat, annot=True, fmt=\"g\")\n",
    "plt.show()"
   ]
  },
  {
   "cell_type": "markdown",
   "id": "e7ac6238",
   "metadata": {
    "papermill": {
     "duration": 0.097994,
     "end_time": "2022-03-21T18:06:43.239982",
     "exception": false,
     "start_time": "2022-03-21T18:06:43.141988",
     "status": "completed"
    },
    "tags": []
   },
   "source": [
    "## Hyperparameter Tuning\n",
    "The tree models performed better than the linear models, although we can see that the tree models overtitted as their training f1-score is higher than their testing f1-score.\n",
    "\n",
    "So I will tune the hyperparameters to reduce overfitting and improve test performance.\n",
    "\n",
    "I will use BayesSearchCV from the scikit-optimize library for tuning the hyperparameters"
   ]
  },
  {
   "cell_type": "code",
   "execution_count": 41,
   "id": "566ea448",
   "metadata": {
    "execution": {
     "iopub.execute_input": "2022-03-21T18:06:43.435288Z",
     "iopub.status.busy": "2022-03-21T18:06:43.434673Z",
     "iopub.status.idle": "2022-03-21T18:06:43.439196Z",
     "shell.execute_reply": "2022-03-21T18:06:43.439700Z",
     "shell.execute_reply.started": "2022-03-18T16:34:17.097791Z"
    },
    "papermill": {
     "duration": 0.104268,
     "end_time": "2022-03-21T18:06:43.439837",
     "exception": false,
     "start_time": "2022-03-21T18:06:43.335569",
     "status": "completed"
    },
    "tags": []
   },
   "outputs": [],
   "source": [
    "#create hyperparameter search space\n",
    "space={'xgb__eta': (0.01,0.3),\n",
    "       'xgb__max_depth': (5,11),\n",
    "      'xgb__subsample': (0.4,1),\n",
    "      'xgb__n_estimators': (100,250),\n",
    "      'xgb__gamma':(0,5),\n",
    "      'xgb__colsample_bytree':(0.4,1),\n",
    "      'xgb__min_child_weight': (0.3,1)}"
   ]
  },
  {
   "cell_type": "code",
   "execution_count": 42,
   "id": "cef6b205",
   "metadata": {
    "execution": {
     "iopub.execute_input": "2022-03-21T18:06:43.635383Z",
     "iopub.status.busy": "2022-03-21T18:06:43.634690Z",
     "iopub.status.idle": "2022-03-21T18:06:43.644912Z",
     "shell.execute_reply": "2022-03-21T18:06:43.645303Z",
     "shell.execute_reply.started": "2022-03-18T16:34:17.104891Z"
    },
    "papermill": {
     "duration": 0.10961,
     "end_time": "2022-03-21T18:06:43.645456",
     "exception": false,
     "start_time": "2022-03-21T18:06:43.535846",
     "status": "completed"
    },
    "tags": []
   },
   "outputs": [],
   "source": [
    "#create BayesSearchCV object\n",
    "search=BayesSearchCV(xgb_pipe,search_spaces=space,n_jobs=-1,cv=skfcv, scoring='f1')"
   ]
  },
  {
   "cell_type": "code",
   "execution_count": 43,
   "id": "86590bf4",
   "metadata": {
    "execution": {
     "iopub.execute_input": "2022-03-21T18:06:43.840259Z",
     "iopub.status.busy": "2022-03-21T18:06:43.839646Z",
     "iopub.status.idle": "2022-03-21T21:34:59.562914Z",
     "shell.execute_reply": "2022-03-21T21:34:59.563483Z"
    },
    "papermill": {
     "duration": 12495.822742,
     "end_time": "2022-03-21T21:34:59.563769",
     "exception": false,
     "start_time": "2022-03-21T18:06:43.741027",
     "status": "completed"
    },
    "tags": []
   },
   "outputs": [
    {
     "data": {
      "text/plain": [
       "BayesSearchCV(cv=StratifiedKFold(n_splits=5, random_state=None, shuffle=False),\n",
       "              estimator=Pipeline(steps=[('imputer',\n",
       "                                         IterativeImputer(random_state=0)),\n",
       "                                        ('scaler', StandardScaler()),\n",
       "                                        ('xgb',\n",
       "                                         XGBClassifier(base_score=0.5,\n",
       "                                                       booster='gbtree',\n",
       "                                                       colsample_bylevel=1,\n",
       "                                                       colsample_bynode=1,\n",
       "                                                       colsample_bytree=1,\n",
       "                                                       enable_categorical=False,\n",
       "                                                       gamma=0, gpu_id=-1,\n",
       "                                                       importance_type=None...\n",
       "                                                       reg_alpha=0,\n",
       "                                                       reg_lambda=1,\n",
       "                                                       scale_pos_weight=1,\n",
       "                                                       subsample=1,\n",
       "                                                       tree_method='exact',\n",
       "                                                       use_label_encoder=False,\n",
       "                                                       validate_parameters=1,\n",
       "                                                       verbosity=0))]),\n",
       "              n_jobs=-1, scoring='f1',\n",
       "              search_spaces={'xgb__colsample_bytree': (0.4, 1),\n",
       "                             'xgb__eta': (0.01, 0.3), 'xgb__gamma': (0, 5),\n",
       "                             'xgb__max_depth': (5, 11),\n",
       "                             'xgb__min_child_weight': (0.3, 1),\n",
       "                             'xgb__n_estimators': (100, 250),\n",
       "                             'xgb__subsample': (0.4, 1)})"
      ]
     },
     "execution_count": 43,
     "metadata": {},
     "output_type": "execute_result"
    }
   ],
   "source": [
    "#fit the object to the data\n",
    "search.fit(X_train, y_train)"
   ]
  },
  {
   "cell_type": "code",
   "execution_count": 44,
   "id": "4dc5919f",
   "metadata": {
    "execution": {
     "iopub.execute_input": "2022-03-21T21:34:59.859615Z",
     "iopub.status.busy": "2022-03-21T21:34:59.858313Z",
     "iopub.status.idle": "2022-03-21T21:34:59.861748Z",
     "shell.execute_reply": "2022-03-21T21:34:59.862296Z"
    },
    "papermill": {
     "duration": 0.154552,
     "end_time": "2022-03-21T21:34:59.862478",
     "exception": false,
     "start_time": "2022-03-21T21:34:59.707926",
     "status": "completed"
    },
    "tags": []
   },
   "outputs": [
    {
     "name": "stdout",
     "output_type": "stream",
     "text": [
      "0.8999095477911796\n",
      "OrderedDict([('xgb__colsample_bytree', 0.840917240024576), ('xgb__eta', 0.01), ('xgb__gamma', 0), ('xgb__max_depth', 11), ('xgb__min_child_weight', 0.3), ('xgb__n_estimators', 250), ('xgb__subsample', 1.0)])\n"
     ]
    }
   ],
   "source": [
    "#print the best cv score and the best parameters\n",
    "print(search.best_score_)\n",
    "print(search.best_params_)"
   ]
  },
  {
   "cell_type": "code",
   "execution_count": 45,
   "id": "0ded7363",
   "metadata": {
    "execution": {
     "iopub.execute_input": "2022-03-21T21:35:00.159633Z",
     "iopub.status.busy": "2022-03-21T21:35:00.158752Z",
     "iopub.status.idle": "2022-03-21T21:35:00.359833Z",
     "shell.execute_reply": "2022-03-21T21:35:00.359303Z"
    },
    "papermill": {
     "duration": 0.354137,
     "end_time": "2022-03-21T21:35:00.359989",
     "exception": false,
     "start_time": "2022-03-21T21:35:00.005852",
     "status": "completed"
    },
    "tags": []
   },
   "outputs": [
    {
     "name": "stdout",
     "output_type": "stream",
     "text": [
      "0.9340369393139841\n"
     ]
    },
    {
     "data": {
      "image/png": "[encoded data removed]",
      "text/plain": [
       "<Figure size 432x288 with 2 Axes>"
      ]
     },
     "metadata": {
      "needs_background": "light"
     },
     "output_type": "display_data"
    }
   ],
   "source": [
    "#use the best model parameters to predict the test sample and print the results\n",
    "best_model=search.best_estimator_\n",
    "print(f1_score(y_test,best_model.predict(X_test)))\n",
    "sns.heatmap(confusion_matrix(y_test, best_model.predict(X_test)), annot=True, fmt=\"g\")\n",
    "plt.show()"
   ]
  },
  {
   "cell_type": "code",
   "execution_count": 46,
   "id": "f4b41ef2",
   "metadata": {
    "execution": {
     "iopub.execute_input": "2022-03-21T21:35:00.572923Z",
     "iopub.status.busy": "2022-03-21T21:35:00.572366Z",
     "iopub.status.idle": "2022-03-21T21:35:00.978621Z",
     "shell.execute_reply": "2022-03-21T21:35:00.978119Z"
    },
    "papermill": {
     "duration": 0.515133,
     "end_time": "2022-03-21T21:35:00.978735",
     "exception": false,
     "start_time": "2022-03-21T21:35:00.463602",
     "status": "completed"
    },
    "tags": []
   },
   "outputs": [
    {
     "data": {
      "image/png": "[encoded data removed]",
      "text/plain": [
       "<Figure size 720x576 with 1 Axes>"
      ]
     },
     "metadata": {
      "needs_background": "light"
     },
     "output_type": "display_data"
    }
   ],
   "source": [
    "feature_importance=pd.DataFrame(search.best_estimator_[2].feature_importances_, columns=['importance'])\n",
    "feature_importance['features'] = X_train.columns\n",
    "\n",
    "plt.figure(figsize=(10,8))\n",
    "sns.barplot(x='importance', y='features', data=feature_importance.sort_values(by='importance', ascending=False))\n",
    "plt.title('Feature importances')\n",
    "plt.show()"
   ]
  },
  {
   "cell_type": "markdown",
   "id": "3d4f9cbc",
   "metadata": {
    "papermill": {
     "duration": 0.105853,
     "end_time": "2022-03-21T21:35:01.188984",
     "exception": false,
     "start_time": "2022-03-21T21:35:01.083131",
     "status": "completed"
    },
    "tags": []
   },
   "source": [
    "<a id=\"section-four\"></a>\n",
    "# Conclusion\n",
    "After building the 4 models, the tree classifiers performed better than the linear classifiers, with XGBoost performing best with a test f1-score of **92.59%**. I then tuned the xgboost hyperparameters which resulted in a 1.2% increase in cross validation score, and a 1.1% increase in test score.\n",
    "\n",
    "The **true positive rate is 93.68%** which means we can correctly identify 93% of the customers that will leave.\n",
    "\n",
    "The **precision is also 93.68%** which means out of the predicted customers that will leave, 93% will actually leave\n",
    "\n",
    "From the models feature importance the top three features with impact on customer's churn probability are;\n",
    "* The Tenure of the customer.\n",
    "* Whether the customer has a complain on the service or not, as expected those with complains have higher churn rate than those without complain.\n",
    "* The order category of the customers, where those on the mobile category have higher churn rate than other categories.\n",
    "\n",
    "**These features importances were seen in the visualizations in the EDA section and were documented as findings.**\n",
    "\n",
    "**Thanks!!!**\n",
    "Pls Upvote and comment"
   ]
  }
 ],
 "metadata": {
  "kernelspec": {
   "display_name": "Python 3",
   "language": "python",
   "name": "python3"
  },
  "language_info": {
   "codemirror_mode": {
    "name": "ipython",
    "version": 3
   },
   "file_extension": ".py",
   "mimetype": "text/x-python",
   "name": "python",
   "nbconvert_exporter": "python",
   "pygments_lexer": "ipython3",
   "version": "3.10.7"
  },
  "papermill": {
   "default_parameters": {},
   "duration": 12604.000785,
   "end_time": "2022-03-21T21:35:02.757262",
   "environment_variables": {},
   "exception": null,
   "input_path": "__notebook__.ipynb",
   "output_path": "__notebook__.ipynb",
   "parameters": {},
   "start_time": "2022-03-21T18:04:58.756477",
   "version": "2.3.3"
  }
 },
 "nbformat": 4,
 "nbformat_minor": 5
}
