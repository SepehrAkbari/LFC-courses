{
 "cells": [
  {
   "cell_type": "code",
   "execution_count": 10,
   "id": "4169e40e",
   "metadata": {},
   "outputs": [],
   "source": [
    "import numpy as np\n",
    "import pandas as pd\n",
    "import matplotlib.pyplot as plt"
   ]
  },
  {
   "cell_type": "code",
   "execution_count": 12,
   "id": "9a2661df",
   "metadata": {},
   "outputs": [
    {
     "data": {
      "text/html": [
       "<div>\n",
       "<style scoped>\n",
       "    .dataframe tbody tr th:only-of-type {\n",
       "        vertical-align: middle;\n",
       "    }\n",
       "\n",
       "    .dataframe tbody tr th {\n",
       "        vertical-align: top;\n",
       "    }\n",
       "\n",
       "    .dataframe thead th {\n",
       "        text-align: right;\n",
       "    }\n",
       "</style>\n",
       "<table border=\"1\" class=\"dataframe\">\n",
       "  <thead>\n",
       "    <tr style=\"text-align: right;\">\n",
       "      <th></th>\n",
       "      <th>Species</th>\n",
       "      <th>Weight</th>\n",
       "      <th>Length1</th>\n",
       "      <th>Length2</th>\n",
       "      <th>Length3</th>\n",
       "      <th>Height</th>\n",
       "      <th>Width</th>\n",
       "    </tr>\n",
       "  </thead>\n",
       "  <tbody>\n",
       "    <tr>\n",
       "      <th>0</th>\n",
       "      <td>Bream</td>\n",
       "      <td>242.0</td>\n",
       "      <td>23.2</td>\n",
       "      <td>25.4</td>\n",
       "      <td>30.0</td>\n",
       "      <td>11.5200</td>\n",
       "      <td>4.0200</td>\n",
       "    </tr>\n",
       "    <tr>\n",
       "      <th>1</th>\n",
       "      <td>Bream</td>\n",
       "      <td>290.0</td>\n",
       "      <td>24.0</td>\n",
       "      <td>26.3</td>\n",
       "      <td>31.2</td>\n",
       "      <td>12.4800</td>\n",
       "      <td>4.3056</td>\n",
       "    </tr>\n",
       "    <tr>\n",
       "      <th>2</th>\n",
       "      <td>Bream</td>\n",
       "      <td>340.0</td>\n",
       "      <td>23.9</td>\n",
       "      <td>26.5</td>\n",
       "      <td>31.1</td>\n",
       "      <td>12.3778</td>\n",
       "      <td>4.6961</td>\n",
       "    </tr>\n",
       "    <tr>\n",
       "      <th>3</th>\n",
       "      <td>Bream</td>\n",
       "      <td>363.0</td>\n",
       "      <td>26.3</td>\n",
       "      <td>29.0</td>\n",
       "      <td>33.5</td>\n",
       "      <td>12.7300</td>\n",
       "      <td>4.4555</td>\n",
       "    </tr>\n",
       "    <tr>\n",
       "      <th>4</th>\n",
       "      <td>Bream</td>\n",
       "      <td>430.0</td>\n",
       "      <td>26.5</td>\n",
       "      <td>29.0</td>\n",
       "      <td>34.0</td>\n",
       "      <td>12.4440</td>\n",
       "      <td>5.1340</td>\n",
       "    </tr>\n",
       "  </tbody>\n",
       "</table>\n",
       "</div>"
      ],
      "text/plain": [
       "  Species  Weight  Length1  Length2  Length3   Height   Width\n",
       "0   Bream   242.0     23.2     25.4     30.0  11.5200  4.0200\n",
       "1   Bream   290.0     24.0     26.3     31.2  12.4800  4.3056\n",
       "2   Bream   340.0     23.9     26.5     31.1  12.3778  4.6961\n",
       "3   Bream   363.0     26.3     29.0     33.5  12.7300  4.4555\n",
       "4   Bream   430.0     26.5     29.0     34.0  12.4440  5.1340"
      ]
     },
     "execution_count": 12,
     "metadata": {},
     "output_type": "execute_result"
    }
   ],
   "source": [
    "data = pd.read_csv('../../Old/CS 250 Data/Fish.csv')\n",
    "data.head()\n"
   ]
  },
  {
   "cell_type": "code",
   "execution_count": 13,
   "id": "28d5bdb0",
   "metadata": {},
   "outputs": [
    {
     "data": {
      "image/png": "[encoded data removed]",
      "text/plain": [
       "<Figure size 1600x800 with 1 Axes>"
      ]
     },
     "metadata": {},
     "output_type": "display_data"
    }
   ],
   "source": [
    "data = data.sample(frac=1.0)\n",
    "fig = plt.figure(figsize=(16,8))\n",
    "plt.bar(range(data.shape[0]),data.Length1)\n",
    "plt.show()"
   ]
  },
  {
   "cell_type": "code",
   "execution_count": 14,
   "id": "3249ea46",
   "metadata": {
    "scrolled": true
   },
   "outputs": [
    {
     "data": {
      "text/plain": [
       "array([[85.0, 18.2, 20.0, 21.0, 5.082, 2.772],\n",
       "       [340.0, 23.9, 26.5, 31.1, 12.3778, 4.6961],\n",
       "       [150.0, 20.5, 22.5, 24.0, 6.792, 3.624],\n",
       "       [290.0, 24.0, 26.3, 31.2, 12.48, 4.3056],\n",
       "       [150.0, 20.4, 22.0, 24.7, 5.8045, 3.7544],\n",
       "       [540.0, 40.1, 43.0, 45.8, 7.786, 5.1296],\n",
       "       [225.0, 22.0, 24.0, 25.5, 7.293, 3.723],\n",
       "       [160.0, 20.5, 22.5, 25.3, 7.0334, 3.8203],\n",
       "       [100.0, 16.2, 18.0, 19.2, 5.2224, 3.3216],\n",
       "       [950.0, 38.0, 41.0, 46.5, 17.6235, 6.3705],\n",
       "       [850.0, 36.9, 40.0, 42.3, 11.9286, 7.1064],\n",
       "       [345.0, 36.0, 38.5, 41.0, 6.396, 3.977],\n",
       "       [270.0, 24.1, 26.5, 29.3, 8.1454, 4.2485],\n",
       "       [69.0, 16.5, 18.2, 20.3, 5.2983, 2.8217],\n",
       "       [900.0, 37.0, 40.0, 42.5, 11.73, 7.225],\n",
       "       [272.0, 25.0, 27.0, 30.6, 8.568, 4.7736],\n",
       "       [8.7, 10.8, 11.3, 12.6, 1.9782, 1.2852],\n",
       "       [270.0, 23.6, 26.0, 28.7, 8.3804, 4.2476],\n",
       "       [160.0, 21.1, 22.5, 25.0, 6.4, 3.8],\n",
       "       [19.7, 13.2, 14.3, 15.2, 2.8728, 2.0672],\n",
       "       [273.0, 23.0, 25.0, 28.0, 11.088, 4.144],\n",
       "       [145.0, 19.8, 21.5, 24.1, 9.7364, 3.1571],\n",
       "       [600.0, 29.4, 32.0, 37.2, 14.9544, 5.1708],\n",
       "       [975.0, 37.4, 41.0, 45.9, 18.6354, 6.7473],\n",
       "       [10.0, 11.3, 11.8, 13.1, 2.2139, 1.2838],\n",
       "       [770.0, 44.8, 48.0, 51.2, 7.68, 5.376],\n",
       "       [680.0, 31.8, 35.0, 40.6, 15.4686, 6.1306],\n",
       "       [169.0, 22.0, 24.0, 27.2, 7.5344, 3.8352],\n",
       "       [80.0, 17.2, 19.0, 20.2, 5.6358, 3.0502],\n",
       "       [820.0, 36.6, 39.0, 41.3, 12.4313, 7.3514],\n",
       "       [85.0, 17.8, 19.6, 20.8, 5.1376, 3.0368],\n",
       "       [1000.0, 37.3, 40.0, 43.5, 12.354, 6.525],\n",
       "       [110.0, 20.0, 22.0, 23.5, 5.5225, 3.995],\n",
       "       [1100.0, 40.1, 43.0, 45.5, 12.5125, 7.4165],\n",
       "       [110.0, 19.0, 21.0, 22.5, 5.6925, 3.555],\n",
       "       [300.0, 34.8, 37.3, 39.8, 6.2884, 4.0198],\n",
       "       [430.0, 35.5, 38.0, 40.5, 7.29, 4.5765],\n",
       "       [218.0, 25.0, 26.5, 28.0, 7.168, 4.144],\n",
       "       [140.0, 19.0, 20.7, 23.2, 8.5376, 3.2944],\n",
       "       [170.0, 21.5, 23.5, 25.0, 6.275, 3.725],\n",
       "       [556.0, 32.0, 34.5, 36.5, 10.2565, 6.3875],\n",
       "       [720.0, 32.0, 35.0, 40.6, 16.3618, 6.09],\n",
       "       [820.0, 37.1, 40.0, 42.5, 11.135, 6.63],\n",
       "       [200.0, 30.0, 32.3, 34.8, 5.568, 3.3756],\n",
       "       [700.0, 30.4, 33.0, 38.3, 14.8604, 5.2854],\n",
       "       [145.0, 22.0, 24.0, 25.5, 6.375, 3.825],\n",
       "       [700.0, 31.9, 35.0, 40.5, 16.2405, 5.589],\n",
       "       [475.0, 28.4, 31.0, 36.2, 14.2628, 5.1042],\n",
       "       [500.0, 28.5, 30.7, 36.2, 14.2266, 4.9594],\n",
       "       [19.9, 13.8, 15.0, 16.2, 2.9322, 1.8792],\n",
       "       [170.0, 19.0, 20.7, 23.2, 9.396, 3.4104],\n",
       "       [500.0, 42.0, 45.0, 48.0, 6.96, 4.896],\n",
       "       [150.0, 21.0, 23.0, 24.5, 5.2185, 3.626],\n",
       "       [5.9, 7.5, 8.4, 8.8, 2.112, 1.408],\n",
       "       [690.0, 34.6, 37.0, 39.3, 10.5717, 6.3666],\n",
       "       [700.0, 34.5, 37.0, 39.4, 10.835, 6.2646],\n",
       "       [120.0, 20.0, 22.0, 23.5, 6.11, 3.4075],\n",
       "       [320.0, 27.8, 30.0, 31.6, 7.6156, 4.7716],\n",
       "       [850.0, 32.8, 36.0, 41.6, 16.8896, 6.1984],\n",
       "       [290.0, 24.0, 26.0, 29.2, 8.8768, 4.4968],\n",
       "       [145.0, 20.7, 22.7, 24.2, 5.9532, 3.63],\n",
       "       [7.5, 10.0, 10.5, 11.6, 1.972, 1.16],\n",
       "       [6.7, 9.3, 9.8, 10.8, 1.7388, 1.0476],\n",
       "       [130.0, 19.3, 21.3, 22.8, 6.384, 3.534],\n",
       "       [300.0, 24.0, 26.0, 29.0, 11.368, 4.234],\n",
       "       [950.0, 48.3, 51.7, 55.1, 8.9262, 6.1712],\n",
       "       [197.0, 23.5, 25.6, 27.0, 6.561, 4.239],\n",
       "       [600.0, 29.4, 32.0, 37.2, 15.438, 5.58],\n",
       "       [180.0, 23.6, 25.2, 27.9, 7.0866, 3.906],\n",
       "       [78.0, 17.5, 18.8, 21.2, 5.5756, 2.9044],\n",
       "       [1000.0, 39.8, 43.0, 45.2, 11.9328, 7.2772],\n",
       "       [260.0, 25.4, 27.5, 28.9, 7.1672, 4.335],\n",
       "       [87.0, 18.2, 19.8, 22.2, 5.6166, 3.1746],\n",
       "       [1600.0, 56.0, 60.0, 64.0, 9.6, 6.144],\n",
       "       [390.0, 27.6, 30.0, 35.0, 12.67, 4.69],\n",
       "       [200.0, 22.1, 23.5, 26.8, 7.3968, 4.1272],\n",
       "       [12.2, 11.5, 12.2, 13.4, 2.0904, 1.3936],\n",
       "       [900.0, 36.5, 39.0, 41.4, 11.1366, 7.4934],\n",
       "       [161.0, 22.0, 23.4, 26.7, 6.9153, 3.6312],\n",
       "       [925.0, 36.2, 39.5, 45.3, 18.7542, 6.7497],\n",
       "       [51.5, 15.0, 16.2, 17.2, 4.5924, 2.6316],\n",
       "       [685.0, 31.4, 34.0, 39.2, 15.9936, 5.3704],\n",
       "       [610.0, 30.9, 33.5, 38.6, 15.633, 5.1338],\n",
       "       [200.0, 21.2, 23.0, 25.8, 10.3458, 3.6636],\n",
       "       [500.0, 29.1, 31.5, 36.4, 13.7592, 4.368],\n",
       "       [60.0, 14.3, 15.5, 17.4, 6.5772, 2.3142],\n",
       "       [920.0, 35.0, 38.5, 44.1, 18.0369, 6.3063],\n",
       "       [1250.0, 52.0, 56.0, 59.7, 10.6863, 6.9849],\n",
       "       [1015.0, 37.0, 40.0, 42.4, 12.3808, 7.4624],\n",
       "       [1100.0, 39.0, 42.0, 44.6, 12.8002, 6.8684],\n",
       "       [250.0, 25.4, 27.5, 28.9, 7.2828, 4.5662],\n",
       "       [514.0, 30.5, 32.8, 34.0, 10.03, 6.018],\n",
       "       [90.0, 16.3, 17.7, 19.8, 7.4052, 2.673],\n",
       "       [650.0, 36.5, 39.0, 41.4, 11.1366, 6.003],\n",
       "       [9.8, 10.7, 11.2, 12.4, 2.0832, 1.2772],\n",
       "       [150.0, 18.4, 20.0, 22.4, 8.8928, 3.2928],\n",
       "       [120.0, 20.0, 22.0, 23.5, 5.64, 3.525],\n",
       "       [55.0, 13.5, 14.7, 16.5, 6.8475, 2.3265],\n",
       "       [567.0, 43.2, 46.0, 48.7, 7.792, 4.87],\n",
       "       [363.0, 26.3, 29.0, 33.5, 12.73, 4.4555],\n",
       "       [430.0, 26.5, 29.0, 34.0, 12.444, 5.134],\n",
       "       [725.0, 31.8, 35.0, 40.9, 16.36, 6.0532],\n",
       "       [125.0, 19.0, 21.0, 22.5, 5.6925, 3.6675],\n",
       "       [1650.0, 59.0, 63.4, 68.0, 10.812, 7.48],\n",
       "       [540.0, 28.5, 31.0, 34.0, 10.744, 6.562],\n",
       "       [0.0, 19.0, 20.5, 22.8, 6.4752, 3.3516],\n",
       "       [40.0, 12.9, 14.1, 16.2, 4.1472, 2.268],\n",
       "       [140.0, 21.0, 22.5, 25.0, 6.55, 3.325],\n",
       "       [188.0, 22.6, 24.6, 26.2, 6.7334, 4.1658],\n",
       "       [12.2, 12.1, 13.0, 13.8, 2.277, 1.2558],\n",
       "       [685.0, 34.0, 36.5, 39.0, 10.881, 6.864],\n",
       "       [1000.0, 40.2, 43.5, 46.0, 12.604, 8.142],\n",
       "       [300.0, 25.2, 27.3, 28.7, 8.323, 5.1373],\n",
       "       [340.0, 29.5, 32.0, 37.3, 13.9129, 5.0728],\n",
       "       [120.0, 18.6, 20.0, 22.2, 6.216, 3.5742],\n",
       "       [120.0, 19.4, 21.0, 23.7, 6.1146, 3.2943],\n",
       "       [575.0, 31.3, 34.0, 39.5, 15.1285, 5.5695],\n",
       "       [180.0, 23.0, 25.0, 26.5, 6.4395, 3.6835],\n",
       "       [306.0, 25.6, 28.0, 30.8, 8.778, 4.6816],\n",
       "       [242.0, 23.2, 25.4, 30.0, 11.52, 4.02],\n",
       "       [78.0, 16.8, 18.7, 19.4, 5.1992, 3.1234],\n",
       "       [130.0, 20.0, 22.0, 23.5, 6.11, 3.525],\n",
       "       [300.0, 31.7, 34.0, 37.8, 5.7078, 4.158],\n",
       "       [620.0, 31.5, 34.5, 39.7, 15.5227, 5.2801],\n",
       "       [1000.0, 33.5, 37.0, 42.6, 18.957, 6.603],\n",
       "       [265.0, 25.4, 27.5, 28.9, 7.0516, 4.335],\n",
       "       [115.0, 19.0, 21.0, 22.5, 5.9175, 3.3075],\n",
       "       [130.0, 20.5, 22.5, 24.0, 5.856, 3.624],\n",
       "       [9.9, 11.3, 11.8, 13.1, 2.2139, 1.1659],\n",
       "       [840.0, 32.5, 35.0, 37.3, 11.4884, 7.7957],\n",
       "       [700.0, 30.4, 33.0, 38.5, 14.938, 5.1975],\n",
       "       [110.0, 19.1, 20.8, 23.1, 6.1677, 3.3957],\n",
       "       [1550.0, 56.0, 60.0, 64.0, 9.6, 6.144],\n",
       "       [300.0, 32.7, 35.0, 38.8, 5.9364, 4.3844],\n",
       "       [13.4, 11.7, 12.4, 13.5, 2.43, 1.269],\n",
       "       [9.8, 11.4, 12.0, 13.2, 2.2044, 1.1484],\n",
       "       [456.0, 40.0, 42.5, 45.5, 7.28, 4.3225],\n",
       "       [7.0, 10.1, 10.6, 11.6, 1.7284, 1.1484],\n",
       "       [32.0, 12.5, 13.7, 14.7, 3.528, 1.9992],\n",
       "       [9.7, 10.4, 11.0, 12.0, 2.196, 1.38],\n",
       "       [40.0, 13.8, 15.0, 16.0, 3.824, 2.432],\n",
       "       [800.0, 33.7, 36.4, 39.6, 11.7612, 6.5736],\n",
       "       [450.0, 27.6, 30.0, 35.1, 14.0049, 4.8438],\n",
       "       [650.0, 31.0, 33.5, 38.7, 14.4738, 5.7276],\n",
       "       [450.0, 26.8, 29.7, 34.7, 13.6024, 4.9274],\n",
       "       [135.0, 20.0, 22.0, 23.5, 5.875, 3.525],\n",
       "       [500.0, 26.8, 29.7, 34.5, 14.1795, 5.2785],\n",
       "       [700.0, 34.0, 36.0, 38.3, 10.6091, 6.7408],\n",
       "       [250.0, 25.9, 28.0, 29.4, 7.8204, 4.2042],\n",
       "       [70.0, 15.7, 17.4, 18.5, 4.588, 2.9415],\n",
       "       [300.0, 26.9, 28.7, 30.1, 7.5852, 4.6354],\n",
       "       [714.0, 32.7, 36.0, 41.5, 16.517, 5.8515],\n",
       "       [1000.0, 41.1, 44.0, 46.6, 12.4888, 7.5958],\n",
       "       [390.0, 29.5, 31.7, 35.0, 9.485, 5.355],\n",
       "       [145.0, 20.5, 22.0, 24.3, 6.6339, 3.5478],\n",
       "       [510.0, 40.0, 42.5, 45.5, 6.825, 4.459],\n",
       "       [500.0, 28.7, 31.0, 36.2, 14.3714, 4.8146],\n",
       "       [955.0, 35.0, 38.5, 44.0, 18.084, 6.292],\n",
       "       [120.0, 17.5, 19.0, 21.3, 8.3922, 2.9181]], dtype=object)"
      ]
     },
     "execution_count": 14,
     "metadata": {},
     "output_type": "execute_result"
    }
   ],
   "source": [
    "train_part = 0.7\n",
    "species = data.Species\n",
    "species_count = species.value_counts()\n",
    "species = np.array(species)\n",
    "alldata = np.array(data)\n",
    "alldata = alldata[:,1:]\n",
    "alldata"
   ]
  },
  {
   "cell_type": "code",
   "execution_count": 15,
   "id": "9ae38504",
   "metadata": {},
   "outputs": [
    {
     "name": "stdout",
     "output_type": "stream",
     "text": [
      "(108, 6) (51, 6)\n"
     ]
    }
   ],
   "source": [
    "traindata = []\n",
    "testdata = []\n",
    "species\n",
    "row = 0\n",
    "for species in species_count.keys():\n",
    "    traincount = np.int16(train_part * species_count[species])\n",
    "    testcount = species_count[species] - traincount\n",
    "    for i in range(traincount):\n",
    "        traindata.append(alldata[row,:])\n",
    "        row = row + 1\n",
    "    for j in range(testcount):\n",
    "        testdata.append(alldata[row,:])\n",
    "        row = row + 1\n",
    "    \n",
    "traindata = np.array(traindata)\n",
    "testdata = np.array(testdata)\n",
    "\n",
    "print(traindata.shape,testdata.shape)\n",
    "        "
   ]
  },
  {
   "cell_type": "code",
   "execution_count": 17,
   "id": "d4d94e78",
   "metadata": {},
   "outputs": [],
   "source": [
    "X_train = traindata[:,1:]\n",
    "y_train = traindata[:,0]\n",
    "X_test = testdata[:,1:]\n",
    "y_test = testdata[:,0]"
   ]
  },
  {
   "cell_type": "code",
   "execution_count": 18,
   "id": "f060a1ec",
   "metadata": {},
   "outputs": [
    {
     "name": "stdout",
     "output_type": "stream",
     "text": [
      "Coefficients: \n",
      " [ 73.3703338  -30.84758054 -14.75873763  19.5746848   32.98411757]\n",
      "Root mean squared error: 119.73\n",
      "Variance score: 0.89\n"
     ]
    },
    {
     "data": {
      "image/png": "[encoded data removed]",
      "text/plain": [
       "<Figure size 640x480 with 1 Axes>"
      ]
     },
     "metadata": {},
     "output_type": "display_data"
    }
   ],
   "source": [
    "from sklearn.linear_model import LinearRegression\n",
    "from sklearn.metrics import mean_squared_error, r2_score\n",
    "\n",
    "# Create linear regression object\n",
    "regr = LinearRegression()\n",
    "\n",
    "# Train the model using the training sets\n",
    "regr.fit(X_train, y_train)\n",
    "\n",
    "# Make predictions using the testing set\n",
    "y_pred = regr.predict(X_test)\n",
    "\n",
    "# The coefficients\n",
    "print('Coefficients: \\n', regr.coef_)\n",
    "# The mean squared error\n",
    "print(\"Root mean squared error: %.2f\" % np.sqrt(mean_squared_error(y_test, y_pred)))\n",
    "# Explained variance score: 1 is perfect prediction\n",
    "print('Variance score: %.2f' % r2_score(y_test, y_pred))\n",
    "# Plot outputs\n",
    "plt.scatter(range(len(y_test)), y_test, color='green')\n",
    "plt.scatter(range(len(y_pred)), y_pred, color='red')\n",
    "plt.xticks(())\n",
    "plt.yticks(())\n",
    "plt.show()"
   ]
  },
  {
   "cell_type": "code",
   "execution_count": 19,
   "id": "2240081e",
   "metadata": {},
   "outputs": [
    {
     "name": "stdout",
     "output_type": "stream",
     "text": [
      "Coefficients: \n",
      " [ 73.3703338  -30.84758054 -14.75873763  19.5746848   32.98411757]\n",
      "Root mean squared error: 123.22\n",
      "Variance score: 0.88\n"
     ]
    },
    {
     "data": {
      "image/png": "[encoded data removed]",
      "text/plain": [
       "<Figure size 640x480 with 1 Axes>"
      ]
     },
     "metadata": {},
     "output_type": "display_data"
    }
   ],
   "source": [
    "# Make predictions using the training set\n",
    "y_pred = regr.predict(X_train)\n",
    "\n",
    "# The coefficients\n",
    "print('Coefficients: \\n', regr.coef_)\n",
    "# The mean squared error\n",
    "print(\"Root mean squared error: %.2f\" % np.sqrt(mean_squared_error(y_train, y_pred)))\n",
    "# Explained variance score: 1 is perfect prediction\n",
    "print('Variance score: %.2f' % r2_score(y_train, y_pred))\n",
    "# Plot outputs\n",
    "plt.scatter(range(len(y_train)), y_train, color='green')\n",
    "plt.scatter(range(len(y_pred)), y_pred, color='red')\n",
    "plt.xticks(())\n",
    "plt.yticks(())\n",
    "plt.show()\n"
   ]
  },
  {
   "cell_type": "code",
   "execution_count": null,
   "id": "f08b1a06",
   "metadata": {},
   "outputs": [],
   "source": []
  },
  {
   "cell_type": "code",
   "execution_count": null,
   "id": "6d68e1aa-1276-4e9b-b110-076cd3c6e2ec",
   "metadata": {},
   "outputs": [],
   "source": []
  }
 ],
 "metadata": {
  "kernelspec": {
   "display_name": "Python 3 (ipykernel)",
   "language": "python",
   "name": "python3"
  },
  "language_info": {
   "codemirror_mode": {
    "name": "ipython",
    "version": 3
   },
   "file_extension": ".py",
   "mimetype": "text/x-python",
   "name": "python",
   "nbconvert_exporter": "python",
   "pygments_lexer": "ipython3",
   "version": "3.9.12"
  }
 },
 "nbformat": 4,
 "nbformat_minor": 5
}
