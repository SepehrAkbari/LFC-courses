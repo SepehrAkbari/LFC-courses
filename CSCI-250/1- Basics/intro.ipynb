{
 "cells": [
  {
   "cell_type": "code",
   "execution_count": 1,
   "id": "fe0f3654-facc-4514-b811-daef9a6d8d85",
   "metadata": {},
   "outputs": [
    {
     "name": "stdout",
     "output_type": "stream",
     "text": [
      "Hello World!\n"
     ]
    }
   ],
   "source": [
    "print(\"Hello World!\")"
   ]
  },
  {
   "cell_type": "markdown",
   "id": "db931803-b791-4c70-ad82-3db87f2b5e42",
   "metadata": {},
   "source": [
    "# This is an introduction to Jupyter Lab"
   ]
  },
  {
   "cell_type": "code",
   "execution_count": 2,
   "id": "102e4d52-755f-4d24-bdbb-036769c21cb4",
   "metadata": {},
   "outputs": [],
   "source": [
    "import numpy as np\n",
    "import pandas as pd\n",
    "import matplotlib.pyplot as plt"
   ]
  },
  {
   "cell_type": "code",
   "execution_count": 3,
   "id": "e47c9be9-d36b-448e-8ffd-e9134cd7e6d9",
   "metadata": {},
   "outputs": [
    {
     "name": "stdout",
     "output_type": "stream",
     "text": [
      "<class 'list'>\n"
     ]
    }
   ],
   "source": [
    "a = [1,2,3]\n",
    "print(type(a))"
   ]
  },
  {
   "cell_type": "code",
   "execution_count": 4,
   "id": "90cb0851-7184-487b-8ae3-281e654213ab",
   "metadata": {},
   "outputs": [
    {
     "name": "stdout",
     "output_type": "stream",
     "text": [
      "<class 'numpy.ndarray'>\n"
     ]
    }
   ],
   "source": [
    "a_arr = np.array(a)\n",
    "print(type(a_arr))"
   ]
  },
  {
   "cell_type": "code",
   "execution_count": 5,
   "id": "a56961e2-131e-4142-8213-3a922caf393d",
   "metadata": {},
   "outputs": [
    {
     "name": "stdout",
     "output_type": "stream",
     "text": [
      "[1, 2, 3]\n",
      "[1 2 3]\n"
     ]
    }
   ],
   "source": [
    "print(a)\n",
    "print(a_arr)"
   ]
  },
  {
   "cell_type": "code",
   "execution_count": 6,
   "id": "2606b3db-5d58-482f-8c27-84307183e4ed",
   "metadata": {},
   "outputs": [
    {
     "data": {
      "text/plain": [
       "[[1, 2, 3], [4, 5, 6], [7, 8, 9]]"
      ]
     },
     "execution_count": 6,
     "metadata": {},
     "output_type": "execute_result"
    }
   ],
   "source": [
    "b = [[1,2,3],[4,5,6],[7,8,9]]\n",
    "b"
   ]
  },
  {
   "cell_type": "code",
   "execution_count": 7,
   "id": "50cc75e1-159f-432d-9d8d-696378cba225",
   "metadata": {},
   "outputs": [
    {
     "data": {
      "text/plain": [
       "array([[1, 2, 3],\n",
       "       [4, 5, 6],\n",
       "       [7, 8, 9]])"
      ]
     },
     "execution_count": 7,
     "metadata": {},
     "output_type": "execute_result"
    }
   ],
   "source": [
    "b_arr = np.array(b)\n",
    "b_arr"
   ]
  },
  {
   "cell_type": "code",
   "execution_count": 8,
   "id": "52aed037-90bb-4682-b9eb-76004afb43a4",
   "metadata": {},
   "outputs": [
    {
     "data": {
      "text/plain": [
       "3"
      ]
     },
     "execution_count": 8,
     "metadata": {},
     "output_type": "execute_result"
    }
   ],
   "source": [
    "b[0][2]"
   ]
  },
  {
   "cell_type": "code",
   "execution_count": 9,
   "id": "5d58e2f0-bd76-4ed8-98c2-5901e44bec96",
   "metadata": {},
   "outputs": [
    {
     "data": {
      "text/plain": [
       "3"
      ]
     },
     "execution_count": 9,
     "metadata": {},
     "output_type": "execute_result"
    }
   ],
   "source": [
    "b_arr[0,2]"
   ]
  },
  {
   "cell_type": "code",
   "execution_count": 10,
   "id": "cca6db7e-5648-4eeb-8019-9949badad3a1",
   "metadata": {},
   "outputs": [
    {
     "data": {
      "text/plain": [
       "(3, 3)"
      ]
     },
     "execution_count": 10,
     "metadata": {},
     "output_type": "execute_result"
    }
   ],
   "source": [
    "b_arr.shape"
   ]
  },
  {
   "cell_type": "code",
   "execution_count": 11,
   "id": "c119050d-46cf-4a88-be7a-cae1acfc5680",
   "metadata": {},
   "outputs": [
    {
     "data": {
      "text/plain": [
       "array([[0., 0., 0., 0.],\n",
       "       [0., 0., 0., 0.],\n",
       "       [0., 0., 0., 0.]])"
      ]
     },
     "execution_count": 11,
     "metadata": {},
     "output_type": "execute_result"
    }
   ],
   "source": [
    "c = np.zeros([3,4])\n",
    "c"
   ]
  },
  {
   "cell_type": "code",
   "execution_count": 12,
   "id": "fb4f8ec8-1f93-43d6-a42b-321c85b96a51",
   "metadata": {},
   "outputs": [
    {
     "data": {
      "text/plain": [
       "array([[1, 1, 1, 1, 1],\n",
       "       [1, 1, 1, 1, 1]], dtype=int16)"
      ]
     },
     "execution_count": 12,
     "metadata": {},
     "output_type": "execute_result"
    }
   ],
   "source": [
    "d = np.ones([2,5],'int16')\n",
    "d"
   ]
  },
  {
   "cell_type": "code",
   "execution_count": 13,
   "id": "b2e8e5e6-3f61-4578-a615-5fc8f9feed93",
   "metadata": {},
   "outputs": [
    {
     "data": {
      "text/plain": [
       "0.09535208034062614"
      ]
     },
     "execution_count": 13,
     "metadata": {},
     "output_type": "execute_result"
    }
   ],
   "source": [
    "import random\n",
    "random.random()\n",
    "#This is no longer needed"
   ]
  },
  {
   "cell_type": "code",
   "execution_count": 14,
   "id": "0b87eeab-ecce-4bfe-8038-18d1324a69c7",
   "metadata": {},
   "outputs": [
    {
     "data": {
      "text/plain": [
       "0.14490972493876142"
      ]
     },
     "execution_count": 14,
     "metadata": {},
     "output_type": "execute_result"
    }
   ],
   "source": [
    "np.random.random()"
   ]
  },
  {
   "cell_type": "code",
   "execution_count": 15,
   "id": "536f3d52-d201-46f9-b901-e420a7830507",
   "metadata": {},
   "outputs": [
    {
     "data": {
      "text/plain": [
       "2"
      ]
     },
     "execution_count": 15,
     "metadata": {},
     "output_type": "execute_result"
    }
   ],
   "source": [
    "random.randint(1,5)"
   ]
  },
  {
   "cell_type": "code",
   "execution_count": 16,
   "id": "60fc15d4-2f75-45f4-ab4e-cdb949f2d8d6",
   "metadata": {},
   "outputs": [
    {
     "data": {
      "text/plain": [
       "1"
      ]
     },
     "execution_count": 16,
     "metadata": {},
     "output_type": "execute_result"
    }
   ],
   "source": [
    "np.random.randint(1,5)"
   ]
  },
  {
   "cell_type": "code",
   "execution_count": 17,
   "id": "7903eafe-fe13-4761-ba59-a5d7faad5546",
   "metadata": {},
   "outputs": [
    {
     "data": {
      "text/plain": [
       "array([[0.12397914, 0.25852443, 0.96168398, 0.44154744],\n",
       "       [0.4744146 , 0.81840652, 0.96978589, 0.32852617],\n",
       "       [0.4116107 , 0.13540642, 0.45867104, 0.98436089]])"
      ]
     },
     "execution_count": 17,
     "metadata": {},
     "output_type": "execute_result"
    }
   ],
   "source": [
    "data = np.random.random([3,4])\n",
    "data"
   ]
  },
  {
   "cell_type": "code",
   "execution_count": 18,
   "id": "9515fd45-ff3b-43ea-9863-ca52348b3da3",
   "metadata": {},
   "outputs": [
    {
     "data": {
      "text/plain": [
       "array([[6, 6, 1],\n",
       "       [1, 5, 3]], dtype=uint8)"
      ]
     },
     "execution_count": 18,
     "metadata": {},
     "output_type": "execute_result"
    }
   ],
   "source": [
    "data = np.random.randint(1,7,[2,3],'uint8')\n",
    "data"
   ]
  },
  {
   "cell_type": "markdown",
   "id": "8708ea59-716a-4939-9fb2-39aa1aeef1e8",
   "metadata": {},
   "source": [
    "## Dictionaries"
   ]
  },
  {
   "cell_type": "code",
   "execution_count": 19,
   "id": "e9656a2d-99bf-49a5-b60c-d9828f7e1409",
   "metadata": {},
   "outputs": [
    {
     "name": "stdout",
     "output_type": "stream",
     "text": [
      "{'dog': 'puppy', 'cat': 'kitten', 'bear': 'cub'}\n"
     ]
    }
   ],
   "source": [
    "d = {\"dog\":\"puppy\",\"cat\":\"kitten\",\"bear\":\"cub\"}\n",
    "print(d)"
   ]
  },
  {
   "cell_type": "code",
   "execution_count": 20,
   "id": "7845c00c-bcf9-4dbb-b219-f8dbed8d559e",
   "metadata": {},
   "outputs": [
    {
     "data": {
      "text/plain": [
       "'kitten'"
      ]
     },
     "execution_count": 20,
     "metadata": {},
     "output_type": "execute_result"
    }
   ],
   "source": [
    "d['cat']\n"
   ]
  },
  {
   "cell_type": "code",
   "execution_count": 21,
   "id": "07f89119-6ee4-4ecf-b4dc-3778cbbcf4dd",
   "metadata": {},
   "outputs": [
    {
     "data": {
      "text/plain": [
       "dict_keys(['dog', 'cat', 'bear'])"
      ]
     },
     "execution_count": 21,
     "metadata": {},
     "output_type": "execute_result"
    }
   ],
   "source": [
    "d.keys()"
   ]
  },
  {
   "cell_type": "code",
   "execution_count": 22,
   "id": "b54ed87b-d549-4a75-8e02-0e01bd466a86",
   "metadata": {},
   "outputs": [
    {
     "data": {
      "text/plain": [
       "dict_values(['puppy', 'kitten', 'cub'])"
      ]
     },
     "execution_count": 22,
     "metadata": {},
     "output_type": "execute_result"
    }
   ],
   "source": [
    "d.values()"
   ]
  },
  {
   "cell_type": "code",
   "execution_count": 23,
   "id": "e8439fef-9447-4712-955e-a0674f56f74c",
   "metadata": {},
   "outputs": [
    {
     "name": "stdout",
     "output_type": "stream",
     "text": [
      "{'dog': 'puppy', 'cat': 'kitten', 'bear': 'cub', 'owl': 'owlet'}\n"
     ]
    }
   ],
   "source": [
    "d['owl'] = 'owlet'\n",
    "print(d)"
   ]
  },
  {
   "cell_type": "code",
   "execution_count": 24,
   "id": "2543efdc-b8d3-4d98-8918-770bc4b9e44a",
   "metadata": {},
   "outputs": [
    {
     "data": {
      "text/plain": [
       "{'apples': [3, 4, 2, 6], 'oranges': [5, 2, 0, 4], 'bananas': [4, 4, 3, 5]}"
      ]
     },
     "execution_count": 24,
     "metadata": {},
     "output_type": "execute_result"
    }
   ],
   "source": [
    "sales = {'apples':[3,4,2,6],'oranges':[5,2,0,4],'bananas':[4,4,3,5]}\n",
    "sales"
   ]
  },
  {
   "cell_type": "code",
   "execution_count": 25,
   "id": "4567ce20-5693-485f-b340-44d5b66b4900",
   "metadata": {},
   "outputs": [
    {
     "data": {
      "text/html": [
       "<div>\n",
       "<style scoped>\n",
       "    .dataframe tbody tr th:only-of-type {\n",
       "        vertical-align: middle;\n",
       "    }\n",
       "\n",
       "    .dataframe tbody tr th {\n",
       "        vertical-align: top;\n",
       "    }\n",
       "\n",
       "    .dataframe thead th {\n",
       "        text-align: right;\n",
       "    }\n",
       "</style>\n",
       "<table border=\"1\" class=\"dataframe\">\n",
       "  <thead>\n",
       "    <tr style=\"text-align: right;\">\n",
       "      <th></th>\n",
       "      <th>apples</th>\n",
       "      <th>oranges</th>\n",
       "      <th>bananas</th>\n",
       "    </tr>\n",
       "  </thead>\n",
       "  <tbody>\n",
       "    <tr>\n",
       "      <th>Sun</th>\n",
       "      <td>3</td>\n",
       "      <td>5</td>\n",
       "      <td>4</td>\n",
       "    </tr>\n",
       "    <tr>\n",
       "      <th>Mon</th>\n",
       "      <td>4</td>\n",
       "      <td>2</td>\n",
       "      <td>4</td>\n",
       "    </tr>\n",
       "    <tr>\n",
       "      <th>Tue</th>\n",
       "      <td>2</td>\n",
       "      <td>0</td>\n",
       "      <td>3</td>\n",
       "    </tr>\n",
       "    <tr>\n",
       "      <th>Wed</th>\n",
       "      <td>6</td>\n",
       "      <td>4</td>\n",
       "      <td>5</td>\n",
       "    </tr>\n",
       "  </tbody>\n",
       "</table>\n",
       "</div>"
      ],
      "text/plain": [
       "     apples  oranges  bananas\n",
       "Sun       3        5        4\n",
       "Mon       4        2        4\n",
       "Tue       2        0        3\n",
       "Wed       6        4        5"
      ]
     },
     "execution_count": 25,
     "metadata": {},
     "output_type": "execute_result"
    }
   ],
   "source": [
    "data = pd.DataFrame(sales,index=['Sun','Mon','Tue','Wed'])\n",
    "data.head()"
   ]
  },
  {
   "cell_type": "code",
   "execution_count": 26,
   "id": "d346d12e-de76-4b62-ae9d-c2a6dd8e487a",
   "metadata": {},
   "outputs": [
    {
     "data": {
      "text/plain": [
       "Sun    3\n",
       "Mon    4\n",
       "Tue    2\n",
       "Wed    6\n",
       "Name: apples, dtype: int64"
      ]
     },
     "execution_count": 26,
     "metadata": {},
     "output_type": "execute_result"
    }
   ],
   "source": [
    "data['apples']"
   ]
  },
  {
   "cell_type": "code",
   "execution_count": 27,
   "id": "4f221123-26d8-46f4-8f67-373cfefb3875",
   "metadata": {},
   "outputs": [
    {
     "data": {
      "text/plain": [
       "Sun    5\n",
       "Mon    2\n",
       "Tue    0\n",
       "Wed    4\n",
       "Name: oranges, dtype: int64"
      ]
     },
     "execution_count": 27,
     "metadata": {},
     "output_type": "execute_result"
    }
   ],
   "source": [
    "data.oranges"
   ]
  },
  {
   "cell_type": "code",
   "execution_count": 28,
   "id": "02c79642-8671-40a4-a13b-1d97d2419453",
   "metadata": {},
   "outputs": [
    {
     "name": "stdout",
     "output_type": "stream",
     "text": [
      "<class 'pandas.core.frame.DataFrame'>\n",
      "Index: 4 entries, Sun to Wed\n",
      "Data columns (total 3 columns):\n",
      " #   Column   Non-Null Count  Dtype\n",
      "---  ------   --------------  -----\n",
      " 0   apples   4 non-null      int64\n",
      " 1   oranges  4 non-null      int64\n",
      " 2   bananas  4 non-null      int64\n",
      "dtypes: int64(3)\n",
      "memory usage: 300.0+ bytes\n"
     ]
    }
   ],
   "source": [
    "data.info()"
   ]
  },
  {
   "cell_type": "code",
   "execution_count": 29,
   "id": "1b867854-0ba9-471d-8dbc-0eeb90b81a87",
   "metadata": {},
   "outputs": [
    {
     "data": {
      "text/plain": [
       "[<matplotlib.lines.Line2D at 0x12777c8e0>]"
      ]
     },
     "execution_count": 29,
     "metadata": {},
     "output_type": "execute_result"
    },
    {
     "data": {
      "image/png": "[encoded data removed]",
      "text/plain": [
       "<Figure size 640x480 with 1 Axes>"
      ]
     },
     "metadata": {},
     "output_type": "display_data"
    }
   ],
   "source": [
    "plt.plot(data.apples)"
   ]
  },
  {
   "cell_type": "code",
   "execution_count": 30,
   "id": "7967215e-a6b0-467b-89f0-e31c1603eeac",
   "metadata": {},
   "outputs": [
    {
     "data": {
      "text/plain": [
       "<matplotlib.collections.PathCollection at 0x127937190>"
      ]
     },
     "execution_count": 30,
     "metadata": {},
     "output_type": "execute_result"
    },
    {
     "data": {
      "image/png": "[encoded data removed]",
      "text/plain": [
       "<Figure size 640x480 with 1 Axes>"
      ]
     },
     "metadata": {},
     "output_type": "display_data"
    }
   ],
   "source": [
    "plt.scatter(data.apples,data.oranges)"
   ]
  },
  {
   "cell_type": "code",
   "execution_count": 31,
   "id": "3cc38c9d-b682-4e47-b7db-254340b713eb",
   "metadata": {},
   "outputs": [
    {
     "data": {
      "text/plain": [
       "<BarContainer object of 4 artists>"
      ]
     },
     "execution_count": 31,
     "metadata": {},
     "output_type": "execute_result"
    },
    {
     "data": {
      "image/png": "[encoded data removed]",
      "text/plain": [
       "<Figure size 640x480 with 1 Axes>"
      ]
     },
     "metadata": {},
     "output_type": "display_data"
    }
   ],
   "source": [
    "plt.bar(data.index,data.bananas,color='red')"
   ]
  },
  {
   "cell_type": "code",
   "execution_count": null,
   "id": "d827f5dc-533b-4956-8a69-0ca66dc94bb7",
   "metadata": {},
   "outputs": [],
   "source": []
  }
 ],
 "metadata": {
  "kernelspec": {
   "display_name": "Python 3",
   "language": "python",
   "name": "python3"
  },
  "language_info": {
   "codemirror_mode": {
    "name": "ipython",
    "version": 3
   },
   "file_extension": ".py",
   "mimetype": "text/x-python",
   "name": "python",
   "nbconvert_exporter": "python",
   "pygments_lexer": "ipython3",
   "version": "3.10.7"
  }
 },
 "nbformat": 4,
 "nbformat_minor": 5
}
