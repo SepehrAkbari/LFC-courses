{
 "cells": [
  {
   "cell_type": "code",
   "execution_count": null,
   "id": "e582a7f8-4fe9-444b-afd9-d6fd58080333",
   "metadata": {},
   "outputs": [],
   "source": [
    "import numpy as np\n",
    "import pandas as pd\n",
    "import matplotlib.pyplot as plt"
   ]
  },
  {
   "cell_type": "code",
   "execution_count": null,
   "id": "5323886a-250c-4036-8a9a-8d3a6a1589b9",
   "metadata": {},
   "outputs": [],
   "source": [
    "alldata = pd.read_csv('../data/Redfin/redfin_2023-03-19-11-44-03.csv')\n",
    "alldata.head()"
   ]
  },
  {
   "cell_type": "code",
   "execution_count": null,
   "id": "26128b02-5e0a-4ef8-a12b-56f5c0872a3d",
   "metadata": {},
   "outputs": [],
   "source": [
    "alldata.dtypes"
   ]
  },
  {
   "cell_type": "code",
   "execution_count": null,
   "id": "254562f2-a691-4052-9484-0af4aa96e390",
   "metadata": {},
   "outputs": [],
   "source": [
    "alldata.drop(['SOLD DATE','STATE OR PROVINCE', 'URL (SEE https://www.redfin.com/buy-a-home/comparative-market-analysis FOR INFO ON PRICING)'],axis = 1, inplace=True)\n",
    "alldata.dtypes"
   ]
  },
  {
   "cell_type": "code",
   "execution_count": null,
   "id": "2fdfde0a-2766-4bcb-884d-212b0b33d0f0",
   "metadata": {},
   "outputs": [],
   "source": [
    "alldata.shape"
   ]
  },
  {
   "cell_type": "code",
   "execution_count": null,
   "id": "2be759cf-e24e-4c62-814a-df3bfec6da2e",
   "metadata": {},
   "outputs": [],
   "source": [
    "#Coordinates of Lake Forest College\n",
    "home = (42.248803, -87.825757)\n"
   ]
  },
  {
   "cell_type": "code",
   "execution_count": null,
   "id": "784b8160-f15a-4d9f-8711-69ea8719289e",
   "metadata": {},
   "outputs": [],
   "source": [
    "fig = plt.figure(figsize=[16,8])\n",
    "\n",
    "ax1 = fig.add_subplot(1,3,1)\n",
    "ax1.scatter(alldata.LONGITUDE, alldata.LATITUDE, c = alldata['PRICE'], cmap='hot', alpha = 0.8)\n",
    "ax1.scatter(home[1], home[0], marker = '*', color='blue', s = 200)\n",
    "ax1.title.set_text(\"Home Prices by Location\")\n",
    "\n",
    "ax2 = fig.add_subplot(1,3,2)\n",
    "ax2.scatter(alldata.LONGITUDE, alldata.LATITUDE, c = alldata['SQUARE FEET'], cmap='hot', alpha = 0.8)\n",
    "ax2.scatter(home[1], home[0], marker = '*', color='blue', s = 200)\n",
    "ax2.title.set_text(\"Home Areas by Location\")\n",
    "\n",
    "ax3 = fig.add_subplot(1,3,3)\n",
    "ax3.scatter(alldata.LONGITUDE, alldata.LATITUDE, c = alldata['$/SQUARE FEET'], cmap='hot', alpha = 0.8)\n",
    "ax3.scatter(home[1], home[0], marker = '*', color='blue', s = 200)\n",
    "ax3.title.set_text(\"Home Price/Sq Feet by Location\")\n",
    "\n",
    "\n",
    "plt.show()"
   ]
  },
  {
   "cell_type": "code",
   "execution_count": null,
   "id": "31276bab-17ce-492c-9b5c-48d422e8ebc0",
   "metadata": {},
   "outputs": [],
   "source": [
    "fig = plt.figure(figsize=[8,16])\n",
    "\n",
    "plt.scatter(alldata.LONGITUDE, alldata.LATITUDE, marker = '^', c = alldata['PRICE'], s = (alldata['SQUARE FEET']*0.3), alpha = 0.4, cmap='hot')\n",
    "plt.scatter(home[1], home[0], marker = '^', color='blue', alpha = 0.4, s=(1100*0.3))\n",
    "# plt.title.set_text(\"Home Prices and Areas by Location\")\n",
    "plt.show()\n"
   ]
  },
  {
   "cell_type": "code",
   "execution_count": null,
   "id": "4c6a7f55-cccc-4ee3-b346-5f3fb6c11b53",
   "metadata": {},
   "outputs": [],
   "source": [
    "import seaborn as sb\n",
    "\n",
    "fig = plt.figure(figsize=[10,8])\n",
    "\n",
    "sb.heatmap(alldata.corr(), annot=True, fmt='0.1f', cmap = 'jet')\n",
    "\n",
    "plt.show()\n",
    "\n"
   ]
  },
  {
   "cell_type": "code",
   "execution_count": null,
   "id": "9a667d52-3a5c-44a1-9f44-18f52c7e4c31",
   "metadata": {},
   "outputs": [],
   "source": [
    "# To calculate geographic distance\n",
    "from geopy import distance\n",
    "\n",
    "dists = []\n",
    "for coords in zip(alldata.LATITUDE, alldata.LONGITUDE):\n",
    "    dists.append(distance.distance(home, coords).miles)\n",
    "\n",
    "dists = np.array(dists)\n",
    "idx = np.argsort(dists)\n",
    "dists[idx]\n",
    "\n",
    "plt.plot(dists[idx])\n",
    "plt.show()"
   ]
  },
  {
   "cell_type": "code",
   "execution_count": null,
   "id": "93fa549a-144d-40c3-9856-fd87fcf43cb1",
   "metadata": {},
   "outputs": [],
   "source": [
    "alldata['DISTANCE'] = dists"
   ]
  },
  {
   "cell_type": "code",
   "execution_count": null,
   "id": "9939e626-986f-483b-8654-0c19d6835cbf",
   "metadata": {},
   "outputs": [],
   "source": [
    "fig = plt.figure(figsize=[16,8])\n",
    "\n",
    "plt.scatter(alldata['DISTANCE'], alldata['PRICE'], c = alldata['ZIP OR POSTAL CODE'], cmap = 'nipy_spectral' )\n",
    "\n",
    "plt.colorbar(ticks=alldata['ZIP OR POSTAL CODE'].unique())\n",
    "\n",
    "plt.show()"
   ]
  },
  {
   "cell_type": "code",
   "execution_count": null,
   "id": "5f69fea4-a408-45db-8dba-f9f3c916160c",
   "metadata": {},
   "outputs": [],
   "source": [
    "zipdata = alldata['ZIP OR POSTAL CODE']\n",
    "\n",
    "uniquelabels = zipdata.unique()\n",
    "cleanup_nums = dict(zip(uniquelabels,range(len(uniquelabels))))\n",
    "zipdata = zipdata.replace(cleanup_nums, inplace=False)\n",
    "\n",
    "fig = plt.figure(figsize=[16,8])\n",
    "\n",
    "plt.scatter(alldata['DISTANCE'], alldata['PRICE'], c = zipdata, cmap = 'nipy_spectral' )\n",
    "\n",
    "plt.colorbar(ticks=zipdata)\n",
    "\n",
    "plt.show()"
   ]
  },
  {
   "cell_type": "code",
   "execution_count": null,
   "id": "3e0710e7-b746-480f-ae0b-21b8bd4d8faf",
   "metadata": {},
   "outputs": [],
   "source": [
    "alldata['PROPERTY TYPE'].unique()"
   ]
  },
  {
   "cell_type": "code",
   "execution_count": null,
   "id": "1ec46ec8-b639-4dc8-8a09-3e5426b0535c",
   "metadata": {},
   "outputs": [],
   "source": [
    "plt.hist(alldata.PRICE)\n",
    "plt.show()"
   ]
  },
  {
   "cell_type": "code",
   "execution_count": null,
   "id": "bc8e7013-ef55-4881-b302-0938d6958a82",
   "metadata": {},
   "outputs": [],
   "source": [
    "plt.hist(alldata['SQUARE FEET'])\n",
    "plt.show()"
   ]
  },
  {
   "cell_type": "code",
   "execution_count": null,
   "id": "e23018fa-58ec-47b2-9337-f49a1026b3e3",
   "metadata": {},
   "outputs": [],
   "source": [
    "plt.hist(alldata['$/SQUARE FEET'])\n",
    "plt.show()"
   ]
  },
  {
   "cell_type": "code",
   "execution_count": null,
   "id": "848114a2-0c97-48d1-b28d-43f511a3d02f",
   "metadata": {},
   "outputs": [],
   "source": [
    "alldata.isna().sum()"
   ]
  },
  {
   "cell_type": "code",
   "execution_count": null,
   "id": "872d06af-b9ea-464e-8281-53be173e4297",
   "metadata": {},
   "outputs": [],
   "source": [
    "alldata['HOA/MONTH'] = alldata['HOA/MONTH'].fillna(0)\n",
    "alldata.drop(['LOT SIZE','MLS#','FAVORITE','INTERESTED'],axis=1,inplace=True)\n"
   ]
  },
  {
   "cell_type": "code",
   "execution_count": null,
   "id": "4e76762a-7e3e-49a7-8870-ed7253efc1fe",
   "metadata": {},
   "outputs": [],
   "source": [
    "alldata = alldata.dropna(subset=['SQUARE FEET'])\n",
    "alldata = alldata.dropna(subset=['YEAR BUILT'])\n",
    "\n",
    "alldata.isna().sum()"
   ]
  },
  {
   "cell_type": "code",
   "execution_count": null,
   "id": "d4876ac2-d133-4d9a-8a3e-5212c1cf5700",
   "metadata": {},
   "outputs": [],
   "source": [
    "alldata = alldata.reset_index()\n",
    "alldata.drop(['index'], axis = 1, inplace=True)\n",
    "alldata.head()"
   ]
  },
  {
   "cell_type": "code",
   "execution_count": null,
   "id": "1ef1475e-f518-43da-8ee1-8a7e84b04f17",
   "metadata": {},
   "outputs": [],
   "source": [
    "X = alldata[['LONGITUDE','LATITUDE','SQUARE FEET','YEAR BUILT']]\n",
    "X.head()\n",
    "y = alldata.PRICE\n",
    "X = np.array(X)\n",
    "y = np.array(y)"
   ]
  },
  {
   "cell_type": "code",
   "execution_count": null,
   "id": "83882303-2400-4832-95db-bbee1c1b88a9",
   "metadata": {},
   "outputs": [],
   "source": [
    "from sklearn.model_selection import train_test_split\n",
    "\n",
    "X_train,  X_test, y_train, y_test = train_test_split(X, y, test_size=0.2, random_state=42)\n"
   ]
  },
  {
   "cell_type": "code",
   "execution_count": null,
   "id": "0c7dfadd-1908-4ac6-a5c8-14224424eeaa",
   "metadata": {},
   "outputs": [],
   "source": [
    "from sklearn.linear_model import LinearRegression\n",
    "\n",
    "model = LinearRegression()\n",
    "model.fit(X_train,y_train)\n"
   ]
  },
  {
   "cell_type": "code",
   "execution_count": null,
   "id": "4bd310ee-6a41-4709-8815-a6a80b7a14af",
   "metadata": {},
   "outputs": [],
   "source": [
    "from sklearn.metrics import mean_squared_error, r2_score\n",
    "\n",
    "# Make predictions using the testing set\n",
    "y_pred = model.predict(X_test)\n",
    "\n",
    "# The coefficients\n",
    "print('Coefficients: \\n', model.coef_)\n",
    "\n",
    "# The mean squared error\n",
    "print(\"Root mean squared error: %.2f\" % mean_squared_error(y_test, y_pred, squared=False))\n",
    "\n",
    "# Explained variance score: 1 is perfect prediction\n",
    "print('Variance score: %.2f' % r2_score(y_test, y_pred))\n",
    "\n",
    "# Plot outputs\n",
    "fig=plt.figure(figsize=(16, 8))\n",
    "plt.scatter(range(len(y_test)), y_test, color='green')\n",
    "plt.scatter(range(len(y_pred)), y_pred, color='red')\n",
    "plt.show()"
   ]
  },
  {
   "cell_type": "code",
   "execution_count": null,
   "id": "94138f72-cda8-4d15-92cf-f59ba4ea22f1",
   "metadata": {},
   "outputs": [],
   "source": []
  }
 ],
 "metadata": {
  "kernelspec": {
   "display_name": "Python 3 (ipykernel)",
   "language": "python",
   "name": "python3"
  },
  "language_info": {
   "codemirror_mode": {
    "name": "ipython",
    "version": 3
   },
   "file_extension": ".py",
   "mimetype": "text/x-python",
   "name": "python",
   "nbconvert_exporter": "python",
   "pygments_lexer": "ipython3",
   "version": "3.8.13"
  }
 },
 "nbformat": 4,
 "nbformat_minor": 5
}
